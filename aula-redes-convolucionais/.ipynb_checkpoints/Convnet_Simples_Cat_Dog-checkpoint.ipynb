{
 "cells": [
  {
   "cell_type": "code",
   "execution_count": null,
   "metadata": {
    "colab": {
     "base_uri": "https://localhost:8080/",
     "height": 34
    },
    "executionInfo": {
     "elapsed": 1365,
     "status": "ok",
     "timestamp": 1602783334497,
     "user": {
      "displayName": "Gustavo Escola",
      "photoUrl": "https://lh3.googleusercontent.com/a-/AOh14GgPSiBDlD-UnC1txgfNnPNY44f2AO3ui_yxZmc5=s64",
      "userId": "06538377998761180135"
     },
     "user_tz": 180
    },
    "id": "7HhDg_wdOY2z",
    "outputId": "43e8e48d-a8ce-4e34-9dbc-aa81ccc26fbc"
   },
   "outputs": [],
   "source": [
    "cd C:\\Users\\Avell\\Aula1"
   ]
  },
  {
   "cell_type": "markdown",
   "metadata": {
    "id": "5GhRR_s4Ik6R"
   },
   "source": [
    "##Introdução a CONVNETS (Redes Neurias Convolucionais)\n",
    "\n",
    "Estamos prestes a mergulhar na teoria do que são os convnets e por que eles têm tanto sucesso em tarefas de visão computacional. Mas, primeiro, vamos dar uma olhada prática em um exemplo simples de convnet. Vamos treinar uma Convnet do zero para um pequeno conjunto de dados.\n",
    "Ter que treinar um modelo de classificação de imagem usando muito poucos dados é uma situação comum, que você provavelmente encontrará na prática se fizer visão computacional em um contexto profissional. Algumas “poucas” amostras podem significar de algumas centenas a algumas dezenas de milhares de imagens. Como um exemplo prático, vamos nos concentrar na classificação de imagens como cães ou gatos, em um conjunto de dados contendo 3.000 fotos de gatos e cães (1.500 gatos, 1.500 cães). Nós usaremos 2.000 imagens para treinar e 1000 para validar.\n",
    "\n",
    "As linhas de código a seguir mostram a aparência de um convnet básico. É uma pilha de camadas Conv2D e MaxPooling2D. Você verá em um minuto exatamente o que eles fazem."
   ]
  },
  {
   "cell_type": "markdown",
   "metadata": {
    "id": "TF4mZGOUPa36"
   },
   "source": [
    "## Seção 1\n",
    "Nesta seção, revisaremos uma estratégia básica para resolver esse problema: treinar um novo modelo do zero usando os poucos dados que você tem. Você vai começar treinando ingenuamente um pequeno convnet nas 2.000 amostras de treinamento, sem qualquer regularização, para definir uma linha de base para o que pode ser alcançado.\n",
    "Isso o levará a uma precisão de classificação de 71%. Nesse ponto, o principal problema será o ***overfitting***. Em seguida, apresentaremos a ***data augmentation***, uma técnica poderosa para mitigar o sobreajuste na visão computacional. Ao usar o aumento de dados, você melhorará a rede para alcançar uma precisão de 82%.\n",
    "\n",
    "Na próxima seção, revisaremos mais duas técnicas essenciais para a aplicação de aprendizado profundo em pequenos conjuntos de dados: extração de recursos com uma rede pré-treinada (que o levará a uma precisão de 90% a 96%) e ajuste fino de uma rede pré-treinada ( isso o levará a uma precisão final de 97%). Juntas, essas três estratégias - treinar um pequeno modelo do zero, fazer extração de recursos usando um modelo pré-treinado e fazer o ajuste fino de um modelo pré-treinado - constituirão sua caixa de ferramentas futura para lidar com o problema de desempenho na classificação de imagens com pequenos conjuntos de dados.\n"
   ]
  },
  {
   "cell_type": "code",
   "execution_count": 1,
   "metadata": {},
   "outputs": [
    {
     "name": "stdout",
     "output_type": "stream",
     "text": [
      "Collecting package metadata (current_repodata.json): ...working... done\n",
      "Solving environment: ...working... done\n",
      "\n",
      "## Package Plan ##\n",
      "\n",
      "  environment location: C:\\Users\\Avell\\anaconda3\\envs\\IA\n",
      "\n",
      "  added / updated specs:\n",
      "    - python=3.7\n",
      "\n",
      "\n",
      "The following packages will be downloaded:\n",
      "\n",
      "    package                    |            build\n",
      "    ---------------------------|-----------------\n",
      "    ca-certificates-2022.9.14  |       h5b45459_0         189 KB  conda-forge\n",
      "    libsqlite-3.39.3           |       hcfcfb64_0         642 KB  conda-forge\n",
      "    openssl-3.0.5              |       hcfcfb64_2         7.8 MB  conda-forge\n",
      "    pip-22.2.2                 |     pyhd8ed1ab_0         1.5 MB  conda-forge\n",
      "    python-3.7.12              |h900ac77_100_cpython        18.0 MB  conda-forge\n",
      "    python_abi-3.7             |          2_cp37m           4 KB  conda-forge\n",
      "    setuptools-65.3.0          |   py37h03978a9_0         1.4 MB  conda-forge\n",
      "    sqlite-3.39.3              |       hcfcfb64_0         656 KB  conda-forge\n",
      "    ucrt-10.0.20348.0          |       h57928b3_0         1.2 MB  conda-forge\n",
      "    vc-14.2                    |       hb210afc_7          14 KB  conda-forge\n",
      "    vs2015_runtime-14.29.30139 |       h890b9b1_7         1.3 MB  conda-forge\n",
      "    wheel-0.37.1               |     pyhd8ed1ab_0          31 KB  conda-forge\n",
      "    ------------------------------------------------------------\n",
      "                                           Total:        32.8 MB\n",
      "\n",
      "The following NEW packages will be INSTALLED:\n",
      "\n",
      "  ca-certificates    conda-forge/win-64::ca-certificates-2022.9.14-h5b45459_0\n",
      "  libsqlite          conda-forge/win-64::libsqlite-3.39.3-hcfcfb64_0\n",
      "  openssl            conda-forge/win-64::openssl-3.0.5-hcfcfb64_2\n",
      "  pip                conda-forge/noarch::pip-22.2.2-pyhd8ed1ab_0\n",
      "  python             conda-forge/win-64::python-3.7.12-h900ac77_100_cpython\n",
      "  python_abi         conda-forge/win-64::python_abi-3.7-2_cp37m\n",
      "  setuptools         conda-forge/win-64::setuptools-65.3.0-py37h03978a9_0\n",
      "  sqlite             conda-forge/win-64::sqlite-3.39.3-hcfcfb64_0\n",
      "  ucrt               conda-forge/win-64::ucrt-10.0.20348.0-h57928b3_0\n",
      "  vc                 conda-forge/win-64::vc-14.2-hb210afc_7\n",
      "  vs2015_runtime     conda-forge/win-64::vs2015_runtime-14.29.30139-h890b9b1_7\n",
      "  wheel              conda-forge/noarch::wheel-0.37.1-pyhd8ed1ab_0\n",
      "\n",
      "\n",
      "\n",
      "Downloading and Extracting Packages\n",
      "\n",
      "ca-certificates-2022 | 189 KB    |            |   0% \n",
      "ca-certificates-2022 | 189 KB    | 8          |   8% \n",
      "ca-certificates-2022 | 189 KB    | ########## | 100% \n",
      "\n",
      "ucrt-10.0.20348.0    | 1.2 MB    |            |   0% \n",
      "ucrt-10.0.20348.0    | 1.2 MB    | ###7       |  37% \n",
      "ucrt-10.0.20348.0    | 1.2 MB    | ########## | 100% \n",
      "ucrt-10.0.20348.0    | 1.2 MB    | ########## | 100% \n",
      "\n",
      "libsqlite-3.39.3     | 642 KB    |            |   0% \n",
      "libsqlite-3.39.3     | 642 KB    | ########## | 100% \n",
      "libsqlite-3.39.3     | 642 KB    | ########## | 100% \n",
      "\n",
      "openssl-3.0.5        | 7.8 MB    |            |   0% \n",
      "openssl-3.0.5        | 7.8 MB    | 9          |  10% \n",
      "openssl-3.0.5        | 7.8 MB    | ###3       |  33% \n",
      "openssl-3.0.5        | 7.8 MB    | #####9     |  60% \n",
      "openssl-3.0.5        | 7.8 MB    | ########1  |  82% \n",
      "openssl-3.0.5        | 7.8 MB    | ########## | 100% \n",
      "\n",
      "wheel-0.37.1         | 31 KB     |            |   0% \n",
      "wheel-0.37.1         | 31 KB     | ########## | 100% \n",
      "\n",
      "vc-14.2              | 14 KB     |            |   0% \n",
      "vc-14.2              | 14 KB     | ########## | 100% \n",
      "\n",
      "setuptools-65.3.0    | 1.4 MB    |            |   0% \n",
      "setuptools-65.3.0    | 1.4 MB    | ######7    |  68% \n",
      "setuptools-65.3.0    | 1.4 MB    | ########## | 100% \n",
      "\n",
      "python-3.7.12        | 18.0 MB   |            |   0% \n",
      "python-3.7.12        | 18.0 MB   |            |   0% \n",
      "python-3.7.12        | 18.0 MB   | 6          |   6% \n",
      "python-3.7.12        | 18.0 MB   | #3         |  14% \n",
      "python-3.7.12        | 18.0 MB   | ##         |  21% \n",
      "python-3.7.12        | 18.0 MB   | ##8        |  29% \n",
      "python-3.7.12        | 18.0 MB   | ###8       |  39% \n",
      "python-3.7.12        | 18.0 MB   | ####7      |  48% \n",
      "python-3.7.12        | 18.0 MB   | #####6     |  57% \n",
      "python-3.7.12        | 18.0 MB   | ######6    |  67% \n",
      "python-3.7.12        | 18.0 MB   | #######6   |  76% \n",
      "python-3.7.12        | 18.0 MB   | ########4  |  85% \n",
      "python-3.7.12        | 18.0 MB   | #########2 |  93% \n",
      "python-3.7.12        | 18.0 MB   | ########## | 100% \n",
      "\n",
      "python_abi-3.7       | 4 KB      |            |   0% \n",
      "python_abi-3.7       | 4 KB      | ########## | 100% \n",
      "\n",
      "vs2015_runtime-14.29 | 1.3 MB    |            |   0% \n",
      "vs2015_runtime-14.29 | 1.3 MB    | #######9   |  79% \n",
      "vs2015_runtime-14.29 | 1.3 MB    | ########## | 100% \n",
      "\n",
      "sqlite-3.39.3        | 656 KB    |            |   0% \n",
      "sqlite-3.39.3        | 656 KB    | ########## | 100% \n",
      "sqlite-3.39.3        | 656 KB    | ########## | 100% \n",
      "\n",
      "pip-22.2.2           | 1.5 MB    |            |   0% \n",
      "pip-22.2.2           | 1.5 MB    | ###9       |  40% \n",
      "pip-22.2.2           | 1.5 MB    | ########## | 100% \n",
      "pip-22.2.2           | 1.5 MB    | ########## | 100% \n",
      "Preparing transaction: ...working... done\n",
      "Verifying transaction: ...working... done\n",
      "Executing transaction: ...working... done\n"
     ]
    },
    {
     "name": "stderr",
     "output_type": "stream",
     "text": [
      "\n",
      "\n",
      "==> WARNING: A newer version of conda exists. <==\n",
      "  current version: 4.12.0\n",
      "  latest version: 4.14.0\n",
      "\n",
      "Please update conda by running\n",
      "\n",
      "    $ conda update -n base -c defaults conda\n",
      "\n",
      "\n"
     ]
    }
   ],
   "source": [
    "!conda install python=3.7 -y"
   ]
  },
  {
   "cell_type": "code",
   "execution_count": 1,
   "metadata": {
    "executionInfo": {
     "elapsed": 8215,
     "status": "ok",
     "timestamp": 1602783345616,
     "user": {
      "displayName": "Gustavo Escola",
      "photoUrl": "https://lh3.googleusercontent.com/a-/AOh14GgPSiBDlD-UnC1txgfNnPNY44f2AO3ui_yxZmc5=s64",
      "userId": "06538377998761180135"
     },
     "user_tz": 180
    },
    "id": "oDFIlDE2Hevx"
   },
   "outputs": [],
   "source": [
    "#Importato as bibliotecas e criando nossa CONVNET\n",
    "from keras.layers import Conv2D, MaxPooling2D, Dense, Flatten\n",
    "from keras import models\n",
    "\n",
    "\n",
    "model = models.Sequential()\n",
    "\n",
    "model.add(Conv2D(32, (3,3), activation='relu', input_shape=(150, 150, 3)))\n",
    "model.add(MaxPooling2D((2, 2)))\n",
    "model.add(Conv2D(64, (3,3), activation='relu'))\n",
    "model.add(MaxPooling2D((2, 2)))\n",
    "model.add(Conv2D(12, (3,3), activation='relu'))\n",
    "model.add(MaxPooling2D((2, 2)))\n",
    "model.add(Conv2D(12, (3,3), activation='relu'))\n",
    "model.add(MaxPooling2D((2, 2)))\n",
    "model.add(Flatten())\n",
    "model.add(Dense(51, activation='relu'))\n",
    "model.add(Dense(1, activation='sigmoid'))\n",
    "\n"
   ]
  },
  {
   "cell_type": "markdown",
   "metadata": {
    "id": "MRwzIJyEKYKY"
   },
   "source": [
    "Vejamos como as dimensões dos mapas de características mudam com cada camada sucessiva:"
   ]
  },
  {
   "cell_type": "code",
   "execution_count": 2,
   "metadata": {
    "colab": {
     "base_uri": "https://localhost:8080/",
     "height": 527
    },
    "executionInfo": {
     "elapsed": 978,
     "status": "ok",
     "timestamp": 1602783350113,
     "user": {
      "displayName": "Gustavo Escola",
      "photoUrl": "https://lh3.googleusercontent.com/a-/AOh14GgPSiBDlD-UnC1txgfNnPNY44f2AO3ui_yxZmc5=s64",
      "userId": "06538377998761180135"
     },
     "user_tz": 180
    },
    "id": "mAbQOSeOR4Vn",
    "outputId": "15ee456a-5f73-4f84-ac04-7187669c1303"
   },
   "outputs": [
    {
     "name": "stdout",
     "output_type": "stream",
     "text": [
      "Model: \"sequential\"\n",
      "_________________________________________________________________\n",
      " Layer (type)                Output Shape              Param #   \n",
      "=================================================================\n",
      " conv2d (Conv2D)             (None, 148, 148, 32)      896       \n",
      "                                                                 \n",
      " max_pooling2d (MaxPooling2D  (None, 74, 74, 32)       0         \n",
      " )                                                               \n",
      "                                                                 \n",
      " conv2d_1 (Conv2D)           (None, 72, 72, 64)        18496     \n",
      "                                                                 \n",
      " max_pooling2d_1 (MaxPooling  (None, 36, 36, 64)       0         \n",
      " 2D)                                                             \n",
      "                                                                 \n",
      " conv2d_2 (Conv2D)           (None, 34, 34, 128)       73856     \n",
      "                                                                 \n",
      " max_pooling2d_2 (MaxPooling  (None, 17, 17, 128)      0         \n",
      " 2D)                                                             \n",
      "                                                                 \n",
      " conv2d_3 (Conv2D)           (None, 15, 15, 128)       147584    \n",
      "                                                                 \n",
      " max_pooling2d_3 (MaxPooling  (None, 7, 7, 128)        0         \n",
      " 2D)                                                             \n",
      "                                                                 \n",
      " flatten (Flatten)           (None, 6272)              0         \n",
      "                                                                 \n",
      " dense (Dense)               (None, 512)               3211776   \n",
      "                                                                 \n",
      " dense_1 (Dense)             (None, 1)                 513       \n",
      "                                                                 \n",
      "=================================================================\n",
      "Total params: 3,453,121\n",
      "Trainable params: 3,453,121\n",
      "Non-trainable params: 0\n",
      "_________________________________________________________________\n"
     ]
    }
   ],
   "source": [
    "model.summary()"
   ]
  },
  {
   "cell_type": "markdown",
   "metadata": {
    "id": "0HxMJseMKsqA"
   },
   "source": [
    "## Compilando o Modelo para Treinamento\n",
    "\n",
    "Para a etapa de compilação, isaremos como otimizador RMSprop. \n",
    "Devido ser um problema de classificação binária, temos que colocar apenas 1 neurônio na camada de saída, sendo assim, a função de ativação a ser utilizada será a sigmóide e a Loos function, será a binary-crossentropy. Segue a tabela abaixo para utilizá-la como referência.\n",
    "\n",
    "\n",
    "![image.png](data:image/png;base64,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)"
   ]
  },
  {
   "cell_type": "code",
   "execution_count": 3,
   "metadata": {
    "executionInfo": {
     "elapsed": 996,
     "status": "ok",
     "timestamp": 1602783354883,
     "user": {
      "displayName": "Gustavo Escola",
      "photoUrl": "https://lh3.googleusercontent.com/a-/AOh14GgPSiBDlD-UnC1txgfNnPNY44f2AO3ui_yxZmc5=s64",
      "userId": "06538377998761180135"
     },
     "user_tz": 180
    },
    "id": "qI2Eb64aLvox"
   },
   "outputs": [],
   "source": [
    "from keras import optimizers\n",
    "\n",
    "model.compile(loss='binary_crossentropy',\n",
    "              optimizer='adam',\n",
    "              metrics=['acc'])"
   ]
  },
  {
   "cell_type": "markdown",
   "metadata": {
    "id": "sWFLJJ87PFAG"
   },
   "source": [
    "## Processando os Dados\n",
    "\n",
    "Como já sabemos, os dados devem ser formatados em tensores de ponto flutuante pré-processados apropriadamente antes de serem alimentados na rede. Atualmente, os dados ficam em uma unidade como arquivos JPEG, então as etapas para colocá-los na rede são aproximadamente as seguintes:\n",
    "1 Leia os arquivos de imagem.\n",
    "2 Decodifique o conteúdo JPEG para grades RGB de pixels.\n",
    "3 Converta-os em tensores de ponto flutuante.\n",
    "4 Redimensione os valores de pixel (entre 0 e 255) para o intervalo [0, 1] (como já sabemos, as redes neurais preferem lidar com pequenos valores de entrada).\n",
    "\n",
    "O **Keras** tem utilitários para cuidar dessas etapas automaticamente. **Keras** tem um módulo com ferramentas auxiliares de processamento de imagem, localizado em ***keras.preprocessing.image***. Em particular, ele contém a classe ***ImageDataGenerator***, que permite configurar geradores Python que podem transformar automaticamente arquivos de imagem no disco em lotes de tensores pré-processados. Isso é o que vamos usar."
   ]
  },
  {
   "cell_type": "code",
   "execution_count": 4,
   "metadata": {
    "colab": {
     "base_uri": "https://localhost:8080/",
     "height": 51
    },
    "executionInfo": {
     "elapsed": 14746,
     "status": "ok",
     "timestamp": 1602783373349,
     "user": {
      "displayName": "Gustavo Escola",
      "photoUrl": "https://lh3.googleusercontent.com/a-/AOh14GgPSiBDlD-UnC1txgfNnPNY44f2AO3ui_yxZmc5=s64",
      "userId": "06538377998761180135"
     },
     "user_tz": 180
    },
    "id": "tzPTMKlbMdzj",
    "outputId": "fff52652-7b8c-4e8f-fa78-852bfb22566d"
   },
   "outputs": [
    {
     "name": "stdout",
     "output_type": "stream",
     "text": [
      "Found 10 images belonging to 2 classes.\n",
      "Found 10 images belonging to 2 classes.\n"
     ]
    }
   ],
   "source": [
    "from keras.preprocessing.image import ImageDataGenerator\n",
    "\n",
    "#Convertendo o tamanho das imagens\n",
    "train_datagen = ImageDataGenerator(rescale = 1./255)\n",
    "validation_datagen = ImageDataGenerator(rescale = 1./255)\n",
    "\n",
    "train_generator = train_datagen.flow_from_directory(\n",
    "      'dataset/train/',\n",
    "      target_size = (150, 150),\n",
    "      batch_size = 20,\n",
    "      class_mode = 'binary')\n",
    "\n",
    "validation_generator = validation_datagen.flow_from_directory(\n",
    "      'dataset/validation/',\n",
    "      target_size = (150, 150),\n",
    "      batch_size = 20,\n",
    "      class_mode = 'binary')"
   ]
  },
  {
   "cell_type": "markdown",
   "metadata": {
    "id": "34WmDGsuSclk"
   },
   "source": [
    "## Treinando o Modelo\n",
    "\n",
    "Vamos ajustar o modelo aos dados usando o **generator**. Fazemos isso usando o método ***fit_generator***, o equivalente a ***fit*** para geradores de dados como este. Ele espera como primeiro argumento um gerador Python que produzirá lotes de entradas e alvos indefinidamente, como este faz.\n",
    "Como os dados são gerados incessantemente, o modelo **Keras** precisa saber quantas amostras retirar do gerador antes de declarar o término de uma época. Este é o papel do argumento ***steps_per_epoch***: depois de extrair lotes de ***steps_per_epoch*** do gerador - isto é, após ter executado para etapas de descida de gradiente de ***steps_per_epoch*** - o processo de ajuste irá para a próxima época. Neste caso, os lotes (***batch_size***) são 20 amostras, então serão necessários 100 lotes até que você veja\n",
    "sua meta de 2.000 amostras.\n",
    "Ao usar ***fit_generator***, você pode passar um argumento ***validation_data***, tanto quanto com o método ***fit***. É importante observar que este argumento pode ser um gerador de dados, mas também pode ser uma tupla de matrizes Numpy. Se você passar um gerador como ***validation_data***, espera-se que esse gerador produza lotes de dados de validação indefinidamente; portanto, você também deve especificar o argumento ***validation_steps***, que informa ao processo quantos lotes retirar do gerador de validação para avaliação.\n"
   ]
  },
  {
   "cell_type": "code",
   "execution_count": null,
   "metadata": {
    "colab": {
     "base_uri": "https://localhost:8080/",
     "height": 122
    },
    "id": "xuHmd5xXUSot",
    "outputId": "1462c992-b6fb-4d49-8530-862662676d7c"
   },
   "outputs": [
    {
     "name": "stdout",
     "output_type": "stream",
     "text": [
      "Epoch 1/30\n"
     ]
    }
   ],
   "source": [
    "history = model.fit(\n",
    "      train_generator,\n",
    "      steps_per_epoch = 100,\n",
    "      epochs = 30,\n",
    "      validation_data = validation_generator,\n",
    "      validation_steps = 50)"
   ]
  },
  {
   "cell_type": "markdown",
   "metadata": {
    "id": "Oz8EmtosUogy"
   },
   "source": [
    "##Salvando o Modelo"
   ]
  },
  {
   "cell_type": "code",
   "execution_count": null,
   "metadata": {
    "colab": {
     "base_uri": "https://localhost:8080/",
     "height": 163
    },
    "executionInfo": {
     "elapsed": 560,
     "status": "error",
     "timestamp": 1602783224481,
     "user": {
      "displayName": "Gustavo Escola",
      "photoUrl": "https://lh3.googleusercontent.com/a-/AOh14GgPSiBDlD-UnC1txgfNnPNY44f2AO3ui_yxZmc5=s64",
      "userId": "06538377998761180135"
     },
     "user_tz": 180
    },
    "id": "AEmjNrO1UlVw",
    "outputId": "ee552e15-b072-41de-f769-1163b360156f"
   },
   "outputs": [],
   "source": [
    "model.save('cats_and_dogs_small_1.h5')"
   ]
  },
  {
   "cell_type": "markdown",
   "metadata": {
    "id": "DJxuo7u_V5aB"
   },
   "source": [
    "## Exibindo curvas de perda (Loss) e precisão (accuracy) durante o treinamento\n",
    "\n",
    "Vamos representar graficamente a ***Loss*** e a ***accuracy*** do modelo sobre os dados de treinamento e validação durante o treinamento"
   ]
  },
  {
   "cell_type": "code",
   "execution_count": null,
   "metadata": {
    "id": "EdiuG6smUyBJ"
   },
   "outputs": [],
   "source": [
    "import matplotlib.pyplot as plt\n",
    "\n",
    "acc = history.history['acc']\n",
    "val_acc = history.history['val_acc']\n",
    "loss = history.history['loss']\n",
    "val_loss = history.history['val_loss']\n",
    "\n",
    "epochs = range(1, len(acc) + 1)\n",
    "\n",
    "plt.plot(epochs, acc, 'bo', label='Training acc')\n",
    "plt.plot(epochs, val_acc, 'b', label='Validation acc')\n",
    "plt.title('Training and validation accuracy')\n",
    "plt.legend()\n",
    "\n",
    "plt.figure()\n",
    "\n",
    "plt.plot(epochs, loss, 'bo', label='Training loss')\n",
    "plt.plot(epochs, val_loss, 'b', label='Validation loss')\n",
    "plt.title('Training and validation loss')\n",
    "plt.legend()\n",
    "\n",
    "plt.show()"
   ]
  },
  {
   "cell_type": "code",
   "execution_count": null,
   "metadata": {},
   "outputs": [],
   "source": []
  }
 ],
 "metadata": {
  "accelerator": "GPU",
  "colab": {
   "authorship_tag": "ABX9TyP8Gv8/wLd6PJUH+ULJqWDd",
   "mount_file_id": "164AujRTiSGQkFpSQYIolAK3PLs70AGK5",
   "name": "Convnet_Simples.ipynb",
   "provenance": [],
   "toc_visible": true
  },
  "kernelspec": {
   "display_name": "Python 3 (ipykernel)",
   "language": "python",
   "name": "python3"
  },
  "language_info": {
   "codemirror_mode": {
    "name": "ipython",
    "version": 3
   },
   "file_extension": ".py",
   "mimetype": "text/x-python",
   "name": "python",
   "nbconvert_exporter": "python",
   "pygments_lexer": "ipython3",
   "version": "3.9.12"
  }
 },
 "nbformat": 4,
 "nbformat_minor": 1
}
