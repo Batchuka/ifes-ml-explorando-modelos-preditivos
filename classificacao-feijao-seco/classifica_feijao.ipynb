{
  "cells": [
    {
      "cell_type": "markdown",
      "id": "d4OOVMa7dJdz",
      "metadata": {
        "id": "d4OOVMa7dJdz"
      },
      "source": [
        "# Imports\n",
        "---"
      ]
    },
    {
      "cell_type": "markdown",
      "id": "d5b81b69",
      "metadata": {},
      "source": [
        "https://archive.ics.uci.edu/dataset/602/dry+bean+dataset"
      ]
    },
    {
      "cell_type": "code",
      "execution_count": 36,
      "id": "Rb0uNSUIqAZL",
      "metadata": {
        "colab": {
          "base_uri": "https://localhost:8080/"
        },
        "id": "Rb0uNSUIqAZL",
        "outputId": "314939b1-1f1a-434a-a644-3868a3a94dc9"
      },
      "outputs": [
        {
          "name": "stdout",
          "output_type": "stream",
          "text": [
            "Requirement already satisfied: np_utils in /usr/local/lib/python3.10/dist-packages (0.6.0)\n",
            "Requirement already satisfied: numpy>=1.0 in /usr/local/lib/python3.10/dist-packages (from np_utils) (1.23.5)\n"
          ]
        }
      ],
      "source": [
        "!pip install np_utils # instalar o np_utils"
      ]
    },
    {
      "cell_type": "code",
      "execution_count": 40,
      "id": "d1MWGZwVlYtw",
      "metadata": {
        "colab": {
          "base_uri": "https://localhost:8080/"
        },
        "id": "d1MWGZwVlYtw",
        "outputId": "95d811e3-faa7-4fe0-e232-782791559ae0"
      },
      "outputs": [
        {
          "name": "stdout",
          "output_type": "stream",
          "text": [
            "Drive already mounted at /content/drive; to attempt to forcibly remount, call drive.mount(\"/content/drive\", force_remount=True).\n",
            "/content/drive/MyDrive/IFES/Disciplinas/2023_02-Inteligencia_artificial/dry-bean-network\n"
          ]
        }
      ],
      "source": [
        "from google.colab import drive\n",
        "drive.mount('/content/drive') # montando driver para \n",
        "%cd \"/content/drive/MyDrive/IFES/Disciplinas/2023_02-Inteligencia_artificial/dry-bean-network\""
      ]
    },
    {
      "cell_type": "code",
      "execution_count": 37,
      "id": "MaX2xZoVNsIe",
      "metadata": {
        "id": "MaX2xZoVNsIe"
      },
      "outputs": [],
      "source": [
        "import pandas as pd\n",
        "import pandas as pd\n",
        "import numpy as np\n",
        "import np_utils\n",
        "\n",
        "from keras.datasets import mnist\n",
        "from keras.models import Sequential\n",
        "from keras.layers import Dense\n",
        "from keras.utils import to_categorical\n",
        "\n",
        "from sklearn.preprocessing import LabelEncoder\n",
        "from sklearn.model_selection import train_test_split\n",
        "from sklearn.preprocessing import MinMaxScaler"
      ]
    },
    {
      "cell_type": "markdown",
      "id": "fqgveUSDvhDQ",
      "metadata": {
        "id": "fqgveUSDvhDQ"
      },
      "source": [
        "# Preparando os dados\n",
        "---"
      ]
    },
    {
      "cell_type": "code",
      "execution_count": 39,
      "id": "4P6q-_zIpF74",
      "metadata": {
        "id": "4P6q-_zIpF74"
      },
      "outputs": [],
      "source": [
        "# Carregar os dados\n",
        "data = pd.read_excel('Dry_Bean_Dataset.xlsx')\n",
        "\n",
        "# Separar as features (atributos) e as etiquetas (labels)\n",
        "X = data.drop('Class', axis=1)\n",
        "Y = data['Class']\n",
        "\n",
        "# Normalização das features\n",
        "scaler = MinMaxScaler()\n",
        "X = scaler.fit_transform(X)\n",
        "\n",
        "labelencoder = LabelEncoder()\n",
        "Y = labelencoder.fit_transform(Y)  # label enconder\n",
        "Y_dummy = to_categorical(Y)   # one hot enconder\n",
        "\n",
        "# Dividir os dados em conjuntos de treinamento e teste\n",
        "x_train, x_test, y_train, y_test = train_test_split(X, Y_dummy, test_size=0.2, random_state=42)"
      ]
    },
    {
      "cell_type": "code",
      "execution_count": 41,
      "id": "esSSTLoGvabK",
      "metadata": {
        "colab": {
          "base_uri": "https://localhost:8080/"
        },
        "id": "esSSTLoGvabK",
        "outputId": "8a1689e1-0676-4d91-e02e-f01daa83611e"
      },
      "outputs": [
        {
          "data": {
            "text/plain": [
              "(10888, 7)"
            ]
          },
          "execution_count": 41,
          "metadata": {},
          "output_type": "execute_result"
        }
      ],
      "source": [
        "# data.head()\n",
        "\n",
        "x_train.shape\n",
        "y_train.shape\n",
        "\n",
        "# Tem problemas. Os números precisam ser tratados, na coluna 'density' por exemplo. Além disso, apesar de ter 10 qualidades, você não tem todas as classes.\n",
        "# Label encoding pode resolver a questão de classes faltantes, pois ela observa as classes que existem e reclassifica;\n",
        "# É intessante pensar numa lógica para varrer as colunas em busca de algum erro;"
      ]
    },
    {
      "cell_type": "markdown",
      "id": "o7j9nL_Fvp5W",
      "metadata": {
        "id": "o7j9nL_Fvp5W"
      },
      "source": [
        "# Implementando Rede\n",
        "---"
      ]
    },
    {
      "cell_type": "code",
      "execution_count": 42,
      "id": "6L6hgTYutwxR",
      "metadata": {
        "colab": {
          "base_uri": "https://localhost:8080/"
        },
        "id": "6L6hgTYutwxR",
        "outputId": "92a0fc69-d948-43cf-d134-36c5d2715bc0"
      },
      "outputs": [
        {
          "name": "stdout",
          "output_type": "stream",
          "text": [
            "Model: \"sequential_3\"\n",
            "_________________________________________________________________\n",
            " Layer (type)                Output Shape              Param #   \n",
            "=================================================================\n",
            " dense_6 (Dense)             (None, 16)                272       \n",
            "                                                                 \n",
            " dense_7 (Dense)             (None, 7)                 119       \n",
            "                                                                 \n",
            "=================================================================\n",
            "Total params: 391 (1.53 KB)\n",
            "Trainable params: 391 (1.53 KB)\n",
            "Non-trainable params: 0 (0.00 Byte)\n",
            "_________________________________________________________________\n"
          ]
        }
      ],
      "source": [
        "# Criar um modelo sequencial\n",
        "classificador = Sequential()\n",
        "\n",
        "# Adicionar uma camada densa (fully connected) com 16 unidades de ativação ReLU\n",
        "# e uma entrada de dimensão 784 (número de features após o achatamento)\n",
        "classificador.add(Dense(units=16, activation='relu', input_dim=16))\n",
        "\n",
        "# Adicionar uma segunda camada densa com 10 unidades de ativação softmax\n",
        "# para a classificação das 7 classes no MNIST\n",
        "classificador.add(Dense(units=7, activation='softmax'))\n",
        "\n",
        "# Compilar o modelo com o otimizador 'adam', função de perda 'categorical_crossentropy'\n",
        "# e métrica de avaliação 'categorical_accuracy'\n",
        "classificador.compile(optimizer='adam', loss='categorical_crossentropy', metrics=['categorical_accuracy'])\n",
        "\n",
        "# Resumo do modelo, exibindo a arquitetura da rede\n",
        "classificador.summary()\n"
      ]
    },
    {
      "cell_type": "code",
      "execution_count": 43,
      "id": "PN1Xu1OVvU8L",
      "metadata": {
        "colab": {
          "base_uri": "https://localhost:8080/"
        },
        "id": "PN1Xu1OVvU8L",
        "outputId": "3d7e5fae-c825-4cf7-8b82-94faaadf6ece"
      },
      "outputs": [
        {
          "name": "stdout",
          "output_type": "stream",
          "text": [
            "Epoch 1/100\n",
            "871/871 [==============================] - 3s 3ms/step - loss: 1.4929 - categorical_accuracy: 0.4121 - val_loss: 1.0334 - val_categorical_accuracy: 0.6327\n",
            "Epoch 2/100\n",
            "871/871 [==============================] - 3s 3ms/step - loss: 0.7891 - categorical_accuracy: 0.7831 - val_loss: 0.6128 - val_categorical_accuracy: 0.8466\n",
            "Epoch 3/100\n",
            "871/871 [==============================] - 3s 4ms/step - loss: 0.5334 - categorical_accuracy: 0.8689 - val_loss: 0.4627 - val_categorical_accuracy: 0.8756\n",
            "Epoch 4/100\n",
            "871/871 [==============================] - 2s 3ms/step - loss: 0.4319 - categorical_accuracy: 0.8789 - val_loss: 0.3973 - val_categorical_accuracy: 0.8760\n",
            "Epoch 5/100\n",
            "871/871 [==============================] - 2s 3ms/step - loss: 0.3823 - categorical_accuracy: 0.8811 - val_loss: 0.3610 - val_categorical_accuracy: 0.8852\n",
            "Epoch 6/100\n",
            "871/871 [==============================] - 2s 3ms/step - loss: 0.3539 - categorical_accuracy: 0.8846 - val_loss: 0.3387 - val_categorical_accuracy: 0.8880\n",
            "Epoch 7/100\n",
            "871/871 [==============================] - 2s 3ms/step - loss: 0.3366 - categorical_accuracy: 0.8846 - val_loss: 0.3246 - val_categorical_accuracy: 0.8880\n",
            "Epoch 8/100\n",
            "871/871 [==============================] - 3s 4ms/step - loss: 0.3238 - categorical_accuracy: 0.8879 - val_loss: 0.3151 - val_categorical_accuracy: 0.8916\n",
            "Epoch 9/100\n",
            "871/871 [==============================] - 3s 3ms/step - loss: 0.3153 - categorical_accuracy: 0.8887 - val_loss: 0.3078 - val_categorical_accuracy: 0.8903\n",
            "Epoch 10/100\n",
            "871/871 [==============================] - 2s 2ms/step - loss: 0.3091 - categorical_accuracy: 0.8901 - val_loss: 0.3016 - val_categorical_accuracy: 0.8916\n",
            "Epoch 11/100\n",
            "871/871 [==============================] - 2s 2ms/step - loss: 0.3030 - categorical_accuracy: 0.8917 - val_loss: 0.2967 - val_categorical_accuracy: 0.8953\n",
            "Epoch 12/100\n",
            "871/871 [==============================] - 2s 3ms/step - loss: 0.2979 - categorical_accuracy: 0.8933 - val_loss: 0.2951 - val_categorical_accuracy: 0.8930\n",
            "Epoch 13/100\n",
            "871/871 [==============================] - 3s 3ms/step - loss: 0.2939 - categorical_accuracy: 0.8946 - val_loss: 0.2906 - val_categorical_accuracy: 0.8953\n",
            "Epoch 14/100\n",
            "871/871 [==============================] - 3s 4ms/step - loss: 0.2901 - categorical_accuracy: 0.8949 - val_loss: 0.2892 - val_categorical_accuracy: 0.8972\n",
            "Epoch 15/100\n",
            "871/871 [==============================] - 3s 3ms/step - loss: 0.2878 - categorical_accuracy: 0.8952 - val_loss: 0.2847 - val_categorical_accuracy: 0.8967\n",
            "Epoch 16/100\n",
            "871/871 [==============================] - 2s 3ms/step - loss: 0.2841 - categorical_accuracy: 0.8974 - val_loss: 0.2796 - val_categorical_accuracy: 0.9013\n",
            "Epoch 17/100\n",
            "871/871 [==============================] - 2s 2ms/step - loss: 0.2821 - categorical_accuracy: 0.8974 - val_loss: 0.2765 - val_categorical_accuracy: 0.9031\n",
            "Epoch 18/100\n",
            "871/871 [==============================] - 2s 2ms/step - loss: 0.2797 - categorical_accuracy: 0.8998 - val_loss: 0.2745 - val_categorical_accuracy: 0.9045\n",
            "Epoch 19/100\n",
            "871/871 [==============================] - 3s 3ms/step - loss: 0.2766 - categorical_accuracy: 0.9022 - val_loss: 0.2757 - val_categorical_accuracy: 0.9017\n",
            "Epoch 20/100\n",
            "871/871 [==============================] - 3s 4ms/step - loss: 0.2755 - categorical_accuracy: 0.9009 - val_loss: 0.2710 - val_categorical_accuracy: 0.9059\n",
            "Epoch 21/100\n",
            "871/871 [==============================] - 2s 2ms/step - loss: 0.2722 - categorical_accuracy: 0.9024 - val_loss: 0.2738 - val_categorical_accuracy: 0.9031\n",
            "Epoch 22/100\n",
            "871/871 [==============================] - 2s 2ms/step - loss: 0.2708 - categorical_accuracy: 0.9023 - val_loss: 0.2663 - val_categorical_accuracy: 0.9027\n",
            "Epoch 23/100\n",
            "871/871 [==============================] - 2s 2ms/step - loss: 0.2691 - categorical_accuracy: 0.9018 - val_loss: 0.2700 - val_categorical_accuracy: 0.9031\n",
            "Epoch 24/100\n",
            "871/871 [==============================] - 2s 3ms/step - loss: 0.2662 - categorical_accuracy: 0.9037 - val_loss: 0.2665 - val_categorical_accuracy: 0.9059\n",
            "Epoch 25/100\n",
            "871/871 [==============================] - 3s 3ms/step - loss: 0.2644 - categorical_accuracy: 0.9053 - val_loss: 0.2671 - val_categorical_accuracy: 0.9045\n",
            "Epoch 26/100\n",
            "871/871 [==============================] - 4s 4ms/step - loss: 0.2621 - categorical_accuracy: 0.9079 - val_loss: 0.2627 - val_categorical_accuracy: 0.9073\n",
            "Epoch 27/100\n",
            "871/871 [==============================] - 2s 2ms/step - loss: 0.2618 - categorical_accuracy: 0.9042 - val_loss: 0.2594 - val_categorical_accuracy: 0.9100\n",
            "Epoch 28/100\n",
            "871/871 [==============================] - 2s 2ms/step - loss: 0.2599 - categorical_accuracy: 0.9070 - val_loss: 0.2600 - val_categorical_accuracy: 0.9077\n",
            "Epoch 29/100\n",
            "871/871 [==============================] - 2s 2ms/step - loss: 0.2583 - categorical_accuracy: 0.9079 - val_loss: 0.2619 - val_categorical_accuracy: 0.9068\n",
            "Epoch 30/100\n",
            "871/871 [==============================] - 2s 2ms/step - loss: 0.2570 - categorical_accuracy: 0.9098 - val_loss: 0.2586 - val_categorical_accuracy: 0.9082\n",
            "Epoch 31/100\n",
            "871/871 [==============================] - 2s 3ms/step - loss: 0.2555 - categorical_accuracy: 0.9079 - val_loss: 0.2537 - val_categorical_accuracy: 0.9091\n",
            "Epoch 32/100\n",
            "871/871 [==============================] - 3s 4ms/step - loss: 0.2540 - categorical_accuracy: 0.9078 - val_loss: 0.2505 - val_categorical_accuracy: 0.9114\n",
            "Epoch 33/100\n",
            "871/871 [==============================] - 2s 3ms/step - loss: 0.2535 - categorical_accuracy: 0.9108 - val_loss: 0.2549 - val_categorical_accuracy: 0.9059\n",
            "Epoch 34/100\n",
            "871/871 [==============================] - 2s 3ms/step - loss: 0.2514 - categorical_accuracy: 0.9077 - val_loss: 0.2474 - val_categorical_accuracy: 0.9137\n",
            "Epoch 35/100\n",
            "871/871 [==============================] - 2s 2ms/step - loss: 0.2505 - categorical_accuracy: 0.9108 - val_loss: 0.2483 - val_categorical_accuracy: 0.9151\n",
            "Epoch 36/100\n",
            "871/871 [==============================] - 3s 4ms/step - loss: 0.2496 - categorical_accuracy: 0.9113 - val_loss: 0.2472 - val_categorical_accuracy: 0.9155\n",
            "Epoch 37/100\n",
            "871/871 [==============================] - 5s 6ms/step - loss: 0.2491 - categorical_accuracy: 0.9113 - val_loss: 0.2445 - val_categorical_accuracy: 0.9114\n",
            "Epoch 38/100\n",
            "871/871 [==============================] - 2s 3ms/step - loss: 0.2477 - categorical_accuracy: 0.9125 - val_loss: 0.2450 - val_categorical_accuracy: 0.9137\n",
            "Epoch 39/100\n",
            "871/871 [==============================] - 2s 3ms/step - loss: 0.2463 - categorical_accuracy: 0.9131 - val_loss: 0.2496 - val_categorical_accuracy: 0.9105\n",
            "Epoch 40/100\n",
            "871/871 [==============================] - 2s 2ms/step - loss: 0.2456 - categorical_accuracy: 0.9130 - val_loss: 0.2461 - val_categorical_accuracy: 0.9137\n",
            "Epoch 41/100\n",
            "871/871 [==============================] - 2s 2ms/step - loss: 0.2446 - categorical_accuracy: 0.9116 - val_loss: 0.2408 - val_categorical_accuracy: 0.9155\n",
            "Epoch 42/100\n",
            "871/871 [==============================] - 3s 3ms/step - loss: 0.2445 - categorical_accuracy: 0.9150 - val_loss: 0.2438 - val_categorical_accuracy: 0.9146\n",
            "Epoch 43/100\n",
            "871/871 [==============================] - 4s 4ms/step - loss: 0.2435 - categorical_accuracy: 0.9126 - val_loss: 0.2446 - val_categorical_accuracy: 0.9146\n",
            "Epoch 44/100\n",
            "871/871 [==============================] - 2s 2ms/step - loss: 0.2427 - categorical_accuracy: 0.9140 - val_loss: 0.2428 - val_categorical_accuracy: 0.9137\n",
            "Epoch 45/100\n",
            "871/871 [==============================] - 2s 3ms/step - loss: 0.2414 - categorical_accuracy: 0.9145 - val_loss: 0.2520 - val_categorical_accuracy: 0.9059\n",
            "Epoch 46/100\n",
            "871/871 [==============================] - 2s 2ms/step - loss: 0.2415 - categorical_accuracy: 0.9160 - val_loss: 0.2398 - val_categorical_accuracy: 0.9160\n",
            "Epoch 47/100\n",
            "871/871 [==============================] - 2s 3ms/step - loss: 0.2408 - categorical_accuracy: 0.9175 - val_loss: 0.2379 - val_categorical_accuracy: 0.9178\n",
            "Epoch 48/100\n",
            "871/871 [==============================] - 3s 3ms/step - loss: 0.2410 - categorical_accuracy: 0.9138 - val_loss: 0.2413 - val_categorical_accuracy: 0.9137\n",
            "Epoch 49/100\n",
            "871/871 [==============================] - 3s 4ms/step - loss: 0.2399 - categorical_accuracy: 0.9156 - val_loss: 0.2403 - val_categorical_accuracy: 0.9155\n",
            "Epoch 50/100\n",
            "871/871 [==============================] - 2s 2ms/step - loss: 0.2390 - categorical_accuracy: 0.9150 - val_loss: 0.2432 - val_categorical_accuracy: 0.9137\n",
            "Epoch 51/100\n",
            "871/871 [==============================] - 2s 3ms/step - loss: 0.2385 - categorical_accuracy: 0.9161 - val_loss: 0.2375 - val_categorical_accuracy: 0.9183\n",
            "Epoch 52/100\n",
            "871/871 [==============================] - 2s 2ms/step - loss: 0.2388 - categorical_accuracy: 0.9153 - val_loss: 0.2411 - val_categorical_accuracy: 0.9169\n",
            "Epoch 53/100\n",
            "871/871 [==============================] - 2s 2ms/step - loss: 0.2382 - categorical_accuracy: 0.9162 - val_loss: 0.2395 - val_categorical_accuracy: 0.9132\n",
            "Epoch 54/100\n",
            "871/871 [==============================] - 3s 3ms/step - loss: 0.2377 - categorical_accuracy: 0.9147 - val_loss: 0.2397 - val_categorical_accuracy: 0.9155\n",
            "Epoch 55/100\n",
            "871/871 [==============================] - 3s 4ms/step - loss: 0.2372 - categorical_accuracy: 0.9146 - val_loss: 0.2375 - val_categorical_accuracy: 0.9197\n",
            "Epoch 56/100\n",
            "871/871 [==============================] - 2s 2ms/step - loss: 0.2374 - categorical_accuracy: 0.9168 - val_loss: 0.2393 - val_categorical_accuracy: 0.9183\n",
            "Epoch 57/100\n",
            "871/871 [==============================] - 2s 2ms/step - loss: 0.2365 - categorical_accuracy: 0.9183 - val_loss: 0.2337 - val_categorical_accuracy: 0.9178\n",
            "Epoch 58/100\n",
            "871/871 [==============================] - 2s 2ms/step - loss: 0.2372 - categorical_accuracy: 0.9161 - val_loss: 0.2342 - val_categorical_accuracy: 0.9169\n",
            "Epoch 59/100\n",
            "871/871 [==============================] - 2s 3ms/step - loss: 0.2354 - categorical_accuracy: 0.9183 - val_loss: 0.2388 - val_categorical_accuracy: 0.9164\n",
            "Epoch 60/100\n",
            "871/871 [==============================] - 3s 3ms/step - loss: 0.2358 - categorical_accuracy: 0.9168 - val_loss: 0.2349 - val_categorical_accuracy: 0.9183\n",
            "Epoch 61/100\n",
            "871/871 [==============================] - 3s 3ms/step - loss: 0.2353 - categorical_accuracy: 0.9172 - val_loss: 0.2370 - val_categorical_accuracy: 0.9151\n",
            "Epoch 62/100\n",
            "871/871 [==============================] - 2s 2ms/step - loss: 0.2356 - categorical_accuracy: 0.9177 - val_loss: 0.2327 - val_categorical_accuracy: 0.9178\n",
            "Epoch 63/100\n",
            "871/871 [==============================] - 2s 3ms/step - loss: 0.2353 - categorical_accuracy: 0.9155 - val_loss: 0.2350 - val_categorical_accuracy: 0.9174\n",
            "Epoch 64/100\n",
            "871/871 [==============================] - 2s 2ms/step - loss: 0.2354 - categorical_accuracy: 0.9160 - val_loss: 0.2343 - val_categorical_accuracy: 0.9174\n",
            "Epoch 65/100\n",
            "871/871 [==============================] - 2s 2ms/step - loss: 0.2350 - categorical_accuracy: 0.9172 - val_loss: 0.2348 - val_categorical_accuracy: 0.9151\n",
            "Epoch 66/100\n",
            "871/871 [==============================] - 3s 3ms/step - loss: 0.2340 - categorical_accuracy: 0.9183 - val_loss: 0.2339 - val_categorical_accuracy: 0.9201\n",
            "Epoch 67/100\n",
            "871/871 [==============================] - 3s 4ms/step - loss: 0.2339 - categorical_accuracy: 0.9169 - val_loss: 0.2321 - val_categorical_accuracy: 0.9187\n",
            "Epoch 68/100\n",
            "871/871 [==============================] - 2s 2ms/step - loss: 0.2342 - categorical_accuracy: 0.9164 - val_loss: 0.2338 - val_categorical_accuracy: 0.9146\n",
            "Epoch 69/100\n",
            "871/871 [==============================] - 2s 2ms/step - loss: 0.2337 - categorical_accuracy: 0.9168 - val_loss: 0.2319 - val_categorical_accuracy: 0.9192\n",
            "Epoch 70/100\n",
            "871/871 [==============================] - 2s 2ms/step - loss: 0.2343 - categorical_accuracy: 0.9170 - val_loss: 0.2347 - val_categorical_accuracy: 0.9137\n",
            "Epoch 71/100\n",
            "871/871 [==============================] - 2s 2ms/step - loss: 0.2333 - categorical_accuracy: 0.9176 - val_loss: 0.2345 - val_categorical_accuracy: 0.9151\n",
            "Epoch 72/100\n",
            "871/871 [==============================] - 2s 2ms/step - loss: 0.2335 - categorical_accuracy: 0.9164 - val_loss: 0.2355 - val_categorical_accuracy: 0.9192\n",
            "Epoch 73/100\n",
            "871/871 [==============================] - 3s 4ms/step - loss: 0.2339 - categorical_accuracy: 0.9171 - val_loss: 0.2319 - val_categorical_accuracy: 0.9178\n",
            "Epoch 74/100\n",
            "871/871 [==============================] - 2s 3ms/step - loss: 0.2337 - categorical_accuracy: 0.9164 - val_loss: 0.2336 - val_categorical_accuracy: 0.9160\n",
            "Epoch 75/100\n",
            "871/871 [==============================] - 2s 2ms/step - loss: 0.2330 - categorical_accuracy: 0.9172 - val_loss: 0.2302 - val_categorical_accuracy: 0.9201\n",
            "Epoch 76/100\n",
            "871/871 [==============================] - 2s 2ms/step - loss: 0.2324 - categorical_accuracy: 0.9189 - val_loss: 0.2320 - val_categorical_accuracy: 0.9164\n",
            "Epoch 77/100\n",
            "871/871 [==============================] - 2s 2ms/step - loss: 0.2324 - categorical_accuracy: 0.9181 - val_loss: 0.2308 - val_categorical_accuracy: 0.9164\n",
            "Epoch 78/100\n",
            "871/871 [==============================] - 2s 3ms/step - loss: 0.2326 - categorical_accuracy: 0.9172 - val_loss: 0.2335 - val_categorical_accuracy: 0.9141\n",
            "Epoch 79/100\n",
            "871/871 [==============================] - 3s 3ms/step - loss: 0.2321 - categorical_accuracy: 0.9165 - val_loss: 0.2317 - val_categorical_accuracy: 0.9183\n",
            "Epoch 80/100\n",
            "871/871 [==============================] - 3s 4ms/step - loss: 0.2326 - categorical_accuracy: 0.9172 - val_loss: 0.2311 - val_categorical_accuracy: 0.9169\n",
            "Epoch 81/100\n",
            "871/871 [==============================] - 2s 2ms/step - loss: 0.2323 - categorical_accuracy: 0.9169 - val_loss: 0.2313 - val_categorical_accuracy: 0.9174\n",
            "Epoch 82/100\n",
            "871/871 [==============================] - 2s 2ms/step - loss: 0.2323 - categorical_accuracy: 0.9180 - val_loss: 0.2325 - val_categorical_accuracy: 0.9187\n",
            "Epoch 83/100\n",
            "871/871 [==============================] - 2s 2ms/step - loss: 0.2320 - categorical_accuracy: 0.9175 - val_loss: 0.2302 - val_categorical_accuracy: 0.9183\n",
            "Epoch 84/100\n",
            "871/871 [==============================] - 2s 2ms/step - loss: 0.2319 - categorical_accuracy: 0.9193 - val_loss: 0.2300 - val_categorical_accuracy: 0.9192\n",
            "Epoch 85/100\n",
            "871/871 [==============================] - 2s 2ms/step - loss: 0.2324 - categorical_accuracy: 0.9171 - val_loss: 0.2340 - val_categorical_accuracy: 0.9174\n",
            "Epoch 86/100\n",
            "871/871 [==============================] - 3s 4ms/step - loss: 0.2312 - categorical_accuracy: 0.9172 - val_loss: 0.2322 - val_categorical_accuracy: 0.9192\n",
            "Epoch 87/100\n",
            "871/871 [==============================] - 3s 3ms/step - loss: 0.2320 - categorical_accuracy: 0.9191 - val_loss: 0.2378 - val_categorical_accuracy: 0.9123\n",
            "Epoch 88/100\n",
            "871/871 [==============================] - 2s 2ms/step - loss: 0.2316 - categorical_accuracy: 0.9172 - val_loss: 0.2298 - val_categorical_accuracy: 0.9183\n",
            "Epoch 89/100\n",
            "871/871 [==============================] - 2s 3ms/step - loss: 0.2314 - categorical_accuracy: 0.9184 - val_loss: 0.2330 - val_categorical_accuracy: 0.9151\n",
            "Epoch 90/100\n",
            "871/871 [==============================] - 2s 2ms/step - loss: 0.2308 - categorical_accuracy: 0.9186 - val_loss: 0.2330 - val_categorical_accuracy: 0.9201\n",
            "Epoch 91/100\n",
            "871/871 [==============================] - 2s 2ms/step - loss: 0.2307 - categorical_accuracy: 0.9165 - val_loss: 0.2332 - val_categorical_accuracy: 0.9164\n",
            "Epoch 92/100\n",
            "871/871 [==============================] - 3s 3ms/step - loss: 0.2313 - categorical_accuracy: 0.9171 - val_loss: 0.2309 - val_categorical_accuracy: 0.9178\n",
            "Epoch 93/100\n",
            "871/871 [==============================] - 3s 3ms/step - loss: 0.2310 - categorical_accuracy: 0.9173 - val_loss: 0.2359 - val_categorical_accuracy: 0.9123\n",
            "Epoch 94/100\n",
            "871/871 [==============================] - 2s 2ms/step - loss: 0.2320 - categorical_accuracy: 0.9189 - val_loss: 0.2324 - val_categorical_accuracy: 0.9178\n",
            "Epoch 95/100\n",
            "871/871 [==============================] - 2s 2ms/step - loss: 0.2310 - categorical_accuracy: 0.9170 - val_loss: 0.2322 - val_categorical_accuracy: 0.9197\n",
            "Epoch 96/100\n",
            "871/871 [==============================] - 2s 3ms/step - loss: 0.2308 - categorical_accuracy: 0.9186 - val_loss: 0.2322 - val_categorical_accuracy: 0.9183\n",
            "Epoch 97/100\n",
            "871/871 [==============================] - 2s 2ms/step - loss: 0.2305 - categorical_accuracy: 0.9176 - val_loss: 0.2328 - val_categorical_accuracy: 0.9169\n",
            "Epoch 98/100\n",
            "871/871 [==============================] - 2s 3ms/step - loss: 0.2305 - categorical_accuracy: 0.9176 - val_loss: 0.2331 - val_categorical_accuracy: 0.9174\n",
            "Epoch 99/100\n",
            "871/871 [==============================] - 3s 4ms/step - loss: 0.2307 - categorical_accuracy: 0.9178 - val_loss: 0.2316 - val_categorical_accuracy: 0.9178\n",
            "Epoch 100/100\n",
            "871/871 [==============================] - 2s 2ms/step - loss: 0.2303 - categorical_accuracy: 0.9166 - val_loss: 0.2305 - val_categorical_accuracy: 0.9206\n"
          ]
        }
      ],
      "source": [
        "history = classificador.fit(x_train, y_train, batch_size = 10, epochs = 100 , verbose = 1, validation_split=0.2)\n",
        "# X_train, X_test, y_train, y_test\n",
        "# history = model.fit(X_train, Y_train, batch_size=BATCH_SIZE, epochs=NB_EPOCH, verbose=VERBOSE, validation_split=VALIDATION_SPLIT)"
      ]
    },
    {
      "cell_type": "markdown",
      "id": "d64fc39e",
      "metadata": {},
      "source": [
        "# Validando rede\n",
        "---"
      ]
    },
    {
      "cell_type": "code",
      "execution_count": 44,
      "id": "0dj5NKuet1n2",
      "metadata": {
        "colab": {
          "base_uri": "https://localhost:8080/"
        },
        "id": "0dj5NKuet1n2",
        "outputId": "47c537f6-922f-4a33-97f8-48fbb51ae26c"
      },
      "outputs": [
        {
          "name": "stdout",
          "output_type": "stream",
          "text": [
            "86/86 [==============================] - 0s 2ms/step - loss: 0.2234 - categorical_accuracy: 0.9207\n",
            "Test score 0.22336506843566895\n",
            "Test accuracy 0.9206757545471191\n"
          ]
        }
      ],
      "source": [
        "score = classificador.evaluate(x_test, y_test, verbose=1)\n",
        "print('Test score', score[0])\n",
        "print('Test accuracy', score[1])"
      ]
    },
    {
      "cell_type": "code",
      "execution_count": 45,
      "id": "I3ozq-iXt4AW",
      "metadata": {
        "colab": {
          "base_uri": "https://localhost:8080/"
        },
        "id": "I3ozq-iXt4AW",
        "outputId": "c07521c5-8225-4611-8fab-fa3b2c409452"
      },
      "outputs": [
        {
          "name": "stdout",
          "output_type": "stream",
          "text": [
            "86/86 [==============================] - 0s 3ms/step - loss: 0.2234 - categorical_accuracy: 0.9207\n",
            "86/86 [==============================] - 0s 3ms/step\n"
          ]
        }
      ],
      "source": [
        "resultado = classificador.evaluate(x_test, y_test, verbose=1)\n",
        "previsoes = classificador.predict(x_test)\n",
        "previsoes = (previsoes > 0.5)\n",
        "classe_teste2 = [np.argmax(t) for t in y_test]\n",
        "previsoes2 = [np.argmax(t) for t in previsoes]\n",
        "\n",
        "from sklearn.metrics import confusion_matrix\n",
        "matriz = confusion_matrix(previsoes2, classe_teste2)"
      ]
    },
    {
      "cell_type": "code",
      "execution_count": null,
      "id": "EiqlhnBzsP68",
      "metadata": {
        "id": "EiqlhnBzsP68"
      },
      "outputs": [],
      "source": [
        "print(x_train)"
      ]
    },
    {
      "cell_type": "code",
      "execution_count": null,
      "id": "S5HIqRNOsQo0",
      "metadata": {
        "id": "S5HIqRNOsQo0"
      },
      "outputs": [],
      "source": [
        "print(y_train)"
      ]
    },
    {
      "cell_type": "code",
      "execution_count": 48,
      "id": "IqqCPBgZ2-2T",
      "metadata": {
        "colab": {
          "base_uri": "https://localhost:8080/"
        },
        "id": "IqqCPBgZ2-2T",
        "outputId": "44ac8bd1-1f26-455e-f563-161b3f51d760"
      },
      "outputs": [
        {
          "name": "stdout",
          "output_type": "stream",
          "text": [
            "[[245   0  21   9   6  13   5]\n",
            " [  0 117   0   0   0   0   0]\n",
            " [  9   0 291   0   3   0   0]\n",
            " [  0   0   0 592   4  11  38]\n",
            " [  0   0   3   0 389   0   5]\n",
            " [  1   0   0   8   0 380   6]\n",
            " [  6   0   2  62   6   9 482]]\n"
          ]
        }
      ],
      "source": [
        "print(matriz)"
      ]
    },
    {
      "cell_type": "code",
      "execution_count": 49,
      "id": "8iAv8fpXsYwV",
      "metadata": {
        "colab": {
          "base_uri": "https://localhost:8080/",
          "height": 472
        },
        "id": "8iAv8fpXsYwV",
        "outputId": "d29365ce-6c68-40d7-a7bc-e601449a1062"
      },
      "outputs": [
        {
          "data": {
            "image/png": "[encoded data removed]",
            "text/plain": [
              "<Figure size 640x480 with 1 Axes>"
            ]
          },
          "metadata": {},
          "output_type": "display_data"
        }
      ],
      "source": [
        "import matplotlib.pyplot as plt\n",
        "\n",
        "history_dict = history.history\n",
        "loss_values = history_dict['loss']\n",
        "val_loss_values = history_dict['val_loss']\n",
        "\n",
        "#epochs = range(1, len('accuracy') + 1)\n",
        "epochs = np.arange(1,100 + 1)\n",
        "\n",
        "plt.plot(epochs, loss_values, 'bo', label='Training loss')\n",
        "plt.plot(epochs, val_loss_values, 'b', label='Validation loss')\n",
        "plt.title('Training and validation loss')\n",
        "plt.xlabel('Epochs')\n",
        "plt.ylabel('Loss')\n",
        "plt.legend()\n",
        "\n",
        "plt.show()"
      ]
    }
  ],
  "metadata": {
    "colab": {
      "provenance": []
    },
    "kernelspec": {
      "display_name": "Python 3 (ipykernel)",
      "language": "python",
      "name": "python3"
    },
    "language_info": {
      "codemirror_mode": {
        "name": "ipython",
        "version": 3
      },
      "file_extension": ".py",
      "mimetype": "text/x-python",
      "name": "python",
      "nbconvert_exporter": "python",
      "pygments_lexer": "ipython3",
      "version": "3.9.12"
    }
  },
  "nbformat": 4,
  "nbformat_minor": 5
}
