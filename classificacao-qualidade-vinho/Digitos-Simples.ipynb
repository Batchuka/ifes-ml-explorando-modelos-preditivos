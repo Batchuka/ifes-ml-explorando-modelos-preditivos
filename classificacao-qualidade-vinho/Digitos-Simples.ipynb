{
 "cells": [
  {
   "cell_type": "code",
   "execution_count": 1,
   "id": "e5f097d6",
   "metadata": {},
   "outputs": [],
   "source": [
    "import pandas as pd\n",
    "from keras.models import Sequential\n",
    "from keras.layers import Dense\n",
    "from keras.utils import np_utils\n",
    "import numpy as np\n",
    "from keras.datasets import mnist\n"
   ]
  },
  {
   "cell_type": "code",
   "execution_count": 2,
   "id": "3298818a",
   "metadata": {},
   "outputs": [
    {
     "name": "stdout",
     "output_type": "stream",
     "text": [
      "60000 train sample\n",
      "10000 test samples\n"
     ]
    }
   ],
   "source": [
    "# data: separando os dados em conjunto de treinamento e conjunto de teste\n",
    "(X_train, y_train), (X_test, y_test) = mnist.load_data()\n",
    "#X_train é um vetor de 60.000 amostras de tamanho 28x28 --> reshaped vai tranformar em 60.000 x 784\n",
    "RESHAPED = 784\n",
    "NB_CLASSES = 10\n",
    "X_train = X_train.reshape(60000, RESHAPED)\n",
    "X_test = X_test.reshape(10000, RESHAPED)\n",
    "X_train = X_train.astype('float32')\n",
    "X_test = X_test.astype('float32')\n",
    "\n",
    "# Normalizar os dados\n",
    "\n",
    "X_train /= 255\n",
    "X_test /= 255\n",
    "print(X_train.shape[0], 'train sample')\n",
    "print(X_test.shape[0], 'test samples')\n",
    "\n",
    "# Convertendo o vetor de classes em binários\n",
    "Y_train = np_utils.to_categorical(y_train, NB_CLASSES)\n",
    "Y_test = np_utils.to_categorical(y_test, NB_CLASSES) "
   ]
  },
  {
   "cell_type": "code",
   "execution_count": 3,
   "id": "a4cfd3ac",
   "metadata": {},
   "outputs": [
    {
     "name": "stdout",
     "output_type": "stream",
     "text": [
      "[[0. 0. 0. ... 0. 0. 0.]\n",
      " [0. 0. 0. ... 0. 0. 0.]\n",
      " [0. 0. 0. ... 0. 0. 0.]\n",
      " ...\n",
      " [0. 0. 0. ... 0. 0. 0.]\n",
      " [0. 0. 0. ... 0. 0. 0.]\n",
      " [0. 0. 0. ... 0. 0. 0.]]\n"
     ]
    }
   ],
   "source": [
    "print(X_train)"
   ]
  },
  {
   "cell_type": "code",
   "execution_count": 5,
   "id": "d30a31ef",
   "metadata": {},
   "outputs": [
    {
     "name": "stdout",
     "output_type": "stream",
     "text": [
      "[[0. 0. 0. ... 0. 0. 0.]\n",
      " [1. 0. 0. ... 0. 0. 0.]\n",
      " [0. 0. 0. ... 0. 0. 0.]\n",
      " ...\n",
      " [0. 0. 0. ... 0. 0. 0.]\n",
      " [0. 0. 0. ... 0. 0. 0.]\n",
      " [0. 0. 0. ... 0. 1. 0.]]\n"
     ]
    }
   ],
   "source": [
    "print(Y_train)"
   ]
  },
  {
   "cell_type": "code",
   "execution_count": 9,
   "id": "24d2e294",
   "metadata": {},
   "outputs": [
    {
     "name": "stdout",
     "output_type": "stream",
     "text": [
      "Model: \"sequential_3\"\n",
      "_________________________________________________________________\n",
      " Layer (type)                Output Shape              Param #   \n",
      "=================================================================\n",
      " dense_6 (Dense)             (None, 16)                12560     \n",
      "                                                                 \n",
      " dense_7 (Dense)             (None, 10)                170       \n",
      "                                                                 \n",
      "=================================================================\n",
      "Total params: 12,730\n",
      "Trainable params: 12,730\n",
      "Non-trainable params: 0\n",
      "_________________________________________________________________\n"
     ]
    }
   ],
   "source": [
    "classificador = Sequential()\n",
    "classificador.add(Dense(units = 16, activation = 'relu', input_dim = 784))\n",
    "#classificador.add(Dense(units = 4, activation = 'relu'))\n",
    "classificador.add(Dense(units = 10, activation = 'softmax'))\n",
    "classificador.compile(optimizer = 'adam', loss = 'categorical_crossentropy',\n",
    "                      metrics = ['categorical_accuracy'])\n",
    "classificador.summary()\n"
   ]
  },
  {
   "cell_type": "code",
   "execution_count": 10,
   "id": "9d37bcd8",
   "metadata": {},
   "outputs": [
    {
     "name": "stdout",
     "output_type": "stream",
     "text": [
      "Epoch 1/100\n",
      "4800/4800 [==============================] - 19s 3ms/step - loss: 0.3802 - categorical_accuracy: 0.8930 - val_loss: 0.2490 - val_categorical_accuracy: 0.9264\n",
      "Epoch 2/100\n",
      "4800/4800 [==============================] - 17s 4ms/step - loss: 0.2361 - categorical_accuracy: 0.9318 - val_loss: 0.2096 - val_categorical_accuracy: 0.9415\n",
      "Epoch 3/100\n",
      "4800/4800 [==============================] - 16s 3ms/step - loss: 0.2058 - categorical_accuracy: 0.9393 - val_loss: 0.2195 - val_categorical_accuracy: 0.9358\n",
      "Epoch 4/100\n",
      "4800/4800 [==============================] - 16s 3ms/step - loss: 0.1892 - categorical_accuracy: 0.9454 - val_loss: 0.2028 - val_categorical_accuracy: 0.9417\n",
      "Epoch 5/100\n",
      "4800/4800 [==============================] - 16s 3ms/step - loss: 0.1759 - categorical_accuracy: 0.9490 - val_loss: 0.2000 - val_categorical_accuracy: 0.9442\n",
      "Epoch 6/100\n",
      "4800/4800 [==============================] - 17s 3ms/step - loss: 0.1670 - categorical_accuracy: 0.9510 - val_loss: 0.1870 - val_categorical_accuracy: 0.9482\n",
      "Epoch 7/100\n",
      "4800/4800 [==============================] - 17s 3ms/step - loss: 0.1593 - categorical_accuracy: 0.9541 - val_loss: 0.1876 - val_categorical_accuracy: 0.9488\n",
      "Epoch 8/100\n",
      "4800/4800 [==============================] - 17s 4ms/step - loss: 0.1525 - categorical_accuracy: 0.9557 - val_loss: 0.1982 - val_categorical_accuracy: 0.9467\n",
      "Epoch 9/100\n",
      "4800/4800 [==============================] - 17s 3ms/step - loss: 0.1499 - categorical_accuracy: 0.9560 - val_loss: 0.1816 - val_categorical_accuracy: 0.9484\n",
      "Epoch 10/100\n",
      "4800/4800 [==============================] - 18s 4ms/step - loss: 0.1443 - categorical_accuracy: 0.9579 - val_loss: 0.1826 - val_categorical_accuracy: 0.9515\n",
      "Epoch 11/100\n",
      "4800/4800 [==============================] - 17s 4ms/step - loss: 0.1400 - categorical_accuracy: 0.9585 - val_loss: 0.1887 - val_categorical_accuracy: 0.9474\n",
      "Epoch 12/100\n",
      "4800/4800 [==============================] - 14s 3ms/step - loss: 0.1374 - categorical_accuracy: 0.9601 - val_loss: 0.1790 - val_categorical_accuracy: 0.9516\n",
      "Epoch 13/100\n",
      "4800/4800 [==============================] - 16s 3ms/step - loss: 0.1344 - categorical_accuracy: 0.9606 - val_loss: 0.1831 - val_categorical_accuracy: 0.9502\n",
      "Epoch 14/100\n",
      "4800/4800 [==============================] - 14s 3ms/step - loss: 0.1324 - categorical_accuracy: 0.9605 - val_loss: 0.1823 - val_categorical_accuracy: 0.9508\n",
      "Epoch 15/100\n",
      "4800/4800 [==============================] - 15s 3ms/step - loss: 0.1301 - categorical_accuracy: 0.9608 - val_loss: 0.1914 - val_categorical_accuracy: 0.9482\n",
      "Epoch 16/100\n",
      "4800/4800 [==============================] - 16s 3ms/step - loss: 0.1263 - categorical_accuracy: 0.9620 - val_loss: 0.1917 - val_categorical_accuracy: 0.9490\n",
      "Epoch 17/100\n",
      "4800/4800 [==============================] - 17s 4ms/step - loss: 0.1248 - categorical_accuracy: 0.9620 - val_loss: 0.1924 - val_categorical_accuracy: 0.9489\n",
      "Epoch 18/100\n",
      "4800/4800 [==============================] - 18s 4ms/step - loss: 0.1221 - categorical_accuracy: 0.9631 - val_loss: 0.1856 - val_categorical_accuracy: 0.9501\n",
      "Epoch 19/100\n",
      "4800/4800 [==============================] - 17s 3ms/step - loss: 0.1201 - categorical_accuracy: 0.9644 - val_loss: 0.1860 - val_categorical_accuracy: 0.9504\n",
      "Epoch 20/100\n",
      "4800/4800 [==============================] - 16s 3ms/step - loss: 0.1198 - categorical_accuracy: 0.9636 - val_loss: 0.1917 - val_categorical_accuracy: 0.9497\n",
      "Epoch 21/100\n",
      "4800/4800 [==============================] - 16s 3ms/step - loss: 0.1171 - categorical_accuracy: 0.9650 - val_loss: 0.2066 - val_categorical_accuracy: 0.9466\n",
      "Epoch 22/100\n",
      "4800/4800 [==============================] - 15s 3ms/step - loss: 0.1164 - categorical_accuracy: 0.9649 - val_loss: 0.1889 - val_categorical_accuracy: 0.9499\n",
      "Epoch 23/100\n",
      "4800/4800 [==============================] - 15s 3ms/step - loss: 0.1140 - categorical_accuracy: 0.9656 - val_loss: 0.1924 - val_categorical_accuracy: 0.9492\n",
      "Epoch 24/100\n",
      "4800/4800 [==============================] - 17s 3ms/step - loss: 0.1121 - categorical_accuracy: 0.9665 - val_loss: 0.1960 - val_categorical_accuracy: 0.9519\n",
      "Epoch 25/100\n",
      "4800/4800 [==============================] - 15s 3ms/step - loss: 0.1106 - categorical_accuracy: 0.9658 - val_loss: 0.1966 - val_categorical_accuracy: 0.9487\n",
      "Epoch 26/100\n",
      "4800/4800 [==============================] - 14s 3ms/step - loss: 0.1100 - categorical_accuracy: 0.9666 - val_loss: 0.2068 - val_categorical_accuracy: 0.9466\n",
      "Epoch 27/100\n",
      "4800/4800 [==============================] - 14s 3ms/step - loss: 0.1084 - categorical_accuracy: 0.9675 - val_loss: 0.1928 - val_categorical_accuracy: 0.9502\n",
      "Epoch 28/100\n",
      "4800/4800 [==============================] - 14s 3ms/step - loss: 0.1069 - categorical_accuracy: 0.9678 - val_loss: 0.2053 - val_categorical_accuracy: 0.9481\n",
      "Epoch 29/100\n",
      "4800/4800 [==============================] - 14s 3ms/step - loss: 0.1051 - categorical_accuracy: 0.9678 - val_loss: 0.2059 - val_categorical_accuracy: 0.9488\n",
      "Epoch 30/100\n",
      "4800/4800 [==============================] - 15s 3ms/step - loss: 0.1038 - categorical_accuracy: 0.9679 - val_loss: 0.1947 - val_categorical_accuracy: 0.9501\n",
      "Epoch 31/100\n",
      "4800/4800 [==============================] - 15s 3ms/step - loss: 0.1032 - categorical_accuracy: 0.9687 - val_loss: 0.2058 - val_categorical_accuracy: 0.9484\n",
      "Epoch 32/100\n",
      "4800/4800 [==============================] - 15s 3ms/step - loss: 0.1027 - categorical_accuracy: 0.9679 - val_loss: 0.2007 - val_categorical_accuracy: 0.9507\n",
      "Epoch 33/100\n",
      "4800/4800 [==============================] - 15s 3ms/step - loss: 0.1016 - categorical_accuracy: 0.9682 - val_loss: 0.2052 - val_categorical_accuracy: 0.9482\n",
      "Epoch 34/100\n",
      "4800/4800 [==============================] - 15s 3ms/step - loss: 0.0986 - categorical_accuracy: 0.9695 - val_loss: 0.2083 - val_categorical_accuracy: 0.9478\n",
      "Epoch 35/100\n",
      "4800/4800 [==============================] - 15s 3ms/step - loss: 0.0984 - categorical_accuracy: 0.9700 - val_loss: 0.2051 - val_categorical_accuracy: 0.9486\n",
      "Epoch 36/100\n",
      "4800/4800 [==============================] - 15s 3ms/step - loss: 0.0978 - categorical_accuracy: 0.9699 - val_loss: 0.2178 - val_categorical_accuracy: 0.9455\n",
      "Epoch 37/100\n",
      "4800/4800 [==============================] - 15s 3ms/step - loss: 0.0976 - categorical_accuracy: 0.9703 - val_loss: 0.2206 - val_categorical_accuracy: 0.9448\n",
      "Epoch 38/100\n",
      "4800/4800 [==============================] - 15s 3ms/step - loss: 0.0953 - categorical_accuracy: 0.9710 - val_loss: 0.2080 - val_categorical_accuracy: 0.9479\n",
      "Epoch 39/100\n",
      "4800/4800 [==============================] - 14s 3ms/step - loss: 0.0945 - categorical_accuracy: 0.9709 - val_loss: 0.2126 - val_categorical_accuracy: 0.9490\n",
      "Epoch 40/100\n",
      "4800/4800 [==============================] - 16s 3ms/step - loss: 0.0931 - categorical_accuracy: 0.9716 - val_loss: 0.2124 - val_categorical_accuracy: 0.9484\n",
      "Epoch 41/100\n",
      "4800/4800 [==============================] - 17s 4ms/step - loss: 0.0929 - categorical_accuracy: 0.9713 - val_loss: 0.2208 - val_categorical_accuracy: 0.9478\n",
      "Epoch 42/100\n",
      "4800/4800 [==============================] - 18s 4ms/step - loss: 0.0914 - categorical_accuracy: 0.9718 - val_loss: 0.2147 - val_categorical_accuracy: 0.9488\n",
      "Epoch 43/100\n",
      "4800/4800 [==============================] - 19s 4ms/step - loss: 0.0911 - categorical_accuracy: 0.9719 - val_loss: 0.2241 - val_categorical_accuracy: 0.9473\n",
      "Epoch 44/100\n",
      "4800/4800 [==============================] - 17s 4ms/step - loss: 0.0906 - categorical_accuracy: 0.9722 - val_loss: 0.2208 - val_categorical_accuracy: 0.9504\n",
      "Epoch 45/100\n",
      "4800/4800 [==============================] - 19s 4ms/step - loss: 0.0888 - categorical_accuracy: 0.9724 - val_loss: 0.2260 - val_categorical_accuracy: 0.9462\n",
      "Epoch 46/100\n",
      "4800/4800 [==============================] - 17s 3ms/step - loss: 0.0894 - categorical_accuracy: 0.9720 - val_loss: 0.2193 - val_categorical_accuracy: 0.9472\n",
      "Epoch 47/100\n",
      "4800/4800 [==============================] - 16s 3ms/step - loss: 0.0883 - categorical_accuracy: 0.9725 - val_loss: 0.2208 - val_categorical_accuracy: 0.9473\n",
      "Epoch 48/100\n",
      "4800/4800 [==============================] - 16s 3ms/step - loss: 0.0867 - categorical_accuracy: 0.9731 - val_loss: 0.2314 - val_categorical_accuracy: 0.9467\n"
     ]
    },
    {
     "name": "stdout",
     "output_type": "stream",
     "text": [
      "Epoch 49/100\n",
      "4800/4800 [==============================] - 16s 3ms/step - loss: 0.0858 - categorical_accuracy: 0.9735 - val_loss: 0.2267 - val_categorical_accuracy: 0.9477\n",
      "Epoch 50/100\n",
      "4800/4800 [==============================] - 17s 4ms/step - loss: 0.0863 - categorical_accuracy: 0.9730 - val_loss: 0.2254 - val_categorical_accuracy: 0.9483\n",
      "Epoch 51/100\n",
      "4800/4800 [==============================] - 16s 3ms/step - loss: 0.0855 - categorical_accuracy: 0.9730 - val_loss: 0.2272 - val_categorical_accuracy: 0.9477\n",
      "Epoch 52/100\n",
      "4800/4800 [==============================] - 19s 4ms/step - loss: 0.0848 - categorical_accuracy: 0.9734 - val_loss: 0.2339 - val_categorical_accuracy: 0.9467\n",
      "Epoch 53/100\n",
      "4800/4800 [==============================] - 17s 4ms/step - loss: 0.0831 - categorical_accuracy: 0.9738 - val_loss: 0.2439 - val_categorical_accuracy: 0.9446\n",
      "Epoch 54/100\n",
      "4800/4800 [==============================] - 17s 4ms/step - loss: 0.0836 - categorical_accuracy: 0.9735 - val_loss: 0.2288 - val_categorical_accuracy: 0.9478\n",
      "Epoch 55/100\n",
      "4800/4800 [==============================] - 15s 3ms/step - loss: 0.0825 - categorical_accuracy: 0.9735 - val_loss: 0.2331 - val_categorical_accuracy: 0.9473\n",
      "Epoch 56/100\n",
      "4800/4800 [==============================] - 15s 3ms/step - loss: 0.0814 - categorical_accuracy: 0.9743 - val_loss: 0.2306 - val_categorical_accuracy: 0.9477\n",
      "Epoch 57/100\n",
      "4800/4800 [==============================] - 17s 4ms/step - loss: 0.0808 - categorical_accuracy: 0.9757 - val_loss: 0.2562 - val_categorical_accuracy: 0.9432\n",
      "Epoch 58/100\n",
      "4800/4800 [==============================] - 16s 3ms/step - loss: 0.0805 - categorical_accuracy: 0.9741 - val_loss: 0.2416 - val_categorical_accuracy: 0.9461\n",
      "Epoch 59/100\n",
      "4800/4800 [==============================] - 17s 4ms/step - loss: 0.0804 - categorical_accuracy: 0.9750 - val_loss: 0.2488 - val_categorical_accuracy: 0.9448\n",
      "Epoch 60/100\n",
      "4800/4800 [==============================] - 17s 4ms/step - loss: 0.0795 - categorical_accuracy: 0.9753 - val_loss: 0.2426 - val_categorical_accuracy: 0.9468\n",
      "Epoch 61/100\n",
      "4800/4800 [==============================] - 18s 4ms/step - loss: 0.0783 - categorical_accuracy: 0.9762 - val_loss: 0.2447 - val_categorical_accuracy: 0.9467\n",
      "Epoch 62/100\n",
      "4800/4800 [==============================] - 17s 4ms/step - loss: 0.0781 - categorical_accuracy: 0.9752 - val_loss: 0.2503 - val_categorical_accuracy: 0.9452\n",
      "Epoch 63/100\n",
      "4800/4800 [==============================] - 18s 4ms/step - loss: 0.0782 - categorical_accuracy: 0.9757 - val_loss: 0.2451 - val_categorical_accuracy: 0.9471\n",
      "Epoch 64/100\n",
      "4800/4800 [==============================] - 17s 4ms/step - loss: 0.0766 - categorical_accuracy: 0.9756 - val_loss: 0.2494 - val_categorical_accuracy: 0.9478\n",
      "Epoch 65/100\n",
      "4800/4800 [==============================] - 18s 4ms/step - loss: 0.0770 - categorical_accuracy: 0.9758 - val_loss: 0.2552 - val_categorical_accuracy: 0.9463\n",
      "Epoch 66/100\n",
      "4800/4800 [==============================] - 17s 4ms/step - loss: 0.0765 - categorical_accuracy: 0.9758 - val_loss: 0.2506 - val_categorical_accuracy: 0.9470\n",
      "Epoch 67/100\n",
      "4800/4800 [==============================] - 17s 4ms/step - loss: 0.0745 - categorical_accuracy: 0.9759 - val_loss: 0.2558 - val_categorical_accuracy: 0.9477\n",
      "Epoch 68/100\n",
      "4800/4800 [==============================] - 17s 4ms/step - loss: 0.0750 - categorical_accuracy: 0.9761 - val_loss: 0.2576 - val_categorical_accuracy: 0.9463\n",
      "Epoch 69/100\n",
      "4800/4800 [==============================] - 17s 4ms/step - loss: 0.0744 - categorical_accuracy: 0.9763 - val_loss: 0.2529 - val_categorical_accuracy: 0.9470\n",
      "Epoch 70/100\n",
      "4800/4800 [==============================] - 17s 4ms/step - loss: 0.0738 - categorical_accuracy: 0.9763 - val_loss: 0.2561 - val_categorical_accuracy: 0.9467\n",
      "Epoch 71/100\n",
      "4800/4800 [==============================] - 18s 4ms/step - loss: 0.0738 - categorical_accuracy: 0.9763 - val_loss: 0.2782 - val_categorical_accuracy: 0.9405\n",
      "Epoch 72/100\n",
      "4800/4800 [==============================] - 17s 4ms/step - loss: 0.0725 - categorical_accuracy: 0.9766 - val_loss: 0.2622 - val_categorical_accuracy: 0.9471\n",
      "Epoch 73/100\n",
      "4800/4800 [==============================] - 18s 4ms/step - loss: 0.0727 - categorical_accuracy: 0.9766 - val_loss: 0.2661 - val_categorical_accuracy: 0.9448\n",
      "Epoch 74/100\n",
      "4800/4800 [==============================] - 16s 3ms/step - loss: 0.0717 - categorical_accuracy: 0.9773 - val_loss: 0.2716 - val_categorical_accuracy: 0.9463\n",
      "Epoch 75/100\n",
      "4800/4800 [==============================] - 16s 3ms/step - loss: 0.0733 - categorical_accuracy: 0.9763 - val_loss: 0.2689 - val_categorical_accuracy: 0.9458\n",
      "Epoch 76/100\n",
      "4800/4800 [==============================] - 17s 4ms/step - loss: 0.0704 - categorical_accuracy: 0.9772 - val_loss: 0.2726 - val_categorical_accuracy: 0.9442\n",
      "Epoch 77/100\n",
      "4800/4800 [==============================] - 17s 4ms/step - loss: 0.0713 - categorical_accuracy: 0.9766 - val_loss: 0.2741 - val_categorical_accuracy: 0.9444\n",
      "Epoch 78/100\n",
      "4800/4800 [==============================] - 17s 4ms/step - loss: 0.0691 - categorical_accuracy: 0.9775 - val_loss: 0.2782 - val_categorical_accuracy: 0.9452\n",
      "Epoch 79/100\n",
      "4800/4800 [==============================] - 18s 4ms/step - loss: 0.0703 - categorical_accuracy: 0.9778 - val_loss: 0.2816 - val_categorical_accuracy: 0.9430\n",
      "Epoch 80/100\n",
      "4800/4800 [==============================] - 18s 4ms/step - loss: 0.0687 - categorical_accuracy: 0.9780 - val_loss: 0.2775 - val_categorical_accuracy: 0.9462\n",
      "Epoch 81/100\n",
      "4800/4800 [==============================] - 18s 4ms/step - loss: 0.0681 - categorical_accuracy: 0.9782 - val_loss: 0.2917 - val_categorical_accuracy: 0.9429\n",
      "Epoch 82/100\n",
      "4800/4800 [==============================] - 18s 4ms/step - loss: 0.0687 - categorical_accuracy: 0.9776 - val_loss: 0.2784 - val_categorical_accuracy: 0.9457\n",
      "Epoch 83/100\n",
      "4800/4800 [==============================] - 19s 4ms/step - loss: 0.0680 - categorical_accuracy: 0.9784 - val_loss: 0.3065 - val_categorical_accuracy: 0.9395\n",
      "Epoch 84/100\n",
      "4800/4800 [==============================] - 17s 4ms/step - loss: 0.0680 - categorical_accuracy: 0.9783 - val_loss: 0.2946 - val_categorical_accuracy: 0.9431\n",
      "Epoch 85/100\n",
      "4800/4800 [==============================] - 18s 4ms/step - loss: 0.0678 - categorical_accuracy: 0.9778 - val_loss: 0.2812 - val_categorical_accuracy: 0.9453\n",
      "Epoch 86/100\n",
      "4800/4800 [==============================] - 18s 4ms/step - loss: 0.0668 - categorical_accuracy: 0.9784 - val_loss: 0.2864 - val_categorical_accuracy: 0.9452\n",
      "Epoch 87/100\n",
      "4800/4800 [==============================] - 18s 4ms/step - loss: 0.0665 - categorical_accuracy: 0.9783 - val_loss: 0.2932 - val_categorical_accuracy: 0.9433\n",
      "Epoch 88/100\n",
      "4800/4800 [==============================] - 17s 4ms/step - loss: 0.0672 - categorical_accuracy: 0.9784 - val_loss: 0.2894 - val_categorical_accuracy: 0.9442\n",
      "Epoch 89/100\n",
      "4800/4800 [==============================] - 18s 4ms/step - loss: 0.0652 - categorical_accuracy: 0.9787 - val_loss: 0.3061 - val_categorical_accuracy: 0.9428\n",
      "Epoch 90/100\n",
      "4800/4800 [==============================] - 18s 4ms/step - loss: 0.0645 - categorical_accuracy: 0.9790 - val_loss: 0.2948 - val_categorical_accuracy: 0.9440\n",
      "Epoch 91/100\n",
      "4800/4800 [==============================] - 17s 4ms/step - loss: 0.0650 - categorical_accuracy: 0.9795 - val_loss: 0.3036 - val_categorical_accuracy: 0.9425\n",
      "Epoch 92/100\n",
      "4800/4800 [==============================] - 16s 3ms/step - loss: 0.0647 - categorical_accuracy: 0.9791 - val_loss: 0.2968 - val_categorical_accuracy: 0.9445\n",
      "Epoch 93/100\n",
      "4800/4800 [==============================] - 18s 4ms/step - loss: 0.0642 - categorical_accuracy: 0.9792 - val_loss: 0.3001 - val_categorical_accuracy: 0.9417\n",
      "Epoch 94/100\n",
      "4800/4800 [==============================] - 18s 4ms/step - loss: 0.0626 - categorical_accuracy: 0.9794 - val_loss: 0.3199 - val_categorical_accuracy: 0.9409\n",
      "Epoch 95/100\n",
      "4800/4800 [==============================] - 18s 4ms/step - loss: 0.0632 - categorical_accuracy: 0.9791 - val_loss: 0.3060 - val_categorical_accuracy: 0.9407\n",
      "Epoch 96/100\n",
      "4800/4800 [==============================] - 18s 4ms/step - loss: 0.0656 - categorical_accuracy: 0.9787 - val_loss: 0.3118 - val_categorical_accuracy: 0.9424\n"
     ]
    },
    {
     "name": "stdout",
     "output_type": "stream",
     "text": [
      "Epoch 97/100\n",
      "4800/4800 [==============================] - 17s 3ms/step - loss: 0.0621 - categorical_accuracy: 0.9803 - val_loss: 0.3185 - val_categorical_accuracy: 0.9418\n",
      "Epoch 98/100\n",
      "4800/4800 [==============================] - 19s 4ms/step - loss: 0.0621 - categorical_accuracy: 0.9798 - val_loss: 0.3082 - val_categorical_accuracy: 0.9431\n",
      "Epoch 99/100\n",
      "4800/4800 [==============================] - 17s 4ms/step - loss: 0.0628 - categorical_accuracy: 0.9800 - val_loss: 0.3129 - val_categorical_accuracy: 0.9427\n",
      "Epoch 100/100\n",
      "4800/4800 [==============================] - 17s 4ms/step - loss: 0.0620 - categorical_accuracy: 0.9795 - val_loss: 0.3059 - val_categorical_accuracy: 0.9443\n"
     ]
    }
   ],
   "source": [
    "history = classificador.fit(X_train, Y_train, batch_size = 10,epochs = 100, verbose = 1, validation_split=0.2)\n",
    "#history = model.fit(X_train, Y_train, batch_size=BATCH_SIZE, epochs=NB_EPOCH, verbose=VERBOSE, validation_split=VALIDATION_SPLIT)"
   ]
  },
  {
   "cell_type": "code",
   "execution_count": 11,
   "id": "bfb3e800",
   "metadata": {},
   "outputs": [
    {
     "name": "stdout",
     "output_type": "stream",
     "text": [
      "313/313 [==============================] - 2s 5ms/step - loss: 0.2956 - categorical_accuracy: 0.9466\n",
      "Test score 0.29563775658607483\n",
      "Test accuracy 0.9466000199317932\n"
     ]
    }
   ],
   "source": [
    "score = classificador.evaluate(X_test, Y_test, verbose=1)\n",
    "print('Test score', score[0])\n",
    "print('Test accuracy', score[1])"
   ]
  },
  {
   "cell_type": "code",
   "execution_count": 12,
   "id": "3e1a4273",
   "metadata": {},
   "outputs": [
    {
     "name": "stdout",
     "output_type": "stream",
     "text": [
      "313/313 [==============================] - 1s 4ms/step - loss: 0.2956 - categorical_accuracy: 0.9466\n",
      "313/313 [==============================] - 1s 2ms/step\n"
     ]
    }
   ],
   "source": [
    "resultado = classificador.evaluate(X_test, Y_test, verbose=1)\n",
    "previsoes = classificador.predict(X_test)\n",
    "previsoes = (previsoes > 0.5)\n",
    "import numpy as np\n",
    "classe_teste2 = [np.argmax(t) for t in Y_test]\n",
    "previsoes2 = [np.argmax(t) for t in previsoes]\n",
    "\n",
    "from sklearn.metrics import confusion_matrix\n",
    "matriz = confusion_matrix(previsoes2, classe_teste2)"
   ]
  },
  {
   "cell_type": "code",
   "execution_count": 13,
   "id": "bc9c2344",
   "metadata": {},
   "outputs": [
    {
     "name": "stdout",
     "output_type": "stream",
     "text": [
      "[[ 955    3   10    5    5    9   11    4   10    9]\n",
      " [   1 1110    3    3    2    3    2    4    6    4]\n",
      " [   2    5  969   13    4    2    6   16    4    2]\n",
      " [   3    0   15  932    0   14    0   10   12    4]\n",
      " [   2    0    6    3  937    6   13    5   12   24]\n",
      " [   4    1    3   27    2  831    8    1    6   10]\n",
      " [   4    3    5    3   10    9  909    0    5    1]\n",
      " [   4    5   12    8    2    4    1  974    7   16]\n",
      " [   1    8    9   11    2    9    7    3  906    6]\n",
      " [   4    0    0    5   18    5    1   11    6  933]]\n"
     ]
    }
   ],
   "source": [
    "print(matriz)"
   ]
  },
  {
   "cell_type": "code",
   "execution_count": 14,
   "id": "812f94bc",
   "metadata": {},
   "outputs": [
    {
     "data": {
      "text/plain": [
       "dict_keys(['loss', 'categorical_accuracy', 'val_loss', 'val_categorical_accuracy'])"
      ]
     },
     "execution_count": 14,
     "metadata": {},
     "output_type": "execute_result"
    }
   ],
   "source": [
    "history_dict = history.history\n",
    "history_dict.keys()"
   ]
  },
  {
   "cell_type": "code",
   "execution_count": 15,
   "id": "09be42f3",
   "metadata": {},
   "outputs": [
    {
     "data": {
      "image/png": "[encoded data removed]",
      "text/plain": [
       "<Figure size 640x480 with 1 Axes>"
      ]
     },
     "metadata": {},
     "output_type": "display_data"
    }
   ],
   "source": [
    "import matplotlib.pyplot as plt\n",
    "\n",
    "history_dict = history.history\n",
    "loss_values = history_dict['loss']\n",
    "val_loss_values = history_dict['val_loss']\n",
    "\n",
    "#epochs = range(1, len('accuracy') + 1)\n",
    "epochs = np.arange(1,100 + 1)\n",
    "\n",
    "plt.plot(epochs, loss_values, 'bo', label='Training loss')\n",
    "plt.plot(epochs, val_loss_values, 'b', label='Validation loss')\n",
    "plt.title('Training and validation loss')\n",
    "plt.xlabel('Epochs')\n",
    "plt.ylabel('Loss')\n",
    "plt.legend()\n",
    "\n",
    "plt.show()"
   ]
  },
  {
   "cell_type": "code",
   "execution_count": 16,
   "id": "d02b59fb",
   "metadata": {},
   "outputs": [
    {
     "data": {
      "image/png": "[encoded data removed]",
      "text/plain": [
       "<Figure size 640x480 with 1 Axes>"
      ]
     },
     "metadata": {},
     "output_type": "display_data"
    }
   ],
   "source": [
    "acc_values = history_dict['categorical_accuracy']\n",
    "val_acc_values = history_dict['val_categorical_accuracy']\n",
    "\n",
    "plt.plot(epochs, acc_values, 'bo', label='Training accuracy')\n",
    "plt.plot(epochs, val_acc_values, 'b', label='Validation accuracy')\n",
    "plt.title('Training and validation accuracy')\n",
    "plt.xlabel('Epochs')\n",
    "plt.ylabel('Loss')\n",
    "plt.legend()\n",
    "\n",
    "plt.show()"
   ]
  },
  {
   "cell_type": "code",
   "execution_count": 29,
   "id": "699c39e7",
   "metadata": {},
   "outputs": [
    {
     "ename": "NameError",
     "evalue": "name 'X_teste' is not defined",
     "output_type": "error",
     "traceback": [
      "\u001b[1;31m---------------------------------------------------------------------------\u001b[0m",
      "\u001b[1;31mNameError\u001b[0m                                 Traceback (most recent call last)",
      "Input \u001b[1;32mIn [29]\u001b[0m, in \u001b[0;36m<cell line: 1>\u001b[1;34m()\u001b[0m\n\u001b[1;32m----> 1\u001b[0m resultado \u001b[38;5;241m=\u001b[39m classificador\u001b[38;5;241m.\u001b[39mevaluate(\u001b[43mX_teste\u001b[49m, Y_teste)\n\u001b[0;32m      2\u001b[0m previsoes \u001b[38;5;241m=\u001b[39m classificador\u001b[38;5;241m.\u001b[39mpredict(Y_teste)\n\u001b[0;32m      3\u001b[0m previsoes \u001b[38;5;241m=\u001b[39m (previsoes \u001b[38;5;241m>\u001b[39m \u001b[38;5;241m0.5\u001b[39m)\n",
      "\u001b[1;31mNameError\u001b[0m: name 'X_teste' is not defined"
     ]
    }
   ],
   "source": [
    "resultado = classificador.evaluate(X_teste, Y_teste)\n",
    "previsoes = classificador.predict(Y_teste)\n",
    "previsoes = (previsoes > 0.5)\n",
    "import numpy as np\n",
    "classe_teste2 = [np.argmax(t) for t in X_teste]\n",
    "previsoes2 = [np.argmax(t) for t in previsoes]\n",
    "\n",
    "from sklearn.metrics import confusion_matrix\n",
    "matriz = confusion_matrix(previsoes2, classe_teste2)"
   ]
  },
  {
   "cell_type": "code",
   "execution_count": 16,
   "id": "1eec2781",
   "metadata": {},
   "outputs": [
    {
     "name": "stdout",
     "output_type": "stream",
     "text": [
      "[[14  0  0]\n",
      " [ 0  9  1]\n",
      " [ 0  0 14]]\n"
     ]
    }
   ],
   "source": [
    "print(matriz)"
   ]
  },
  {
   "cell_type": "code",
   "execution_count": null,
   "id": "39431cb8",
   "metadata": {},
   "outputs": [],
   "source": []
  }
 ],
 "metadata": {
  "kernelspec": {
   "display_name": "Python 3 (ipykernel)",
   "language": "python",
   "name": "python3"
  },
  "language_info": {
   "codemirror_mode": {
    "name": "ipython",
    "version": 3
   },
   "file_extension": ".py",
   "mimetype": "text/x-python",
   "name": "python",
   "nbconvert_exporter": "python",
   "pygments_lexer": "ipython3",
   "version": "3.9.12"
  }
 },
 "nbformat": 4,
 "nbformat_minor": 5
}
