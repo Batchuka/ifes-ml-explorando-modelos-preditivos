{
  "cells": [
    {
      "cell_type": "markdown",
      "metadata": {},
      "source": [
        "# IMPORTS E INSTALAÇÕES\n",
        "---"
      ]
    },
    {
      "cell_type": "code",
      "execution_count": null,
      "metadata": {
        "colab": {
          "base_uri": "https://localhost:8080/"
        },
        "id": "j8MgCQ-Tv2qg",
        "outputId": "8fba15ea-fe7e-441d-a41c-01124a657283"
      },
      "outputs": [],
      "source": [
        "%pip install -r requirements.txt"
      ]
    },
    {
      "cell_type": "code",
      "execution_count": 1,
      "metadata": {
        "id": "ohGj0v833YIG"
      },
      "outputs": [],
      "source": [
        "# from ucimlrepo import fetch_ucirepo # ...\n",
        "\n",
        "from sklearn.preprocessing import LabelEncoder, MinMaxScaler, OneHotEncoder\n",
        "from sklearn.compose import ColumnTransformer\n",
        "from sklearn.model_selection import train_test_split\n",
        "from sklearn.metrics import confusion_matrix, accuracy_score, precision_score, recall_score, f1_score\n",
        "from keras.utils import to_categorical\n",
        "\n",
        "# import tensorflow as tf\n",
        "from keras.models import Sequential, model_from_json\n",
        "from keras.layers import Dense, Dropout\n",
        "from keras.optimizers import SGD\n",
        "\n",
        "\n",
        "# import funcoes_auxiliares as faux\n",
        "import pandas as pd\n",
        "import numpy as np\n",
        "import seaborn as sns\n",
        "import matplotlib.pyplot as plt\n"
      ]
    },
    {
      "cell_type": "markdown",
      "metadata": {},
      "source": [
        "# FUNÇÕES AUXILIARES\n",
        "---"
      ]
    },
    {
      "cell_type": "code",
      "execution_count": 2,
      "metadata": {},
      "outputs": [],
      "source": [
        "def busca_registros_faltantes(df):\n",
        "    # Verifica quais colunas têm pelo menos um dado faltante\n",
        "    colunas_com_faltantes = df.columns[df.isnull().any()]\n",
        "\n",
        "    # Filtra o dataframe original para incluir apenas as colunas com faltantes\n",
        "    subdataframe = df[colunas_com_faltantes]\n",
        "\n",
        "    # Verifica quais linhas têm pelo menos um dado faltante no subdataframe\n",
        "    linhas_com_faltantes = subdataframe.index[subdataframe.isnull().any(axis=1)]\n",
        "\n",
        "    # Filtra novamente o subdataframe para incluir apenas as linhas com faltantes\n",
        "    subdataframe = subdataframe.loc[linhas_com_faltantes]\n",
        "\n",
        "    return subdataframe\n",
        "\n",
        "def plot_historico(history, title):\n",
        "\n",
        "  fig, ax = plt.subplots(1,2,figsize=(26,10))\n",
        "\n",
        "  # Imprime a curva de aprendizado\n",
        "  ax[0].set_title('Mean Absolute Percentage Error', pad=-40)\n",
        "  ax[0].plot(history.history['loss'], label='train')\n",
        "  ax[0].plot(history.history['val_loss'], label='valid')\n",
        "  ax[0].legend(loc='best')\n",
        "\n",
        "  # Imprime a curva de acurácia\n",
        "  ax[1].set_title('Mean Absolute Error', pad=-40)\n",
        "  ax[1].plot(history.history['mae'], label='train')\n",
        "  ax[1].plot(history.history['val_mae'], label='valid')\n",
        "  ax[1].legend(loc='best')\n",
        "\n",
        "  fig.suptitle(title)\n",
        "\n",
        "  #fig.savefig('/content/gdrive/MyDrive/Engenharia Elétrica/Deep Learning/' + title)\n",
        "  #plt.show()\n",
        "\n",
        "def correlacao_e_visualizacao(dataset, target_column, method='pearson', threshold=0.6):\n",
        "    # Calcular a correlação\n",
        "    correlacao = dataset.corrwith(dataset[target_column], method=method)\n",
        "\n",
        "    # Selecionar colunas com base no limiar de correlação\n",
        "    colunas_selecionadas = correlacao[(correlacao >= threshold) | (correlacao <= -threshold)].index\n",
        "\n",
        "    # Criar um DataFrame com as correlações\n",
        "    correlations = pd.DataFrame({method.capitalize(): correlacao})\n",
        "\n",
        "    # Criar um mapa de calor com as correlações originais\n",
        "    sns.set_theme(style='darkgrid')\n",
        "    fig, ax = plt.subplots(1, 2, figsize=(12, 6))\n",
        "\n",
        "    sns.heatmap(data=correlations, annot=True, cmap='coolwarm', fmt=\".2f\", ax=ax[0])\n",
        "    ax[0].set_title(f\"Correlação com '{target_column}'\")\n",
        "\n",
        "    # Criar um novo DataFrame com as colunas selecionadas\n",
        "    dataset_filtrado = dataset[colunas_selecionadas]\n",
        "\n",
        "    # Calcular as correlações para o DataFrame filtrado\n",
        "    correlacao_filtrada = dataset_filtrado.corrwith(dataset[target_column], method=method)\n",
        "\n",
        "    # Criar um mapa de calor para as correlações filtradas\n",
        "    sns.heatmap(data=pd.DataFrame({method.capitalize(): correlacao_filtrada}), annot=True, cmap='coolwarm', fmt=\".2f\", ax=ax[1])\n",
        "    ax[1].set_title(f\"Correlação de {method.capitalize()} (Filtrada)\")\n",
        "\n",
        "    plt.tight_layout()\n",
        "    plt.show()\n",
        "\n",
        "def exibir_metricas_classificacao(classe_teste, previsoes):\n",
        "    # Calcular métricas\n",
        "    acuracia = accuracy_score(classe_teste, previsoes)\n",
        "    precisao = precision_score(classe_teste, previsoes, average=\"micro\")\n",
        "    recall = recall_score(classe_teste, previsoes, average=\"micro\")\n",
        "    f1score = f1_score(classe_teste, previsoes, average=\"micro\")\n",
        "\n",
        "    # Criar um DataFrame para exibir as métricas\n",
        "    df = pd.DataFrame({\n",
        "        'Acurácia': [acuracia],\n",
        "        'Precisão': [precisao],\n",
        "        'Recall': [recall],\n",
        "        'F1-Score': [f1score]\n",
        "    })\n",
        "\n",
        "    return df\n",
        "\n",
        "def exibir_matriz_confusao(classe_teste, previsoes):\n",
        "    matriz = confusion_matrix(classe_teste, previsoes)\n",
        "\n",
        "    plt.figure(figsize=(6, 4))\n",
        "    sns.heatmap(matriz, annot=True, fmt=\"d\", cmap=\"Blues\")\n",
        "    plt.xlabel('Previsto')\n",
        "    plt.ylabel('Verdadeiro')\n",
        "    plt.title('Matriz de Confusão')\n",
        "    plt.show()\n",
        "\n",
        "def plot_loss(history):\n",
        "    history_dict = history.history\n",
        "    loss_values = history_dict['loss']\n",
        "    val_loss_values = history_dict['val_loss']\n",
        "\n",
        "    epochs = np.arange(1, len(val_loss_values) + 1)\n",
        "\n",
        "    plt.plot(epochs, loss_values, 'bo', label='Training loss')\n",
        "    plt.plot(epochs, val_loss_values, 'b', label='Validation loss')\n",
        "    plt.title('Training and Validation Loss')\n",
        "    plt.xlabel('Epochs')\n",
        "    plt.ylabel('Loss')\n",
        "    plt.legend()\n",
        "    plt.show()\n",
        "\n",
        "def plot_accuracy(history, metric_name='categorical_accuracy'):\n",
        "    history_dict = history.history\n",
        "    acc_values = history_dict[metric_name]\n",
        "    val_acc_values = history_dict['val_' + metric_name]\n",
        "\n",
        "    epochs = np.arange(1, len(val_acc_values) + 1)\n",
        "\n",
        "    plt.plot(epochs, acc_values, 'bo', label='Training accuracy')\n",
        "    plt.plot(epochs, val_acc_values, 'b', label='Validation accuracy')\n",
        "    plt.title('Training and Validation Accuracy')\n",
        "    plt.xlabel('Epochs')\n",
        "    plt.ylabel('Accuracy')\n",
        "    plt.legend()\n",
        "    plt.show()\n",
        "\n",
        "def normalize_dataset(dataset, columns_to_exclude):\n",
        "    # Crie um DataFrame com as colunas a serem normalizadas\n",
        "    df_to_normalize = dataset.drop(columns=columns_to_exclude)\n",
        "    \n",
        "    # Realize a normalização Min-Max nas colunas selecionadas\n",
        "    scaler = MinMaxScaler()\n",
        "    df_normalized = pd.DataFrame(scaler.fit_transform(df_to_normalize), columns=df_to_normalize.columns)\n",
        "    \n",
        "    # Combine o DataFrame normalizado com as colunas originais\n",
        "    dataset_normalized = pd.concat([df_normalized, dataset[columns_to_exclude]], axis=1)\n",
        "    \n",
        "    return dataset_normalized\n"
      ]
    },
    {
      "cell_type": "markdown",
      "metadata": {
        "id": "pGdqa2rtyRGn"
      },
      "source": [
        "# EXTRAÇÃO DOS DADOS\n",
        "---"
      ]
    },
    {
      "cell_type": "markdown",
      "metadata": {},
      "source": [
        "## Limpeza dos dados"
      ]
    },
    {
      "cell_type": "code",
      "execution_count": 3,
      "metadata": {
        "colab": {
          "base_uri": "https://localhost:8080/",
          "height": 342
        },
        "id": "V1vw-KvIv6f4",
        "outputId": "c46c5862-e162-4664-d516-09f7269cbe96"
      },
      "outputs": [
        {
          "data": {
            "text/plain": [
              "dateCrawled                0\n",
              "name                       0\n",
              "seller                     0\n",
              "offerType                  0\n",
              "price                      0\n",
              "abtest                     0\n",
              "vehicleType            37869\n",
              "yearOfRegistration         0\n",
              "gearbox                20209\n",
              "powerPS                    0\n",
              "model                  20484\n",
              "kilometer                  0\n",
              "monthOfRegistration        0\n",
              "fuelType               33386\n",
              "brand                      0\n",
              "notRepairedDamage      72060\n",
              "dateCreated                0\n",
              "nrOfPictures               0\n",
              "postalCode                 0\n",
              "lastSeen                   0\n",
              "dtype: int64"
            ]
          },
          "execution_count": 3,
          "metadata": {},
          "output_type": "execute_result"
        }
      ],
      "source": [
        "# Buscando de csv local\n",
        "dataset = pd.read_csv(\"dados-automoveis.csv\", sep=\",\", encoding='latin-1')\n",
        "\n",
        "# Uma descrição estatística dos dados\n",
        "dataset.isna().sum()\n",
        "\n",
        "# dataset.shape"
      ]
    },
    {
      "cell_type": "code",
      "execution_count": 4,
      "metadata": {},
      "outputs": [],
      "source": [
        "dataset_relevante = dataset.drop(columns=[\"dateCrawled\",\"name\", \"vehicleType\", \"seller\",\"offerType\",\"abtest\", \"monthOfRegistration\", \"dateCreated\", \"nrOfPictures\", \"postalCode\", \"lastSeen\"])"
      ]
    },
    {
      "cell_type": "code",
      "execution_count": 5,
      "metadata": {},
      "outputs": [
        {
          "data": {
            "text/plain": [
              "price                     0\n",
              "yearOfRegistration        0\n",
              "gearbox               20209\n",
              "powerPS                   0\n",
              "model                 20484\n",
              "kilometer                 0\n",
              "fuelType              33386\n",
              "brand                     0\n",
              "notRepairedDamage     72060\n",
              "dtype: int64"
            ]
          },
          "execution_count": 5,
          "metadata": {},
          "output_type": "execute_result"
        }
      ],
      "source": [
        "# Uma descrição estatística dos dados\n",
        "dataset_relevante.isna().sum()"
      ]
    },
    {
      "cell_type": "code",
      "execution_count": 6,
      "metadata": {},
      "outputs": [],
      "source": [
        "dataset_filtrado = dataset_relevante.dropna(subset=[\"notRepairedDamage\", \"fuelType\", \"model\", \"gearbox\"])"
      ]
    },
    {
      "cell_type": "code",
      "execution_count": 7,
      "metadata": {},
      "outputs": [
        {
          "data": {
            "text/html": [
              "<div>\n",
              "<style scoped>\n",
              "    .dataframe tbody tr th:only-of-type {\n",
              "        vertical-align: middle;\n",
              "    }\n",
              "\n",
              "    .dataframe tbody tr th {\n",
              "        vertical-align: top;\n",
              "    }\n",
              "\n",
              "    .dataframe thead th {\n",
              "        text-align: right;\n",
              "    }\n",
              "</style>\n",
              "<table border=\"1\" class=\"dataframe\">\n",
              "  <thead>\n",
              "    <tr style=\"text-align: right;\">\n",
              "      <th></th>\n",
              "    </tr>\n",
              "  </thead>\n",
              "  <tbody>\n",
              "  </tbody>\n",
              "</table>\n",
              "</div>"
            ],
            "text/plain": [
              "Empty DataFrame\n",
              "Columns: []\n",
              "Index: []"
            ]
          },
          "execution_count": 7,
          "metadata": {},
          "output_type": "execute_result"
        }
      ],
      "source": [
        "# drop price and normalized-losses from features\n",
        "registro_faltantes = busca_registros_faltantes(dataset_filtrado)\n",
        "registro_faltantes"
      ]
    },
    {
      "cell_type": "markdown",
      "metadata": {},
      "source": [
        "## Verificando correlação"
      ]
    },
    {
      "cell_type": "markdown",
      "metadata": {},
      "source": [
        "correção da lógica pendente! → não está certo!"
      ]
    },
    {
      "cell_type": "code",
      "execution_count": null,
      "metadata": {},
      "outputs": [],
      "source": [
        "# print(dataset_filtrado.dtypes)"
      ]
    },
    {
      "cell_type": "code",
      "execution_count": 21,
      "metadata": {},
      "outputs": [],
      "source": [
        "# # Lista das colunas que você deseja codificar\n",
        "# colunas_para_codificar = ['gearbox', 'model', 'fuelType','brand', 'notRepairedDamage', 'lastSeen']\n",
        "\n",
        "# # Crie um objeto LabelEncoder\n",
        "# label_encoder = LabelEncoder()\n",
        "\n",
        "# # Dataset somente para verificar correlação\n",
        "# dataset_correlacacao = dataset_filtrado.copy()\n",
        "\n",
        "# # Itere pelas colunas e aplique o Label Encoding\n",
        "# for coluna in colunas_para_codificar:\n",
        "#     dataset_correlacacao[coluna] = label_encoder.fit_transform(dataset_correlacacao[coluna])\n",
        "\n",
        "# dataset_correlacacao"
      ]
    },
    {
      "cell_type": "code",
      "execution_count": null,
      "metadata": {},
      "outputs": [],
      "source": [
        "# correlacao_e_visualizacao(dataset_correlacacao, 'price', method='spearman', threshold=0.4)"
      ]
    },
    {
      "cell_type": "code",
      "execution_count": 24,
      "metadata": {},
      "outputs": [],
      "source": [
        "# # Lista de colunas que deseja manter\n",
        "# colunas_desejadas = ['kilometer', 'powerPS', 'yearOfRegistration']\n",
        "\n",
        "# # Sobrescreva o dataset com as colunas desejadas (caso queira usar para algum teste de modelo)\n",
        "# dataset_filtrado_correlacacao = dataset_correlacacao[colunas_desejadas]\n"
      ]
    },
    {
      "cell_type": "markdown",
      "metadata": {},
      "source": [
        "# TRANSFORMAÇÃO DOS DADOS\n",
        "---"
      ]
    },
    {
      "cell_type": "markdown",
      "metadata": {},
      "source": [
        "## Obtendo Classe e Previsores"
      ]
    },
    {
      "cell_type": "code",
      "execution_count": 25,
      "metadata": {},
      "outputs": [
        {
          "data": {
            "text/html": [
              "<div>\n",
              "<style scoped>\n",
              "    .dataframe tbody tr th:only-of-type {\n",
              "        vertical-align: middle;\n",
              "    }\n",
              "\n",
              "    .dataframe tbody tr th {\n",
              "        vertical-align: top;\n",
              "    }\n",
              "\n",
              "    .dataframe thead th {\n",
              "        text-align: right;\n",
              "    }\n",
              "</style>\n",
              "<table border=\"1\" class=\"dataframe\">\n",
              "  <thead>\n",
              "    <tr style=\"text-align: right;\">\n",
              "      <th></th>\n",
              "      <th>price</th>\n",
              "      <th>yearOfRegistration</th>\n",
              "      <th>gearbox</th>\n",
              "      <th>powerPS</th>\n",
              "      <th>model</th>\n",
              "      <th>kilometer</th>\n",
              "      <th>fuelType</th>\n",
              "      <th>brand</th>\n",
              "      <th>notRepairedDamage</th>\n",
              "    </tr>\n",
              "  </thead>\n",
              "  <tbody>\n",
              "    <tr>\n",
              "      <th>3</th>\n",
              "      <td>1500</td>\n",
              "      <td>2001</td>\n",
              "      <td>manuell</td>\n",
              "      <td>75</td>\n",
              "      <td>golf</td>\n",
              "      <td>150000</td>\n",
              "      <td>benzin</td>\n",
              "      <td>volkswagen</td>\n",
              "      <td>nein</td>\n",
              "    </tr>\n",
              "    <tr>\n",
              "      <th>4</th>\n",
              "      <td>3600</td>\n",
              "      <td>2008</td>\n",
              "      <td>manuell</td>\n",
              "      <td>69</td>\n",
              "      <td>fabia</td>\n",
              "      <td>90000</td>\n",
              "      <td>diesel</td>\n",
              "      <td>skoda</td>\n",
              "      <td>nein</td>\n",
              "    </tr>\n",
              "    <tr>\n",
              "      <th>5</th>\n",
              "      <td>650</td>\n",
              "      <td>1995</td>\n",
              "      <td>manuell</td>\n",
              "      <td>102</td>\n",
              "      <td>3er</td>\n",
              "      <td>150000</td>\n",
              "      <td>benzin</td>\n",
              "      <td>bmw</td>\n",
              "      <td>ja</td>\n",
              "    </tr>\n",
              "    <tr>\n",
              "      <th>6</th>\n",
              "      <td>2200</td>\n",
              "      <td>2004</td>\n",
              "      <td>manuell</td>\n",
              "      <td>109</td>\n",
              "      <td>2_reihe</td>\n",
              "      <td>150000</td>\n",
              "      <td>benzin</td>\n",
              "      <td>peugeot</td>\n",
              "      <td>nein</td>\n",
              "    </tr>\n",
              "    <tr>\n",
              "      <th>7</th>\n",
              "      <td>0</td>\n",
              "      <td>1980</td>\n",
              "      <td>manuell</td>\n",
              "      <td>50</td>\n",
              "      <td>andere</td>\n",
              "      <td>40000</td>\n",
              "      <td>benzin</td>\n",
              "      <td>volkswagen</td>\n",
              "      <td>nein</td>\n",
              "    </tr>\n",
              "  </tbody>\n",
              "</table>\n",
              "</div>"
            ],
            "text/plain": [
              "   price  yearOfRegistration  gearbox  powerPS    model  kilometer fuelType  \\\n",
              "3   1500                2001  manuell       75     golf     150000   benzin   \n",
              "4   3600                2008  manuell       69    fabia      90000   diesel   \n",
              "5    650                1995  manuell      102      3er     150000   benzin   \n",
              "6   2200                2004  manuell      109  2_reihe     150000   benzin   \n",
              "7      0                1980  manuell       50   andere      40000   benzin   \n",
              "\n",
              "        brand notRepairedDamage  \n",
              "3  volkswagen              nein  \n",
              "4       skoda              nein  \n",
              "5         bmw                ja  \n",
              "6     peugeot              nein  \n",
              "7  volkswagen              nein  "
            ]
          },
          "execution_count": 25,
          "metadata": {},
          "output_type": "execute_result"
        }
      ],
      "source": [
        "dataset_filtrado.head()"
      ]
    },
    {
      "cell_type": "code",
      "execution_count": 8,
      "metadata": {},
      "outputs": [],
      "source": [
        "# Previsores\n",
        "X = dataset_filtrado.drop(columns=[\"price\"]).values\n",
        "\n",
        "# Classe\n",
        "Y = dataset_filtrado[\"price\"].values"
      ]
    },
    {
      "cell_type": "markdown",
      "metadata": {},
      "source": [
        "## Codificação "
      ]
    },
    {
      "cell_type": "code",
      "execution_count": 9,
      "metadata": {},
      "outputs": [],
      "source": [
        "labelencoder_classe = LabelEncoder()\n",
        "Y = labelencoder_classe.fit_transform(Y)"
      ]
    },
    {
      "cell_type": "code",
      "execution_count": 10,
      "metadata": {},
      "outputs": [],
      "source": [
        "onehotencorder = ColumnTransformer(transformers=[(\"OneHot\", OneHotEncoder(sparse_output=False), [1, 3, 5, 6, 7])], remainder='passthrough')\n",
        "X = onehotencorder.fit_transform(X)"
      ]
    },
    {
      "cell_type": "markdown",
      "metadata": {},
      "source": [
        "## Normalizando"
      ]
    },
    {
      "cell_type": "code",
      "execution_count": 11,
      "metadata": {},
      "outputs": [],
      "source": [
        "scaler_X = MinMaxScaler()\n",
        "X = scaler_X.fit_transform(X)"
      ]
    },
    {
      "cell_type": "markdown",
      "metadata": {
        "id": "7LBst74ZyV2Z"
      },
      "source": [
        "# CARREGANDO DADOS (MODELO)\n",
        "---"
      ]
    },
    {
      "cell_type": "markdown",
      "metadata": {},
      "source": [
        "##  Separando Teste e Treino"
      ]
    },
    {
      "cell_type": "code",
      "execution_count": 12,
      "metadata": {
        "id": "uKChebNryVmF"
      },
      "outputs": [],
      "source": [
        "# Base de treino e teste\n",
        "train_x, test_x, train_y, test_y = train_test_split(X, Y, test_size=0.25)"
      ]
    },
    {
      "cell_type": "markdown",
      "metadata": {},
      "source": [
        "## Criando modelo"
      ]
    },
    {
      "cell_type": "code",
      "execution_count": 13,
      "metadata": {},
      "outputs": [],
      "source": [
        "classificador = Sequential()\n",
        "classificador.add(Dense(units = 2, activation = 'softmax', kernel_initializer = 'random_uniform', input_dim = train_x.shape[1]))\n",
        "classificador.add(Dense(units = 1, activation = 'sigmoid'))"
      ]
    },
    {
      "cell_type": "markdown",
      "metadata": {},
      "source": [
        "## Compilando o modelo"
      ]
    },
    {
      "cell_type": "code",
      "execution_count": 14,
      "metadata": {},
      "outputs": [
        {
          "name": "stdout",
          "output_type": "stream",
          "text": [
            "Model: \"sequential\"\n",
            "_________________________________________________________________\n",
            " Layer (type)                Output Shape              Param #   \n",
            "=================================================================\n",
            " dense (Dense)               (None, 2)                 608       \n",
            "                                                                 \n",
            " dense_1 (Dense)             (None, 1)                 3         \n",
            "                                                                 \n",
            "=================================================================\n",
            "Total params: 611 (2.39 KB)\n",
            "Trainable params: 611 (2.39 KB)\n",
            "Non-trainable params: 0 (0.00 Byte)\n",
            "_________________________________________________________________\n"
          ]
        }
      ],
      "source": [
        "classificador.compile(optimizer = 'adam', loss = 'binary_crossentropy', metrics = ['binary_accuracy'])\n",
        "classificador.summary()"
      ]
    },
    {
      "cell_type": "markdown",
      "metadata": {},
      "source": [
        "## Treinando o modelo"
      ]
    },
    {
      "cell_type": "code",
      "execution_count": 15,
      "metadata": {},
      "outputs": [
        {
          "name": "stdout",
          "output_type": "stream",
          "text": [
            "Epoch 1/100\n",
            "33/33 [==============================] - 1s 14ms/step - loss: 483.8352 - binary_accuracy: 0.0142 - val_loss: 369.4309 - val_binary_accuracy: 0.0143\n",
            "Epoch 2/100\n",
            "33/33 [==============================] - 0s 8ms/step - loss: 269.2852 - binary_accuracy: 0.0142 - val_loss: 163.0579 - val_binary_accuracy: 0.0143\n",
            "Epoch 3/100\n",
            "33/33 [==============================] - 0s 8ms/step - loss: 73.7570 - binary_accuracy: 0.0133 - val_loss: -20.9674 - val_binary_accuracy: 0.0040\n",
            "Epoch 4/100\n",
            "33/33 [==============================] - 0s 8ms/step - loss: -99.3838 - binary_accuracy: 0.0018 - val_loss: -183.3241 - val_binary_accuracy: 0.0012\n",
            "Epoch 5/100\n",
            "33/33 [==============================] - 0s 9ms/step - loss: -253.1938 - binary_accuracy: 0.0015 - val_loss: -329.1093 - val_binary_accuracy: 0.0012\n",
            "Epoch 6/100\n",
            "33/33 [==============================] - 0s 8ms/step - loss: -392.6039 - binary_accuracy: 0.0015 - val_loss: -462.8408 - val_binary_accuracy: 0.0012\n",
            "Epoch 7/100\n",
            "33/33 [==============================] - 0s 8ms/step - loss: -521.8021 - binary_accuracy: 0.0015 - val_loss: -588.2162 - val_binary_accuracy: 0.0012\n",
            "Epoch 8/100\n",
            "33/33 [==============================] - 0s 8ms/step - loss: -643.9404 - binary_accuracy: 0.0015 - val_loss: -707.6384 - val_binary_accuracy: 0.0012\n",
            "Epoch 9/100\n",
            "33/33 [==============================] - 0s 9ms/step - loss: -761.0197 - binary_accuracy: 0.0015 - val_loss: -822.7235 - val_binary_accuracy: 0.0012\n",
            "Epoch 10/100\n",
            "33/33 [==============================] - 0s 8ms/step - loss: -874.3972 - binary_accuracy: 0.0015 - val_loss: -934.7947 - val_binary_accuracy: 0.0012\n",
            "Epoch 11/100\n",
            "33/33 [==============================] - 0s 8ms/step - loss: -985.0278 - binary_accuracy: 0.0015 - val_loss: -1044.5179 - val_binary_accuracy: 0.0012\n",
            "Epoch 12/100\n",
            "33/33 [==============================] - 0s 8ms/step - loss: -1093.5630 - binary_accuracy: 0.0015 - val_loss: -1152.2379 - val_binary_accuracy: 0.0012\n",
            "Epoch 13/100\n",
            "33/33 [==============================] - 0s 9ms/step - loss: -1200.4072 - binary_accuracy: 0.0015 - val_loss: -1258.6130 - val_binary_accuracy: 0.0012\n",
            "Epoch 14/100\n",
            "33/33 [==============================] - 0s 8ms/step - loss: -1305.9961 - binary_accuracy: 0.0015 - val_loss: -1363.6814 - val_binary_accuracy: 0.0012\n",
            "Epoch 15/100\n",
            "33/33 [==============================] - 0s 9ms/step - loss: -1410.3538 - binary_accuracy: 0.0015 - val_loss: -1467.8334 - val_binary_accuracy: 0.0012\n",
            "Epoch 16/100\n",
            "33/33 [==============================] - 0s 8ms/step - loss: -1513.8743 - binary_accuracy: 0.0015 - val_loss: -1571.1526 - val_binary_accuracy: 0.0012\n",
            "Epoch 17/100\n",
            "33/33 [==============================] - 0s 9ms/step - loss: -1616.6836 - binary_accuracy: 0.0015 - val_loss: -1673.7643 - val_binary_accuracy: 0.0012\n",
            "Epoch 18/100\n",
            "33/33 [==============================] - 0s 9ms/step - loss: -1718.8149 - binary_accuracy: 0.0015 - val_loss: -1775.8096 - val_binary_accuracy: 0.0012\n",
            "Epoch 19/100\n",
            "33/33 [==============================] - 0s 9ms/step - loss: -1820.4104 - binary_accuracy: 0.0015 - val_loss: -1877.4644 - val_binary_accuracy: 0.0012\n",
            "Epoch 20/100\n",
            "33/33 [==============================] - 0s 8ms/step - loss: -1921.5704 - binary_accuracy: 0.0015 - val_loss: -1978.4558 - val_binary_accuracy: 0.0012\n",
            "Epoch 21/100\n",
            "33/33 [==============================] - 0s 8ms/step - loss: -2022.2350 - binary_accuracy: 0.0015 - val_loss: -2079.2307 - val_binary_accuracy: 0.0012\n",
            "Epoch 22/100\n",
            "33/33 [==============================] - 0s 9ms/step - loss: -2122.5928 - binary_accuracy: 0.0015 - val_loss: -2179.6770 - val_binary_accuracy: 0.0012\n",
            "Epoch 23/100\n",
            "33/33 [==============================] - 0s 8ms/step - loss: -2222.6001 - binary_accuracy: 0.0015 - val_loss: -2279.6775 - val_binary_accuracy: 0.0012\n",
            "Epoch 24/100\n",
            "33/33 [==============================] - 0s 8ms/step - loss: -2322.2739 - binary_accuracy: 0.0015 - val_loss: -2379.3135 - val_binary_accuracy: 0.0012\n",
            "Epoch 25/100\n",
            "33/33 [==============================] - 0s 9ms/step - loss: -2421.6694 - binary_accuracy: 0.0015 - val_loss: -2478.8557 - val_binary_accuracy: 0.0012\n",
            "Epoch 26/100\n",
            "33/33 [==============================] - 0s 8ms/step - loss: -2520.8667 - binary_accuracy: 0.0015 - val_loss: -2578.1780 - val_binary_accuracy: 0.0012\n",
            "Epoch 27/100\n",
            "33/33 [==============================] - 0s 8ms/step - loss: -2619.7947 - binary_accuracy: 0.0015 - val_loss: -2677.1208 - val_binary_accuracy: 0.0012\n",
            "Epoch 28/100\n",
            "33/33 [==============================] - 0s 9ms/step - loss: -2718.5435 - binary_accuracy: 0.0015 - val_loss: -2775.9280 - val_binary_accuracy: 0.0012\n",
            "Epoch 29/100\n",
            "33/33 [==============================] - 0s 9ms/step - loss: -2817.0603 - binary_accuracy: 0.0015 - val_loss: -2874.6560 - val_binary_accuracy: 0.0012\n",
            "Epoch 30/100\n",
            "33/33 [==============================] - 0s 8ms/step - loss: -2915.5063 - binary_accuracy: 0.0015 - val_loss: -2973.1794 - val_binary_accuracy: 0.0012\n",
            "Epoch 31/100\n",
            "33/33 [==============================] - 0s 8ms/step - loss: -3013.8286 - binary_accuracy: 0.0015 - val_loss: -3071.6140 - val_binary_accuracy: 0.0012\n",
            "Epoch 32/100\n",
            "33/33 [==============================] - 0s 9ms/step - loss: -3111.9692 - binary_accuracy: 0.0015 - val_loss: -3169.9666 - val_binary_accuracy: 0.0012\n",
            "Epoch 33/100\n",
            "33/33 [==============================] - 0s 8ms/step - loss: -3210.0374 - binary_accuracy: 0.0015 - val_loss: -3268.0620 - val_binary_accuracy: 0.0012\n",
            "Epoch 34/100\n",
            "33/33 [==============================] - 0s 8ms/step - loss: -3307.9121 - binary_accuracy: 0.0015 - val_loss: -3366.1228 - val_binary_accuracy: 0.0012\n",
            "Epoch 35/100\n",
            "33/33 [==============================] - 0s 9ms/step - loss: -3405.6624 - binary_accuracy: 0.0015 - val_loss: -3464.1021 - val_binary_accuracy: 0.0012\n",
            "Epoch 36/100\n",
            "33/33 [==============================] - 0s 9ms/step - loss: -3503.3481 - binary_accuracy: 0.0015 - val_loss: -3561.7825 - val_binary_accuracy: 0.0012\n",
            "Epoch 37/100\n",
            "33/33 [==============================] - 0s 8ms/step - loss: -3600.9065 - binary_accuracy: 0.0015 - val_loss: -3659.4661 - val_binary_accuracy: 0.0012\n",
            "Epoch 38/100\n",
            "33/33 [==============================] - 0s 8ms/step - loss: -3698.3860 - binary_accuracy: 0.0015 - val_loss: -3757.1504 - val_binary_accuracy: 0.0012\n",
            "Epoch 39/100\n",
            "33/33 [==============================] - 0s 8ms/step - loss: -3795.7668 - binary_accuracy: 0.0015 - val_loss: -3854.7983 - val_binary_accuracy: 0.0012\n",
            "Epoch 40/100\n",
            "33/33 [==============================] - 0s 8ms/step - loss: -3893.1377 - binary_accuracy: 0.0015 - val_loss: -3952.2524 - val_binary_accuracy: 0.0012\n",
            "Epoch 41/100\n",
            "33/33 [==============================] - 0s 8ms/step - loss: -3990.4277 - binary_accuracy: 0.0015 - val_loss: -4049.5303 - val_binary_accuracy: 0.0012\n",
            "Epoch 42/100\n",
            "33/33 [==============================] - 0s 8ms/step - loss: -4087.5454 - binary_accuracy: 0.0015 - val_loss: -4146.9116 - val_binary_accuracy: 0.0012\n",
            "Epoch 43/100\n",
            "33/33 [==============================] - 0s 8ms/step - loss: -4184.6436 - binary_accuracy: 0.0015 - val_loss: -4244.1489 - val_binary_accuracy: 0.0012\n",
            "Epoch 44/100\n",
            "33/33 [==============================] - 0s 8ms/step - loss: -4281.7134 - binary_accuracy: 0.0015 - val_loss: -4341.3989 - val_binary_accuracy: 0.0012\n",
            "Epoch 45/100\n",
            "33/33 [==============================] - 0s 8ms/step - loss: -4378.7026 - binary_accuracy: 0.0015 - val_loss: -4438.5488 - val_binary_accuracy: 0.0012\n",
            "Epoch 46/100\n",
            "33/33 [==============================] - 0s 8ms/step - loss: -4475.5815 - binary_accuracy: 0.0015 - val_loss: -4535.6685 - val_binary_accuracy: 0.0012\n",
            "Epoch 47/100\n",
            "33/33 [==============================] - 0s 8ms/step - loss: -4572.4277 - binary_accuracy: 0.0015 - val_loss: -4632.7163 - val_binary_accuracy: 0.0012\n",
            "Epoch 48/100\n",
            "33/33 [==============================] - 0s 8ms/step - loss: -4669.2993 - binary_accuracy: 0.0015 - val_loss: -4729.6782 - val_binary_accuracy: 0.0012\n",
            "Epoch 49/100\n",
            "33/33 [==============================] - 0s 8ms/step - loss: -4766.0244 - binary_accuracy: 0.0015 - val_loss: -4826.6021 - val_binary_accuracy: 0.0012\n",
            "Epoch 50/100\n",
            "33/33 [==============================] - 0s 8ms/step - loss: -4862.7720 - binary_accuracy: 0.0015 - val_loss: -4923.5269 - val_binary_accuracy: 0.0012\n",
            "Epoch 51/100\n",
            "33/33 [==============================] - 0s 8ms/step - loss: -4959.5127 - binary_accuracy: 0.0015 - val_loss: -5020.3442 - val_binary_accuracy: 0.0012\n",
            "Epoch 52/100\n",
            "33/33 [==============================] - 0s 8ms/step - loss: -5056.1973 - binary_accuracy: 0.0015 - val_loss: -5117.2388 - val_binary_accuracy: 0.0012\n",
            "Epoch 53/100\n",
            "33/33 [==============================] - 0s 8ms/step - loss: -5152.8379 - binary_accuracy: 0.0015 - val_loss: -5214.1230 - val_binary_accuracy: 0.0012\n",
            "Epoch 54/100\n",
            "33/33 [==============================] - 0s 8ms/step - loss: -5249.4395 - binary_accuracy: 0.0015 - val_loss: -5310.8994 - val_binary_accuracy: 0.0012\n",
            "Epoch 55/100\n",
            "33/33 [==============================] - 0s 8ms/step - loss: -5345.9614 - binary_accuracy: 0.0015 - val_loss: -5407.5747 - val_binary_accuracy: 0.0012\n",
            "Epoch 56/100\n",
            "33/33 [==============================] - 0s 9ms/step - loss: -5442.4307 - binary_accuracy: 0.0015 - val_loss: -5504.2480 - val_binary_accuracy: 0.0012\n",
            "Epoch 57/100\n",
            "33/33 [==============================] - 0s 9ms/step - loss: -5538.8833 - binary_accuracy: 0.0015 - val_loss: -5600.8110 - val_binary_accuracy: 0.0012\n",
            "Epoch 58/100\n",
            "33/33 [==============================] - 0s 8ms/step - loss: -5635.3242 - binary_accuracy: 0.0015 - val_loss: -5697.4214 - val_binary_accuracy: 0.0012\n",
            "Epoch 59/100\n",
            "33/33 [==============================] - 0s 8ms/step - loss: -5731.7520 - binary_accuracy: 0.0015 - val_loss: -5794.1499 - val_binary_accuracy: 0.0012\n",
            "Epoch 60/100\n",
            "33/33 [==============================] - 0s 8ms/step - loss: -5828.1958 - binary_accuracy: 0.0015 - val_loss: -5890.7046 - val_binary_accuracy: 0.0012\n",
            "Epoch 61/100\n",
            "33/33 [==============================] - 0s 9ms/step - loss: -5924.5396 - binary_accuracy: 0.0015 - val_loss: -5987.1860 - val_binary_accuracy: 0.0012\n",
            "Epoch 62/100\n",
            "33/33 [==============================] - 0s 9ms/step - loss: -6020.8027 - binary_accuracy: 0.0015 - val_loss: -6083.6895 - val_binary_accuracy: 0.0012\n",
            "Epoch 63/100\n",
            "33/33 [==============================] - 0s 9ms/step - loss: -6117.0991 - binary_accuracy: 0.0015 - val_loss: -6180.0879 - val_binary_accuracy: 0.0012\n",
            "Epoch 64/100\n",
            "33/33 [==============================] - 0s 8ms/step - loss: -6213.3452 - binary_accuracy: 0.0015 - val_loss: -6276.5396 - val_binary_accuracy: 0.0012\n",
            "Epoch 65/100\n",
            "33/33 [==============================] - 0s 8ms/step - loss: -6309.5454 - binary_accuracy: 0.0015 - val_loss: -6372.9893 - val_binary_accuracy: 0.0012\n",
            "Epoch 66/100\n",
            "33/33 [==============================] - 0s 8ms/step - loss: -6405.7715 - binary_accuracy: 0.0015 - val_loss: -6469.3267 - val_binary_accuracy: 0.0012\n",
            "Epoch 67/100\n",
            "33/33 [==============================] - 0s 8ms/step - loss: -6501.9771 - binary_accuracy: 0.0015 - val_loss: -6565.7183 - val_binary_accuracy: 0.0012\n",
            "Epoch 68/100\n",
            "33/33 [==============================] - 0s 9ms/step - loss: -6598.1406 - binary_accuracy: 0.0015 - val_loss: -6662.1138 - val_binary_accuracy: 0.0012\n",
            "Epoch 69/100\n",
            "33/33 [==============================] - 0s 8ms/step - loss: -6694.2993 - binary_accuracy: 0.0015 - val_loss: -6758.4077 - val_binary_accuracy: 0.0012\n",
            "Epoch 70/100\n",
            "33/33 [==============================] - 0s 9ms/step - loss: -6790.4126 - binary_accuracy: 0.0015 - val_loss: -6854.8540 - val_binary_accuracy: 0.0012\n",
            "Epoch 71/100\n",
            "33/33 [==============================] - 0s 9ms/step - loss: -6886.5752 - binary_accuracy: 0.0015 - val_loss: -6951.0967 - val_binary_accuracy: 0.0012\n",
            "Epoch 72/100\n",
            "33/33 [==============================] - 0s 9ms/step - loss: -6982.6592 - binary_accuracy: 0.0015 - val_loss: -7047.2100 - val_binary_accuracy: 0.0012\n",
            "Epoch 73/100\n",
            "33/33 [==============================] - 0s 8ms/step - loss: -7078.7466 - binary_accuracy: 0.0015 - val_loss: -7143.5952 - val_binary_accuracy: 0.0012\n",
            "Epoch 74/100\n",
            "33/33 [==============================] - 0s 8ms/step - loss: -7174.8599 - binary_accuracy: 0.0015 - val_loss: -7239.8887 - val_binary_accuracy: 0.0012\n",
            "Epoch 75/100\n",
            "33/33 [==============================] - 0s 8ms/step - loss: -7270.8940 - binary_accuracy: 0.0015 - val_loss: -7336.1587 - val_binary_accuracy: 0.0012\n",
            "Epoch 76/100\n",
            "33/33 [==============================] - 0s 8ms/step - loss: -7366.9194 - binary_accuracy: 0.0015 - val_loss: -7432.4819 - val_binary_accuracy: 0.0012\n",
            "Epoch 77/100\n",
            "33/33 [==============================] - 0s 8ms/step - loss: -7463.0293 - binary_accuracy: 0.0015 - val_loss: -7528.6421 - val_binary_accuracy: 0.0012\n",
            "Epoch 78/100\n",
            "33/33 [==============================] - 0s 8ms/step - loss: -7559.0142 - binary_accuracy: 0.0015 - val_loss: -7624.8506 - val_binary_accuracy: 0.0012\n",
            "Epoch 79/100\n",
            "33/33 [==============================] - 0s 8ms/step - loss: -7655.0483 - binary_accuracy: 0.0015 - val_loss: -7720.9556 - val_binary_accuracy: 0.0012\n",
            "Epoch 80/100\n",
            "33/33 [==============================] - 0s 8ms/step - loss: -7750.9478 - binary_accuracy: 0.0015 - val_loss: -7817.1797 - val_binary_accuracy: 0.0012\n",
            "Epoch 81/100\n",
            "33/33 [==============================] - 0s 8ms/step - loss: -7846.9341 - binary_accuracy: 0.0015 - val_loss: -7913.2803 - val_binary_accuracy: 0.0012\n",
            "Epoch 82/100\n",
            "33/33 [==============================] - 0s 9ms/step - loss: -7942.8877 - binary_accuracy: 0.0015 - val_loss: -8009.3931 - val_binary_accuracy: 0.0012\n",
            "Epoch 83/100\n",
            "33/33 [==============================] - 0s 8ms/step - loss: -8038.8281 - binary_accuracy: 0.0015 - val_loss: -8105.5713 - val_binary_accuracy: 0.0012\n",
            "Epoch 84/100\n",
            "33/33 [==============================] - 0s 8ms/step - loss: -8134.7725 - binary_accuracy: 0.0015 - val_loss: -8201.6709 - val_binary_accuracy: 0.0012\n",
            "Epoch 85/100\n",
            "33/33 [==============================] - 0s 8ms/step - loss: -8230.6289 - binary_accuracy: 0.0015 - val_loss: -8297.8184 - val_binary_accuracy: 0.0012\n",
            "Epoch 86/100\n",
            "33/33 [==============================] - 0s 8ms/step - loss: -8326.6191 - binary_accuracy: 0.0015 - val_loss: -8393.7979 - val_binary_accuracy: 0.0012\n",
            "Epoch 87/100\n",
            "33/33 [==============================] - 0s 8ms/step - loss: -8422.4639 - binary_accuracy: 0.0015 - val_loss: -8489.9873 - val_binary_accuracy: 0.0012\n",
            "Epoch 88/100\n",
            "33/33 [==============================] - 0s 8ms/step - loss: -8518.3955 - binary_accuracy: 0.0015 - val_loss: -8586.0078 - val_binary_accuracy: 0.0012\n",
            "Epoch 89/100\n",
            "33/33 [==============================] - 0s 8ms/step - loss: -8614.2979 - binary_accuracy: 0.0015 - val_loss: -8682.1318 - val_binary_accuracy: 0.0012\n",
            "Epoch 90/100\n",
            "33/33 [==============================] - 0s 8ms/step - loss: -8710.1602 - binary_accuracy: 0.0015 - val_loss: -8778.2520 - val_binary_accuracy: 0.0012\n",
            "Epoch 91/100\n",
            "33/33 [==============================] - 0s 9ms/step - loss: -8806.0605 - binary_accuracy: 0.0015 - val_loss: -8874.3096 - val_binary_accuracy: 0.0012\n",
            "Epoch 92/100\n",
            "33/33 [==============================] - 0s 9ms/step - loss: -8901.9082 - binary_accuracy: 0.0015 - val_loss: -8970.3242 - val_binary_accuracy: 0.0012\n",
            "Epoch 93/100\n",
            "33/33 [==============================] - 0s 9ms/step - loss: -8997.7734 - binary_accuracy: 0.0015 - val_loss: -9066.2773 - val_binary_accuracy: 0.0012\n",
            "Epoch 94/100\n",
            "33/33 [==============================] - 0s 9ms/step - loss: -9093.5977 - binary_accuracy: 0.0015 - val_loss: -9162.4023 - val_binary_accuracy: 0.0012\n",
            "Epoch 95/100\n",
            "33/33 [==============================] - 0s 8ms/step - loss: -9189.4697 - binary_accuracy: 0.0015 - val_loss: -9258.4531 - val_binary_accuracy: 0.0012\n",
            "Epoch 96/100\n",
            "33/33 [==============================] - 0s 9ms/step - loss: -9285.3027 - binary_accuracy: 0.0015 - val_loss: -9354.4043 - val_binary_accuracy: 0.0012\n",
            "Epoch 97/100\n",
            "33/33 [==============================] - 0s 9ms/step - loss: -9381.0967 - binary_accuracy: 0.0015 - val_loss: -9450.4736 - val_binary_accuracy: 0.0012\n",
            "Epoch 98/100\n",
            "33/33 [==============================] - 0s 9ms/step - loss: -9476.8809 - binary_accuracy: 0.0015 - val_loss: -9546.4775 - val_binary_accuracy: 0.0012\n",
            "Epoch 99/100\n",
            "33/33 [==============================] - 0s 9ms/step - loss: -9572.6670 - binary_accuracy: 0.0015 - val_loss: -9642.4355 - val_binary_accuracy: 0.0012\n",
            "Epoch 100/100\n",
            "33/33 [==============================] - 0s 8ms/step - loss: -9668.4902 - binary_accuracy: 0.0015 - val_loss: -9738.3955 - val_binary_accuracy: 0.0012\n"
          ]
        }
      ],
      "source": [
        "history = classificador.fit(train_x, train_y, batch_size = 5000, epochs = 100, validation_split=0.2)"
      ]
    },
    {
      "cell_type": "markdown",
      "metadata": {},
      "source": [
        "# MÉTRICAS E DESEMPENHO\n",
        "---"
      ]
    },
    {
      "cell_type": "code",
      "execution_count": 16,
      "metadata": {},
      "outputs": [
        {
          "name": "stdout",
          "output_type": "stream",
          "text": [
            "2103/2103 [==============================] - 3s 2ms/step\n"
          ]
        }
      ],
      "source": [
        "# Realizando previsões\n",
        "previsoes_teste = classificador.predict(test_x)\n",
        "previsoes_teste = (previsoes_teste > 0.5)"
      ]
    },
    {
      "cell_type": "code",
      "execution_count": 17,
      "metadata": {},
      "outputs": [
        {
          "data": {
            "text/html": [
              "<div>\n",
              "<style scoped>\n",
              "    .dataframe tbody tr th:only-of-type {\n",
              "        vertical-align: middle;\n",
              "    }\n",
              "\n",
              "    .dataframe tbody tr th {\n",
              "        vertical-align: top;\n",
              "    }\n",
              "\n",
              "    .dataframe thead th {\n",
              "        text-align: right;\n",
              "    }\n",
              "</style>\n",
              "<table border=\"1\" class=\"dataframe\">\n",
              "  <thead>\n",
              "    <tr style=\"text-align: right;\">\n",
              "      <th></th>\n",
              "      <th>Acurácia</th>\n",
              "      <th>Precisão</th>\n",
              "      <th>Recall</th>\n",
              "      <th>F1-Score</th>\n",
              "    </tr>\n",
              "  </thead>\n",
              "  <tbody>\n",
              "    <tr>\n",
              "      <th>0</th>\n",
              "      <td>0.001427</td>\n",
              "      <td>0.001427</td>\n",
              "      <td>0.001427</td>\n",
              "      <td>0.001427</td>\n",
              "    </tr>\n",
              "  </tbody>\n",
              "</table>\n",
              "</div>"
            ],
            "text/plain": [
              "   Acurácia  Precisão    Recall  F1-Score\n",
              "0  0.001427  0.001427  0.001427  0.001427"
            ]
          },
          "execution_count": 17,
          "metadata": {},
          "output_type": "execute_result"
        }
      ],
      "source": [
        "exibir_metricas_classificacao(test_y, previsoes_teste)"
      ]
    },
    {
      "cell_type": "code",
      "execution_count": 27,
      "metadata": {},
      "outputs": [
        {
          "data": {
            "image/png": "[encoded data removed]",
            "text/plain": [
              "<Figure size 600x400 with 2 Axes>"
            ]
          },
          "metadata": {},
          "output_type": "display_data"
        }
      ],
      "source": [
        "exibir_matriz_confusao(test_y, previsoes_teste)"
      ]
    },
    {
      "cell_type": "markdown",
      "metadata": {},
      "source": [
        "# EXPORTANDO DADOS\n",
        "---"
      ]
    },
    {
      "cell_type": "code",
      "execution_count": 29,
      "metadata": {},
      "outputs": [
        {
          "name": "stdout",
          "output_type": "stream",
          "text": [
            "Arquivos salvos em: c:\\Users\\Mathe\\projetos\\EoC-AI-IFES\\lista3-previsao-emprestimo\n"
          ]
        }
      ],
      "source": [
        "import os\n",
        "\n",
        "# Diretório atual\n",
        "save_dir = os.getcwd()\n",
        "\n",
        "# Caminho para os arquivos\n",
        "arquitetura_path = os.path.join(save_dir, \"arquitetura_rede.json\")\n",
        "pesos_path = os.path.join(save_dir, \"pesos_rede.h5\")\n",
        "\n",
        "# Salve a arquitetura em JSON\n",
        "arquitetura = classificador.to_json()\n",
        "with open(arquitetura_path, \"w\") as json_file:\n",
        "    json_file.write(arquitetura)\n",
        "\n",
        "# Salve os pesos da rede\n",
        "classificador.save_weights(pesos_path)\n",
        "\n",
        "print(f\"Arquivos salvos em: {save_dir}\")"
      ]
    }
  ],
  "metadata": {
    "colab": {
      "provenance": []
    },
    "kernelspec": {
      "display_name": "Python 3",
      "name": "python3"
    },
    "language_info": {
      "codemirror_mode": {
        "name": "ipython",
        "version": 3
      },
      "file_extension": ".py",
      "mimetype": "text/x-python",
      "name": "python",
      "nbconvert_exporter": "python",
      "pygments_lexer": "ipython3",
      "version": "3.10.7"
    }
  },
  "nbformat": 4,
  "nbformat_minor": 0
}
