{
 "cells": [
  {
   "cell_type": "markdown",
   "metadata": {
    "id": "II_rXNtFgW6y"
   },
   "source": [
    "# Predição dos preços de casas em Melbourn, Austrália"
   ]
  },
  {
   "cell_type": "markdown",
   "metadata": {
    "id": "UNp3zG5khGQc"
   },
   "source": [
    "# Introdução"
   ]
  },
  {
   "cell_type": "markdown",
   "metadata": {
    "id": "J2dtPJ9ggccA"
   },
   "source": [
    "Como estamos vivendo um período economicamente fragilizado com a pandemia do Novo Coronavirus, um pensamento importante surgiu na cabeça de muitos investidores brasileiros, bem como pessoas comuns a procura de uma moradia fixa.\n",
    "\n",
    "Partindo desse pressuposto, o trabalho a seguir desenvolve um método para a criação de um modelo de predição do preço de casas em Melbourn que, utilizando as devidas modificações, poderá facilmente ser utilizado para a predição de preços de casas aqui no Brasil."
   ]
  },
  {
   "cell_type": "markdown",
   "metadata": {
    "id": "nhJPkFYcugCA"
   },
   "source": [
    "## Funções auxiliares"
   ]
  },
  {
   "cell_type": "code",
   "execution_count": 1,
   "metadata": {
    "executionInfo": {
     "elapsed": 416,
     "status": "ok",
     "timestamp": 1615854004285,
     "user": {
      "displayName": "LUCAS MARQUES",
      "photoUrl": "https://lh3.googleusercontent.com/a-/AOh14Gh00T7DfV6a1bJ5srABNyobGkUK0lvOe0L_ogf3=s64",
      "userId": "04634687850896258389"
     },
     "user_tz": 180
    },
    "id": "RQl7kuU2ujCD"
   },
   "outputs": [],
   "source": [
    "# Função para imprimir os gráficos de treinamento\n",
    "def plotHistory(history, title):\n",
    "\n",
    "  fig, ax = plt.subplots(1,2,figsize=(26,10))\n",
    "\n",
    "  # Imprime a curva de aprendizado\n",
    "  ax[0].set_title('Mean Absolute Percentage Error', pad=-40)\n",
    "  ax[0].plot(history.history['loss'], label='train')\n",
    "  ax[0].plot(history.history['val_loss'], label='valid')\n",
    "  ax[0].legend(loc='best')\n",
    "\n",
    "  # Imprime a curva de acurácia\n",
    "  ax[1].set_title('Mean Absolute Error', pad=-40)\n",
    "  ax[1].plot(history.history['mae'], label='train')\n",
    "  ax[1].plot(history.history['val_mae'], label='valid')\n",
    "  ax[1].legend(loc='best')\n",
    "\n",
    "  fig.suptitle(title)\n",
    "\n",
    "  #fig.savefig('/content/gdrive/MyDrive/Engenharia Elétrica/Deep Learning/' + title)\n",
    "  #plt.show()"
   ]
  },
  {
   "cell_type": "markdown",
   "metadata": {
    "id": "zuSBJTAWhIaG"
   },
   "source": [
    "## Sobre o Dataset"
   ]
  },
  {
   "cell_type": "markdown",
   "metadata": {
    "id": "XGLQOa_phK4R"
   },
   "source": [
    "O dataset escolhido pelo grupo foi retirado de um dos sites mais famosos de Machine Learning, o Kaggle. Nessa seção, iremos estudar um pouco mais sobre o nosso dataset."
   ]
  },
  {
   "cell_type": "code",
   "execution_count": 2,
   "metadata": {
    "colab": {
     "base_uri": "https://localhost:8080/"
    },
    "executionInfo": {
     "elapsed": 26108,
     "status": "ok",
     "timestamp": 1615853429253,
     "user": {
      "displayName": "LUCAS MARQUES",
      "photoUrl": "https://lh3.googleusercontent.com/a-/AOh14Gh00T7DfV6a1bJ5srABNyobGkUK0lvOe0L_ogf3=s64",
      "userId": "04634687850896258389"
     },
     "user_tz": 180
    },
    "id": "HF26KqLKgTgI",
    "outputId": "d01a709c-413c-4365-db95-5579b9d3de3f"
   },
   "outputs": [
    {
     "name": "stdout",
     "output_type": "stream",
     "text": [
      "Mounted at /content/gdrive\n"
     ]
    }
   ],
   "source": [
    "# Conectando ao Google Drive\n",
    "from google.colab import drive\n",
    "\n",
    "drive.mount('/content/gdrive')"
   ]
  },
  {
   "cell_type": "code",
   "execution_count": 2,
   "metadata": {
    "executionInfo": {
     "elapsed": 1982,
     "status": "ok",
     "timestamp": 1615853431243,
     "user": {
      "displayName": "LUCAS MARQUES",
      "photoUrl": "https://lh3.googleusercontent.com/a-/AOh14Gh00T7DfV6a1bJ5srABNyobGkUK0lvOe0L_ogf3=s64",
      "userId": "04634687850896258389"
     },
     "user_tz": 180
    },
    "id": "kJo8UQZ8hbqU"
   },
   "outputs": [],
   "source": [
    "# Retirando o zip do arquivo\n",
    "import zipfile\n",
    "\n",
    "#PATH = '/content/gdrive/MyDrive/Engenharia Elétrica/Deep Learning/price_house_prediction.zip'\n",
    "PATH = 'C:/Users/Avell/Documents/IA/Redes/Regressão/fine-tuning-house-price-main/fine-tuning-house-price-main/price_house_prediction.zip'\n",
    "# Cria uma stream de leitura ao arquivo do dataset\n",
    "zp = zipfile.ZipFile(file=PATH, mode='r')\n",
    "# Extrai os arquivos na pasta atual\n",
    "zp.extractall('./')\n",
    "# Fecha a stream\n",
    "zp.close()"
   ]
  },
  {
   "cell_type": "code",
   "execution_count": 4,
   "metadata": {
    "colab": {
     "base_uri": "https://localhost:8080/",
     "height": 700
    },
    "executionInfo": {
     "elapsed": 1970,
     "status": "ok",
     "timestamp": 1615853431244,
     "user": {
      "displayName": "LUCAS MARQUES",
      "photoUrl": "https://lh3.googleusercontent.com/a-/AOh14Gh00T7DfV6a1bJ5srABNyobGkUK0lvOe0L_ogf3=s64",
      "userId": "04634687850896258389"
     },
     "user_tz": 180
    },
    "id": "ecHBxmv0ifWr",
    "outputId": "92dc4871-d5bf-49a0-f2b1-f5f952086555"
   },
   "outputs": [
    {
     "data": {
      "text/html": [
       "<div>\n",
       "<style scoped>\n",
       "    .dataframe tbody tr th:only-of-type {\n",
       "        vertical-align: middle;\n",
       "    }\n",
       "\n",
       "    .dataframe tbody tr th {\n",
       "        vertical-align: top;\n",
       "    }\n",
       "\n",
       "    .dataframe thead th {\n",
       "        text-align: right;\n",
       "    }\n",
       "</style>\n",
       "<table border=\"1\" class=\"dataframe\">\n",
       "  <thead>\n",
       "    <tr style=\"text-align: right;\">\n",
       "      <th></th>\n",
       "      <th>0</th>\n",
       "      <th>1</th>\n",
       "      <th>2</th>\n",
       "      <th>3</th>\n",
       "      <th>4</th>\n",
       "    </tr>\n",
       "  </thead>\n",
       "  <tbody>\n",
       "    <tr>\n",
       "      <th>Suburb</th>\n",
       "      <td>Abbotsford</td>\n",
       "      <td>Abbotsford</td>\n",
       "      <td>Abbotsford</td>\n",
       "      <td>Abbotsford</td>\n",
       "      <td>Abbotsford</td>\n",
       "    </tr>\n",
       "    <tr>\n",
       "      <th>Address</th>\n",
       "      <td>68 Studley St</td>\n",
       "      <td>85 Turner St</td>\n",
       "      <td>25 Bloomburg St</td>\n",
       "      <td>18/659 Victoria St</td>\n",
       "      <td>5 Charles St</td>\n",
       "    </tr>\n",
       "    <tr>\n",
       "      <th>Rooms</th>\n",
       "      <td>2</td>\n",
       "      <td>2</td>\n",
       "      <td>2</td>\n",
       "      <td>3</td>\n",
       "      <td>3</td>\n",
       "    </tr>\n",
       "    <tr>\n",
       "      <th>Type</th>\n",
       "      <td>h</td>\n",
       "      <td>h</td>\n",
       "      <td>h</td>\n",
       "      <td>u</td>\n",
       "      <td>h</td>\n",
       "    </tr>\n",
       "    <tr>\n",
       "      <th>Price</th>\n",
       "      <td>NaN</td>\n",
       "      <td>1480000.0</td>\n",
       "      <td>1035000.0</td>\n",
       "      <td>NaN</td>\n",
       "      <td>1465000.0</td>\n",
       "    </tr>\n",
       "    <tr>\n",
       "      <th>Method</th>\n",
       "      <td>SS</td>\n",
       "      <td>S</td>\n",
       "      <td>S</td>\n",
       "      <td>VB</td>\n",
       "      <td>SP</td>\n",
       "    </tr>\n",
       "    <tr>\n",
       "      <th>SellerG</th>\n",
       "      <td>Jellis</td>\n",
       "      <td>Biggin</td>\n",
       "      <td>Biggin</td>\n",
       "      <td>Rounds</td>\n",
       "      <td>Biggin</td>\n",
       "    </tr>\n",
       "    <tr>\n",
       "      <th>Date</th>\n",
       "      <td>3/09/2016</td>\n",
       "      <td>3/12/2016</td>\n",
       "      <td>4/02/2016</td>\n",
       "      <td>4/02/2016</td>\n",
       "      <td>4/03/2017</td>\n",
       "    </tr>\n",
       "    <tr>\n",
       "      <th>Distance</th>\n",
       "      <td>2.5</td>\n",
       "      <td>2.5</td>\n",
       "      <td>2.5</td>\n",
       "      <td>2.5</td>\n",
       "      <td>2.5</td>\n",
       "    </tr>\n",
       "    <tr>\n",
       "      <th>Postcode</th>\n",
       "      <td>3067.0</td>\n",
       "      <td>3067.0</td>\n",
       "      <td>3067.0</td>\n",
       "      <td>3067.0</td>\n",
       "      <td>3067.0</td>\n",
       "    </tr>\n",
       "    <tr>\n",
       "      <th>Bedroom2</th>\n",
       "      <td>2.0</td>\n",
       "      <td>2.0</td>\n",
       "      <td>2.0</td>\n",
       "      <td>3.0</td>\n",
       "      <td>3.0</td>\n",
       "    </tr>\n",
       "    <tr>\n",
       "      <th>Bathroom</th>\n",
       "      <td>1.0</td>\n",
       "      <td>1.0</td>\n",
       "      <td>1.0</td>\n",
       "      <td>2.0</td>\n",
       "      <td>2.0</td>\n",
       "    </tr>\n",
       "    <tr>\n",
       "      <th>Car</th>\n",
       "      <td>1.0</td>\n",
       "      <td>1.0</td>\n",
       "      <td>0.0</td>\n",
       "      <td>1.0</td>\n",
       "      <td>0.0</td>\n",
       "    </tr>\n",
       "    <tr>\n",
       "      <th>Landsize</th>\n",
       "      <td>126.0</td>\n",
       "      <td>202.0</td>\n",
       "      <td>156.0</td>\n",
       "      <td>0.0</td>\n",
       "      <td>134.0</td>\n",
       "    </tr>\n",
       "    <tr>\n",
       "      <th>BuildingArea</th>\n",
       "      <td>NaN</td>\n",
       "      <td>NaN</td>\n",
       "      <td>79.0</td>\n",
       "      <td>NaN</td>\n",
       "      <td>150.0</td>\n",
       "    </tr>\n",
       "    <tr>\n",
       "      <th>YearBuilt</th>\n",
       "      <td>NaN</td>\n",
       "      <td>NaN</td>\n",
       "      <td>1900.0</td>\n",
       "      <td>NaN</td>\n",
       "      <td>1900.0</td>\n",
       "    </tr>\n",
       "    <tr>\n",
       "      <th>CouncilArea</th>\n",
       "      <td>Yarra City Council</td>\n",
       "      <td>Yarra City Council</td>\n",
       "      <td>Yarra City Council</td>\n",
       "      <td>Yarra City Council</td>\n",
       "      <td>Yarra City Council</td>\n",
       "    </tr>\n",
       "    <tr>\n",
       "      <th>Lattitude</th>\n",
       "      <td>-37.8014</td>\n",
       "      <td>-37.7996</td>\n",
       "      <td>-37.8079</td>\n",
       "      <td>-37.8114</td>\n",
       "      <td>-37.8093</td>\n",
       "    </tr>\n",
       "    <tr>\n",
       "      <th>Longtitude</th>\n",
       "      <td>144.9958</td>\n",
       "      <td>144.9984</td>\n",
       "      <td>144.9934</td>\n",
       "      <td>145.0116</td>\n",
       "      <td>144.9944</td>\n",
       "    </tr>\n",
       "    <tr>\n",
       "      <th>Regionname</th>\n",
       "      <td>Northern Metropolitan</td>\n",
       "      <td>Northern Metropolitan</td>\n",
       "      <td>Northern Metropolitan</td>\n",
       "      <td>Northern Metropolitan</td>\n",
       "      <td>Northern Metropolitan</td>\n",
       "    </tr>\n",
       "    <tr>\n",
       "      <th>Propertycount</th>\n",
       "      <td>4019.0</td>\n",
       "      <td>4019.0</td>\n",
       "      <td>4019.0</td>\n",
       "      <td>4019.0</td>\n",
       "      <td>4019.0</td>\n",
       "    </tr>\n",
       "  </tbody>\n",
       "</table>\n",
       "</div>"
      ],
      "text/plain": [
       "                                   0                      1  \\\n",
       "Suburb                    Abbotsford             Abbotsford   \n",
       "Address                68 Studley St           85 Turner St   \n",
       "Rooms                              2                      2   \n",
       "Type                               h                      h   \n",
       "Price                            NaN              1480000.0   \n",
       "Method                            SS                      S   \n",
       "SellerG                       Jellis                 Biggin   \n",
       "Date                       3/09/2016              3/12/2016   \n",
       "Distance                         2.5                    2.5   \n",
       "Postcode                      3067.0                 3067.0   \n",
       "Bedroom2                         2.0                    2.0   \n",
       "Bathroom                         1.0                    1.0   \n",
       "Car                              1.0                    1.0   \n",
       "Landsize                       126.0                  202.0   \n",
       "BuildingArea                     NaN                    NaN   \n",
       "YearBuilt                        NaN                    NaN   \n",
       "CouncilArea       Yarra City Council     Yarra City Council   \n",
       "Lattitude                   -37.8014               -37.7996   \n",
       "Longtitude                  144.9958               144.9984   \n",
       "Regionname     Northern Metropolitan  Northern Metropolitan   \n",
       "Propertycount                 4019.0                 4019.0   \n",
       "\n",
       "                                   2                      3  \\\n",
       "Suburb                    Abbotsford             Abbotsford   \n",
       "Address              25 Bloomburg St     18/659 Victoria St   \n",
       "Rooms                              2                      3   \n",
       "Type                               h                      u   \n",
       "Price                      1035000.0                    NaN   \n",
       "Method                             S                     VB   \n",
       "SellerG                       Biggin                 Rounds   \n",
       "Date                       4/02/2016              4/02/2016   \n",
       "Distance                         2.5                    2.5   \n",
       "Postcode                      3067.0                 3067.0   \n",
       "Bedroom2                         2.0                    3.0   \n",
       "Bathroom                         1.0                    2.0   \n",
       "Car                              0.0                    1.0   \n",
       "Landsize                       156.0                    0.0   \n",
       "BuildingArea                    79.0                    NaN   \n",
       "YearBuilt                     1900.0                    NaN   \n",
       "CouncilArea       Yarra City Council     Yarra City Council   \n",
       "Lattitude                   -37.8079               -37.8114   \n",
       "Longtitude                  144.9934               145.0116   \n",
       "Regionname     Northern Metropolitan  Northern Metropolitan   \n",
       "Propertycount                 4019.0                 4019.0   \n",
       "\n",
       "                                   4  \n",
       "Suburb                    Abbotsford  \n",
       "Address                 5 Charles St  \n",
       "Rooms                              3  \n",
       "Type                               h  \n",
       "Price                      1465000.0  \n",
       "Method                            SP  \n",
       "SellerG                       Biggin  \n",
       "Date                       4/03/2017  \n",
       "Distance                         2.5  \n",
       "Postcode                      3067.0  \n",
       "Bedroom2                         3.0  \n",
       "Bathroom                         2.0  \n",
       "Car                              0.0  \n",
       "Landsize                       134.0  \n",
       "BuildingArea                   150.0  \n",
       "YearBuilt                     1900.0  \n",
       "CouncilArea       Yarra City Council  \n",
       "Lattitude                   -37.8093  \n",
       "Longtitude                  144.9944  \n",
       "Regionname     Northern Metropolitan  \n",
       "Propertycount                 4019.0  "
      ]
     },
     "execution_count": 4,
     "metadata": {},
     "output_type": "execute_result"
    }
   ],
   "source": [
    "import pandas as pd\n",
    "import numpy as np\n",
    "\n",
    "# Importando o dataset\n",
    "data = pd.read_csv('Melbourne_housing_FULL.csv')\n",
    "data.head().transpose()\n",
    "#data.head()"
   ]
  },
  {
   "cell_type": "markdown",
   "metadata": {
    "id": "A04m6m_ti8r5"
   },
   "source": [
    "Logo de cara podemos perceber que o dataset possui muitas colunas. Bem como a maioria delas possuem dados Categóricos, tais como o \"Adress\", \"Type\", \"Method\", \"CouncilArea\", entre outros.\n",
    "\n",
    "Além disso, é possível observar que existem dados numéricos muito discrepantes entre si, como é o caso entre \"Rooms\" e \"Price\" ou \"LandSize\" e \"Car\".\n",
    "\n",
    "Para piorar ainda mais a situação, logo nas primeiras linhas do dataset já podemos perceber que muitos dos valores, provavelmente importantes, estão faltando, como é o caso do \"BuildingArea\" e \"YearBuilt\".\n",
    "\n",
    "Ademais, a fim de conhecermos um pouco mais o nosso dataset vamos explorar algumas funcionalidades que a biblioteca do Pandas e do Numpy nos oferece."
   ]
  },
  {
   "cell_type": "code",
   "execution_count": 5,
   "metadata": {
    "colab": {
     "base_uri": "https://localhost:8080/",
     "height": 297
    },
    "executionInfo": {
     "elapsed": 955,
     "status": "ok",
     "timestamp": 1615853431982,
     "user": {
      "displayName": "LUCAS MARQUES",
      "photoUrl": "https://lh3.googleusercontent.com/a-/AOh14Gh00T7DfV6a1bJ5srABNyobGkUK0lvOe0L_ogf3=s64",
      "userId": "04634687850896258389"
     },
     "user_tz": 180
    },
    "id": "ptLvLFH2i7Rj",
    "outputId": "7a6d1533-b7c7-4e2a-9ad2-3ba400e16cc9"
   },
   "outputs": [
    {
     "data": {
      "text/html": [
       "<div>\n",
       "<style scoped>\n",
       "    .dataframe tbody tr th:only-of-type {\n",
       "        vertical-align: middle;\n",
       "    }\n",
       "\n",
       "    .dataframe tbody tr th {\n",
       "        vertical-align: top;\n",
       "    }\n",
       "\n",
       "    .dataframe thead th {\n",
       "        text-align: right;\n",
       "    }\n",
       "</style>\n",
       "<table border=\"1\" class=\"dataframe\">\n",
       "  <thead>\n",
       "    <tr style=\"text-align: right;\">\n",
       "      <th></th>\n",
       "      <th>Rooms</th>\n",
       "      <th>Price</th>\n",
       "      <th>Distance</th>\n",
       "      <th>Postcode</th>\n",
       "      <th>Bedroom2</th>\n",
       "      <th>Bathroom</th>\n",
       "      <th>Car</th>\n",
       "      <th>Landsize</th>\n",
       "      <th>BuildingArea</th>\n",
       "      <th>YearBuilt</th>\n",
       "      <th>Lattitude</th>\n",
       "      <th>Longtitude</th>\n",
       "      <th>Propertycount</th>\n",
       "    </tr>\n",
       "  </thead>\n",
       "  <tbody>\n",
       "    <tr>\n",
       "      <th>count</th>\n",
       "      <td>34857.000000</td>\n",
       "      <td>2.724700e+04</td>\n",
       "      <td>34856.000000</td>\n",
       "      <td>34856.000000</td>\n",
       "      <td>26640.000000</td>\n",
       "      <td>26631.000000</td>\n",
       "      <td>26129.000000</td>\n",
       "      <td>23047.000000</td>\n",
       "      <td>13742.00000</td>\n",
       "      <td>15551.000000</td>\n",
       "      <td>26881.000000</td>\n",
       "      <td>26881.000000</td>\n",
       "      <td>34854.000000</td>\n",
       "    </tr>\n",
       "    <tr>\n",
       "      <th>mean</th>\n",
       "      <td>3.031012</td>\n",
       "      <td>1.050173e+06</td>\n",
       "      <td>11.184929</td>\n",
       "      <td>3116.062859</td>\n",
       "      <td>3.084647</td>\n",
       "      <td>1.624798</td>\n",
       "      <td>1.728845</td>\n",
       "      <td>593.598993</td>\n",
       "      <td>160.25640</td>\n",
       "      <td>1965.289885</td>\n",
       "      <td>-37.810634</td>\n",
       "      <td>145.001851</td>\n",
       "      <td>7572.888306</td>\n",
       "    </tr>\n",
       "    <tr>\n",
       "      <th>std</th>\n",
       "      <td>0.969933</td>\n",
       "      <td>6.414671e+05</td>\n",
       "      <td>6.788892</td>\n",
       "      <td>109.023903</td>\n",
       "      <td>0.980690</td>\n",
       "      <td>0.724212</td>\n",
       "      <td>1.010771</td>\n",
       "      <td>3398.841946</td>\n",
       "      <td>401.26706</td>\n",
       "      <td>37.328178</td>\n",
       "      <td>0.090279</td>\n",
       "      <td>0.120169</td>\n",
       "      <td>4428.090313</td>\n",
       "    </tr>\n",
       "    <tr>\n",
       "      <th>min</th>\n",
       "      <td>1.000000</td>\n",
       "      <td>8.500000e+04</td>\n",
       "      <td>0.000000</td>\n",
       "      <td>3000.000000</td>\n",
       "      <td>0.000000</td>\n",
       "      <td>0.000000</td>\n",
       "      <td>0.000000</td>\n",
       "      <td>0.000000</td>\n",
       "      <td>0.00000</td>\n",
       "      <td>1196.000000</td>\n",
       "      <td>-38.190430</td>\n",
       "      <td>144.423790</td>\n",
       "      <td>83.000000</td>\n",
       "    </tr>\n",
       "    <tr>\n",
       "      <th>25%</th>\n",
       "      <td>2.000000</td>\n",
       "      <td>6.350000e+05</td>\n",
       "      <td>6.400000</td>\n",
       "      <td>3051.000000</td>\n",
       "      <td>2.000000</td>\n",
       "      <td>1.000000</td>\n",
       "      <td>1.000000</td>\n",
       "      <td>224.000000</td>\n",
       "      <td>102.00000</td>\n",
       "      <td>1940.000000</td>\n",
       "      <td>-37.862950</td>\n",
       "      <td>144.933500</td>\n",
       "      <td>4385.000000</td>\n",
       "    </tr>\n",
       "    <tr>\n",
       "      <th>50%</th>\n",
       "      <td>3.000000</td>\n",
       "      <td>8.700000e+05</td>\n",
       "      <td>10.300000</td>\n",
       "      <td>3103.000000</td>\n",
       "      <td>3.000000</td>\n",
       "      <td>2.000000</td>\n",
       "      <td>2.000000</td>\n",
       "      <td>521.000000</td>\n",
       "      <td>136.00000</td>\n",
       "      <td>1970.000000</td>\n",
       "      <td>-37.807600</td>\n",
       "      <td>145.007800</td>\n",
       "      <td>6763.000000</td>\n",
       "    </tr>\n",
       "    <tr>\n",
       "      <th>75%</th>\n",
       "      <td>4.000000</td>\n",
       "      <td>1.295000e+06</td>\n",
       "      <td>14.000000</td>\n",
       "      <td>3156.000000</td>\n",
       "      <td>4.000000</td>\n",
       "      <td>2.000000</td>\n",
       "      <td>2.000000</td>\n",
       "      <td>670.000000</td>\n",
       "      <td>188.00000</td>\n",
       "      <td>2000.000000</td>\n",
       "      <td>-37.754100</td>\n",
       "      <td>145.071900</td>\n",
       "      <td>10412.000000</td>\n",
       "    </tr>\n",
       "    <tr>\n",
       "      <th>max</th>\n",
       "      <td>16.000000</td>\n",
       "      <td>1.120000e+07</td>\n",
       "      <td>48.100000</td>\n",
       "      <td>3978.000000</td>\n",
       "      <td>30.000000</td>\n",
       "      <td>12.000000</td>\n",
       "      <td>26.000000</td>\n",
       "      <td>433014.000000</td>\n",
       "      <td>44515.00000</td>\n",
       "      <td>2106.000000</td>\n",
       "      <td>-37.390200</td>\n",
       "      <td>145.526350</td>\n",
       "      <td>21650.000000</td>\n",
       "    </tr>\n",
       "  </tbody>\n",
       "</table>\n",
       "</div>"
      ],
      "text/plain": [
       "              Rooms         Price      Distance      Postcode      Bedroom2  \\\n",
       "count  34857.000000  2.724700e+04  34856.000000  34856.000000  26640.000000   \n",
       "mean       3.031012  1.050173e+06     11.184929   3116.062859      3.084647   \n",
       "std        0.969933  6.414671e+05      6.788892    109.023903      0.980690   \n",
       "min        1.000000  8.500000e+04      0.000000   3000.000000      0.000000   \n",
       "25%        2.000000  6.350000e+05      6.400000   3051.000000      2.000000   \n",
       "50%        3.000000  8.700000e+05     10.300000   3103.000000      3.000000   \n",
       "75%        4.000000  1.295000e+06     14.000000   3156.000000      4.000000   \n",
       "max       16.000000  1.120000e+07     48.100000   3978.000000     30.000000   \n",
       "\n",
       "           Bathroom           Car       Landsize  BuildingArea     YearBuilt  \\\n",
       "count  26631.000000  26129.000000   23047.000000   13742.00000  15551.000000   \n",
       "mean       1.624798      1.728845     593.598993     160.25640   1965.289885   \n",
       "std        0.724212      1.010771    3398.841946     401.26706     37.328178   \n",
       "min        0.000000      0.000000       0.000000       0.00000   1196.000000   \n",
       "25%        1.000000      1.000000     224.000000     102.00000   1940.000000   \n",
       "50%        2.000000      2.000000     521.000000     136.00000   1970.000000   \n",
       "75%        2.000000      2.000000     670.000000     188.00000   2000.000000   \n",
       "max       12.000000     26.000000  433014.000000   44515.00000   2106.000000   \n",
       "\n",
       "          Lattitude    Longtitude  Propertycount  \n",
       "count  26881.000000  26881.000000   34854.000000  \n",
       "mean     -37.810634    145.001851    7572.888306  \n",
       "std        0.090279      0.120169    4428.090313  \n",
       "min      -38.190430    144.423790      83.000000  \n",
       "25%      -37.862950    144.933500    4385.000000  \n",
       "50%      -37.807600    145.007800    6763.000000  \n",
       "75%      -37.754100    145.071900   10412.000000  \n",
       "max      -37.390200    145.526350   21650.000000  "
      ]
     },
     "execution_count": 5,
     "metadata": {},
     "output_type": "execute_result"
    }
   ],
   "source": [
    "# Analisando estatísticas do nosso Dataset\n",
    "data.describe()"
   ]
  },
  {
   "cell_type": "markdown",
   "metadata": {
    "id": "50HYvL31l4J-"
   },
   "source": [
    "###Analisando a Correlação de Pearson e de Spearman"
   ]
  },
  {
   "cell_type": "markdown",
   "metadata": {
    "id": "KMYmBH8Yl9EQ"
   },
   "source": [
    "A Correlação de Pearson é uma métrica muito utilizada para saber o quanto que uma variável numérica interfere ou é inteferida por outra variável de forma linear. E quanto que a correlação de Spearman é utilizada para casos não lineares."
   ]
  },
  {
   "cell_type": "code",
   "execution_count": 6,
   "metadata": {
    "executionInfo": {
     "elapsed": 1029,
     "status": "ok",
     "timestamp": 1615853433709,
     "user": {
      "displayName": "LUCAS MARQUES",
      "photoUrl": "https://lh3.googleusercontent.com/a-/AOh14Gh00T7DfV6a1bJ5srABNyobGkUK0lvOe0L_ogf3=s64",
      "userId": "04634687850896258389"
     },
     "user_tz": 180
    },
    "id": "WGUFnXh1mQzz"
   },
   "outputs": [],
   "source": [
    "# Correlação de Pearson\n",
    "pearson = data.corr(method='pearson')\n",
    "# Correlação de Spearman\n",
    "spearman = data.corr(method='spearman')"
   ]
  },
  {
   "cell_type": "code",
   "execution_count": 7,
   "metadata": {
    "executionInfo": {
     "elapsed": 999,
     "status": "ok",
     "timestamp": 1615853434242,
     "user": {
      "displayName": "LUCAS MARQUES",
      "photoUrl": "https://lh3.googleusercontent.com/a-/AOh14Gh00T7DfV6a1bJ5srABNyobGkUK0lvOe0L_ogf3=s64",
      "userId": "04634687850896258389"
     },
     "user_tz": 180
    },
    "id": "oEN77Jjqlcmh"
   },
   "outputs": [],
   "source": [
    "import numpy as np\n",
    "# Criando a máscaras para os Heatmapa da correlações\n",
    "mask_pearson = np.triu(np.ones_like(pearson, dtype=bool))\n",
    "mask_spearman = np.triu(np.ones_like(spearman, dtype=bool))"
   ]
  },
  {
   "cell_type": "code",
   "execution_count": 8,
   "metadata": {
    "colab": {
     "base_uri": "https://localhost:8080/",
     "height": 725
    },
    "executionInfo": {
     "elapsed": 3470,
     "status": "ok",
     "timestamp": 1615853437916,
     "user": {
      "displayName": "LUCAS MARQUES",
      "photoUrl": "https://lh3.googleusercontent.com/a-/AOh14Gh00T7DfV6a1bJ5srABNyobGkUK0lvOe0L_ogf3=s64",
      "userId": "04634687850896258389"
     },
     "user_tz": 180
    },
    "id": "2SOq7pXYm-b7",
    "outputId": "9e4d8fad-d366-4401-cc91-7a90f88ad35f"
   },
   "outputs": [
    {
     "name": "stderr",
     "output_type": "stream",
     "text": [
      "C:\\Users\\Avell\\AppData\\Local\\Temp\\ipykernel_10848\\2799056870.py:12: UserWarning: Matplotlib is currently using module://matplotlib_inline.backend_inline, which is a non-GUI backend, so cannot show the figure.\n",
      "  fig.show()\n"
     ]
    },
    {
     "data": {
      "image/png": "[encoded data removed]",
      "text/plain": [
       "<Figure size 2600x1000 with 4 Axes>"
      ]
     },
     "metadata": {},
     "output_type": "display_data"
    }
   ],
   "source": [
    "#Imprimindo o heatmap\n",
    "import seaborn as sns\n",
    "import matplotlib.pyplot as plt\n",
    "sns.set_theme(style='darkgrid')\n",
    "\n",
    "fig, ax = plt.subplots(1,2,figsize=(26,10))\n",
    "sns.heatmap(data=pearson, annot=True, mask=mask_pearson, ax=ax[0])\n",
    "ax[0].set_title(\"Correlação de Pearson\")\n",
    "sns.heatmap(data=spearman, annot=True, mask=mask_spearman, ax=ax[1])\n",
    "ax[1].set_title(\"Correlação de Spearman\")\n",
    "fig.suptitle('Mapa de Calor com a correlação entre variáveis')\n",
    "fig.show()"
   ]
  },
  {
   "cell_type": "markdown",
   "metadata": {
    "id": "vMjO4jQnoknJ"
   },
   "source": [
    "Através da análise do mapa de calor, podemos perceber que os preços das casas possuem 43% de correlação com a quantidade de banheiros e quartos na casa. Bem como possui uma forte correlação não linear com a área construída."
   ]
  },
  {
   "cell_type": "markdown",
   "metadata": {
    "id": "Ea0mXlSZlZBe"
   },
   "source": [
    "## Pré-processamento do dataset"
   ]
  },
  {
   "cell_type": "code",
   "execution_count": 9,
   "metadata": {
    "colab": {
     "base_uri": "https://localhost:8080/",
     "height": 326
    },
    "executionInfo": {
     "elapsed": 947,
     "status": "ok",
     "timestamp": 1615853442451,
     "user": {
      "displayName": "LUCAS MARQUES",
      "photoUrl": "https://lh3.googleusercontent.com/a-/AOh14Gh00T7DfV6a1bJ5srABNyobGkUK0lvOe0L_ogf3=s64",
      "userId": "04634687850896258389"
     },
     "user_tz": 180
    },
    "id": "K4aR3NSvkN1F",
    "outputId": "3840435c-9e3b-40bf-e71b-9a45f59f5af0"
   },
   "outputs": [
    {
     "data": {
      "text/html": [
       "<div>\n",
       "<style scoped>\n",
       "    .dataframe tbody tr th:only-of-type {\n",
       "        vertical-align: middle;\n",
       "    }\n",
       "\n",
       "    .dataframe tbody tr th {\n",
       "        vertical-align: top;\n",
       "    }\n",
       "\n",
       "    .dataframe thead th {\n",
       "        text-align: right;\n",
       "    }\n",
       "</style>\n",
       "<table border=\"1\" class=\"dataframe\">\n",
       "  <thead>\n",
       "    <tr style=\"text-align: right;\">\n",
       "      <th></th>\n",
       "      <th>Suburb</th>\n",
       "      <th>Address</th>\n",
       "      <th>Rooms</th>\n",
       "      <th>Type</th>\n",
       "      <th>Price</th>\n",
       "      <th>Method</th>\n",
       "      <th>SellerG</th>\n",
       "      <th>Date</th>\n",
       "      <th>Distance</th>\n",
       "      <th>Postcode</th>\n",
       "      <th>...</th>\n",
       "      <th>Bathroom</th>\n",
       "      <th>Car</th>\n",
       "      <th>Landsize</th>\n",
       "      <th>BuildingArea</th>\n",
       "      <th>YearBuilt</th>\n",
       "      <th>CouncilArea</th>\n",
       "      <th>Lattitude</th>\n",
       "      <th>Longtitude</th>\n",
       "      <th>Regionname</th>\n",
       "      <th>Propertycount</th>\n",
       "    </tr>\n",
       "  </thead>\n",
       "  <tbody>\n",
       "    <tr>\n",
       "      <th>0</th>\n",
       "      <td>Abbotsford</td>\n",
       "      <td>68 Studley St</td>\n",
       "      <td>2</td>\n",
       "      <td>h</td>\n",
       "      <td>NaN</td>\n",
       "      <td>SS</td>\n",
       "      <td>Jellis</td>\n",
       "      <td>3/09/2016</td>\n",
       "      <td>2.5</td>\n",
       "      <td>3067.0</td>\n",
       "      <td>...</td>\n",
       "      <td>1.0</td>\n",
       "      <td>1.0</td>\n",
       "      <td>126.0</td>\n",
       "      <td>NaN</td>\n",
       "      <td>NaN</td>\n",
       "      <td>Yarra City Council</td>\n",
       "      <td>-37.8014</td>\n",
       "      <td>144.9958</td>\n",
       "      <td>Northern Metropolitan</td>\n",
       "      <td>4019.0</td>\n",
       "    </tr>\n",
       "    <tr>\n",
       "      <th>1</th>\n",
       "      <td>Abbotsford</td>\n",
       "      <td>85 Turner St</td>\n",
       "      <td>2</td>\n",
       "      <td>h</td>\n",
       "      <td>1480000.0</td>\n",
       "      <td>S</td>\n",
       "      <td>Biggin</td>\n",
       "      <td>3/12/2016</td>\n",
       "      <td>2.5</td>\n",
       "      <td>3067.0</td>\n",
       "      <td>...</td>\n",
       "      <td>1.0</td>\n",
       "      <td>1.0</td>\n",
       "      <td>202.0</td>\n",
       "      <td>NaN</td>\n",
       "      <td>NaN</td>\n",
       "      <td>Yarra City Council</td>\n",
       "      <td>-37.7996</td>\n",
       "      <td>144.9984</td>\n",
       "      <td>Northern Metropolitan</td>\n",
       "      <td>4019.0</td>\n",
       "    </tr>\n",
       "    <tr>\n",
       "      <th>2</th>\n",
       "      <td>Abbotsford</td>\n",
       "      <td>25 Bloomburg St</td>\n",
       "      <td>2</td>\n",
       "      <td>h</td>\n",
       "      <td>1035000.0</td>\n",
       "      <td>S</td>\n",
       "      <td>Biggin</td>\n",
       "      <td>4/02/2016</td>\n",
       "      <td>2.5</td>\n",
       "      <td>3067.0</td>\n",
       "      <td>...</td>\n",
       "      <td>1.0</td>\n",
       "      <td>0.0</td>\n",
       "      <td>156.0</td>\n",
       "      <td>79.0</td>\n",
       "      <td>1900.0</td>\n",
       "      <td>Yarra City Council</td>\n",
       "      <td>-37.8079</td>\n",
       "      <td>144.9934</td>\n",
       "      <td>Northern Metropolitan</td>\n",
       "      <td>4019.0</td>\n",
       "    </tr>\n",
       "    <tr>\n",
       "      <th>3</th>\n",
       "      <td>Abbotsford</td>\n",
       "      <td>18/659 Victoria St</td>\n",
       "      <td>3</td>\n",
       "      <td>u</td>\n",
       "      <td>NaN</td>\n",
       "      <td>VB</td>\n",
       "      <td>Rounds</td>\n",
       "      <td>4/02/2016</td>\n",
       "      <td>2.5</td>\n",
       "      <td>3067.0</td>\n",
       "      <td>...</td>\n",
       "      <td>2.0</td>\n",
       "      <td>1.0</td>\n",
       "      <td>0.0</td>\n",
       "      <td>NaN</td>\n",
       "      <td>NaN</td>\n",
       "      <td>Yarra City Council</td>\n",
       "      <td>-37.8114</td>\n",
       "      <td>145.0116</td>\n",
       "      <td>Northern Metropolitan</td>\n",
       "      <td>4019.0</td>\n",
       "    </tr>\n",
       "    <tr>\n",
       "      <th>4</th>\n",
       "      <td>Abbotsford</td>\n",
       "      <td>5 Charles St</td>\n",
       "      <td>3</td>\n",
       "      <td>h</td>\n",
       "      <td>1465000.0</td>\n",
       "      <td>SP</td>\n",
       "      <td>Biggin</td>\n",
       "      <td>4/03/2017</td>\n",
       "      <td>2.5</td>\n",
       "      <td>3067.0</td>\n",
       "      <td>...</td>\n",
       "      <td>2.0</td>\n",
       "      <td>0.0</td>\n",
       "      <td>134.0</td>\n",
       "      <td>150.0</td>\n",
       "      <td>1900.0</td>\n",
       "      <td>Yarra City Council</td>\n",
       "      <td>-37.8093</td>\n",
       "      <td>144.9944</td>\n",
       "      <td>Northern Metropolitan</td>\n",
       "      <td>4019.0</td>\n",
       "    </tr>\n",
       "  </tbody>\n",
       "</table>\n",
       "<p>5 rows × 21 columns</p>\n",
       "</div>"
      ],
      "text/plain": [
       "       Suburb             Address  Rooms Type      Price Method SellerG  \\\n",
       "0  Abbotsford       68 Studley St      2    h        NaN     SS  Jellis   \n",
       "1  Abbotsford        85 Turner St      2    h  1480000.0      S  Biggin   \n",
       "2  Abbotsford     25 Bloomburg St      2    h  1035000.0      S  Biggin   \n",
       "3  Abbotsford  18/659 Victoria St      3    u        NaN     VB  Rounds   \n",
       "4  Abbotsford        5 Charles St      3    h  1465000.0     SP  Biggin   \n",
       "\n",
       "        Date  Distance  Postcode  ...  Bathroom  Car  Landsize  BuildingArea  \\\n",
       "0  3/09/2016       2.5    3067.0  ...       1.0  1.0     126.0           NaN   \n",
       "1  3/12/2016       2.5    3067.0  ...       1.0  1.0     202.0           NaN   \n",
       "2  4/02/2016       2.5    3067.0  ...       1.0  0.0     156.0          79.0   \n",
       "3  4/02/2016       2.5    3067.0  ...       2.0  1.0       0.0           NaN   \n",
       "4  4/03/2017       2.5    3067.0  ...       2.0  0.0     134.0         150.0   \n",
       "\n",
       "   YearBuilt         CouncilArea Lattitude  Longtitude             Regionname  \\\n",
       "0        NaN  Yarra City Council  -37.8014    144.9958  Northern Metropolitan   \n",
       "1        NaN  Yarra City Council  -37.7996    144.9984  Northern Metropolitan   \n",
       "2     1900.0  Yarra City Council  -37.8079    144.9934  Northern Metropolitan   \n",
       "3        NaN  Yarra City Council  -37.8114    145.0116  Northern Metropolitan   \n",
       "4     1900.0  Yarra City Council  -37.8093    144.9944  Northern Metropolitan   \n",
       "\n",
       "  Propertycount  \n",
       "0        4019.0  \n",
       "1        4019.0  \n",
       "2        4019.0  \n",
       "3        4019.0  \n",
       "4        4019.0  \n",
       "\n",
       "[5 rows x 21 columns]"
      ]
     },
     "execution_count": 9,
     "metadata": {},
     "output_type": "execute_result"
    }
   ],
   "source": [
    "# Relembrando o nosso dataset\n",
    "data.head()"
   ]
  },
  {
   "cell_type": "code",
   "execution_count": 12,
   "metadata": {
    "executionInfo": {
     "elapsed": 950,
     "status": "ok",
     "timestamp": 1615853446230,
     "user": {
      "displayName": "LUCAS MARQUES",
      "photoUrl": "https://lh3.googleusercontent.com/a-/AOh14Gh00T7DfV6a1bJ5srABNyobGkUK0lvOe0L_ogf3=s64",
      "userId": "04634687850896258389"
     },
     "user_tz": 180
    },
    "id": "NlMXiF9nr8GR"
   },
   "outputs": [
    {
     "data": {
      "text/plain": [
       "34857"
      ]
     },
     "execution_count": 12,
     "metadata": {},
     "output_type": "execute_result"
    }
   ],
   "source": [
    "#Copiando o dataset\n",
    "data_cp = data.copy()\n",
    "len(data_cp)"
   ]
  },
  {
   "cell_type": "markdown",
   "metadata": {
    "id": "CY3VMPcf21kV"
   },
   "source": [
    "### Tratamento de Valores Faltantes\n",
    "\n",
    "É imprescindível que os dados fornecidos ao nosso modelo não sejam faltantes pois, caso isso aconteça, é possível haver erros tanto no treinamento do modelo quanto, a nível de compilação, quanto no aprendizado do mesmo.\n",
    "\n",
    "Para tanto, faz-se necessário adotarmos técnicas para lidar com esses dados faltantes. Para esse notebook, vamos utilizar duas delas:\n",
    "\n",
    "*   Deletar os valores vazios;\n",
    "*   Preencher os valores vazios com suas respectivas médias;\n",
    "\n"
   ]
  },
  {
   "cell_type": "code",
   "execution_count": 13,
   "metadata": {
    "colab": {
     "base_uri": "https://localhost:8080/"
    },
    "executionInfo": {
     "elapsed": 2334,
     "status": "ok",
     "timestamp": 1615853449026,
     "user": {
      "displayName": "LUCAS MARQUES",
      "photoUrl": "https://lh3.googleusercontent.com/a-/AOh14Gh00T7DfV6a1bJ5srABNyobGkUK0lvOe0L_ogf3=s64",
      "userId": "04634687850896258389"
     },
     "user_tz": 180
    },
    "id": "GY0HF8Jsrxag",
    "outputId": "7d119925-8768-4c3e-e903-d3ba59b2312d"
   },
   "outputs": [
    {
     "data": {
      "text/plain": [
       "Suburb               0\n",
       "Address              0\n",
       "Rooms                0\n",
       "Type                 0\n",
       "Price             7610\n",
       "Method               0\n",
       "SellerG              0\n",
       "Date                 0\n",
       "Distance             1\n",
       "Postcode             1\n",
       "Bedroom2          8217\n",
       "Bathroom          8226\n",
       "Car               8728\n",
       "Landsize         11810\n",
       "BuildingArea     21115\n",
       "YearBuilt        19306\n",
       "CouncilArea          3\n",
       "Lattitude         7976\n",
       "Longtitude        7976\n",
       "Regionname           3\n",
       "Propertycount        3\n",
       "dtype: int64"
      ]
     },
     "execution_count": 13,
     "metadata": {},
     "output_type": "execute_result"
    }
   ],
   "source": [
    "#Procurando por valores vazios\n",
    "data_cp.isna().sum()"
   ]
  },
  {
   "cell_type": "code",
   "execution_count": 14,
   "metadata": {
    "colab": {
     "base_uri": "https://localhost:8080/",
     "height": 728
    },
    "executionInfo": {
     "elapsed": 989,
     "status": "ok",
     "timestamp": 1615853449027,
     "user": {
      "displayName": "LUCAS MARQUES",
      "photoUrl": "https://lh3.googleusercontent.com/a-/AOh14Gh00T7DfV6a1bJ5srABNyobGkUK0lvOe0L_ogf3=s64",
      "userId": "04634687850896258389"
     },
     "user_tz": 180
    },
    "id": "pQiVSyPGtqwA",
    "outputId": "ee32b19d-5489-4cf8-f024-a425a88aa23f"
   },
   "outputs": [
    {
     "data": {
      "text/html": [
       "<div>\n",
       "<style scoped>\n",
       "    .dataframe tbody tr th:only-of-type {\n",
       "        vertical-align: middle;\n",
       "    }\n",
       "\n",
       "    .dataframe tbody tr th {\n",
       "        vertical-align: top;\n",
       "    }\n",
       "\n",
       "    .dataframe thead th {\n",
       "        text-align: right;\n",
       "    }\n",
       "</style>\n",
       "<table border=\"1\" class=\"dataframe\">\n",
       "  <thead>\n",
       "    <tr style=\"text-align: right;\">\n",
       "      <th></th>\n",
       "      <th>Suburb</th>\n",
       "      <th>Address</th>\n",
       "      <th>Rooms</th>\n",
       "      <th>Type</th>\n",
       "      <th>Price</th>\n",
       "      <th>Method</th>\n",
       "      <th>SellerG</th>\n",
       "      <th>Date</th>\n",
       "      <th>Distance</th>\n",
       "      <th>Postcode</th>\n",
       "      <th>...</th>\n",
       "      <th>Bathroom</th>\n",
       "      <th>Car</th>\n",
       "      <th>Landsize</th>\n",
       "      <th>BuildingArea</th>\n",
       "      <th>YearBuilt</th>\n",
       "      <th>CouncilArea</th>\n",
       "      <th>Lattitude</th>\n",
       "      <th>Longtitude</th>\n",
       "      <th>Regionname</th>\n",
       "      <th>Propertycount</th>\n",
       "    </tr>\n",
       "  </thead>\n",
       "  <tbody>\n",
       "    <tr>\n",
       "      <th>15</th>\n",
       "      <td>Abbotsford</td>\n",
       "      <td>217 Langridge St</td>\n",
       "      <td>3</td>\n",
       "      <td>h</td>\n",
       "      <td>1000000.0</td>\n",
       "      <td>S</td>\n",
       "      <td>Jellis</td>\n",
       "      <td>8/10/2016</td>\n",
       "      <td>2.5</td>\n",
       "      <td>3067.0</td>\n",
       "      <td>...</td>\n",
       "      <td>NaN</td>\n",
       "      <td>NaN</td>\n",
       "      <td>NaN</td>\n",
       "      <td>NaN</td>\n",
       "      <td>NaN</td>\n",
       "      <td>Yarra City Council</td>\n",
       "      <td>NaN</td>\n",
       "      <td>NaN</td>\n",
       "      <td>Northern Metropolitan</td>\n",
       "      <td>4019.0</td>\n",
       "    </tr>\n",
       "    <tr>\n",
       "      <th>16</th>\n",
       "      <td>Abbotsford</td>\n",
       "      <td>18a Mollison St</td>\n",
       "      <td>2</td>\n",
       "      <td>t</td>\n",
       "      <td>745000.0</td>\n",
       "      <td>S</td>\n",
       "      <td>Jellis</td>\n",
       "      <td>8/10/2016</td>\n",
       "      <td>2.5</td>\n",
       "      <td>3067.0</td>\n",
       "      <td>...</td>\n",
       "      <td>NaN</td>\n",
       "      <td>NaN</td>\n",
       "      <td>NaN</td>\n",
       "      <td>NaN</td>\n",
       "      <td>NaN</td>\n",
       "      <td>Yarra City Council</td>\n",
       "      <td>NaN</td>\n",
       "      <td>NaN</td>\n",
       "      <td>Northern Metropolitan</td>\n",
       "      <td>4019.0</td>\n",
       "    </tr>\n",
       "    <tr>\n",
       "      <th>19</th>\n",
       "      <td>Abbotsford</td>\n",
       "      <td>403/609 Victoria St</td>\n",
       "      <td>2</td>\n",
       "      <td>u</td>\n",
       "      <td>542000.0</td>\n",
       "      <td>S</td>\n",
       "      <td>Dingle</td>\n",
       "      <td>8/10/2016</td>\n",
       "      <td>2.5</td>\n",
       "      <td>3067.0</td>\n",
       "      <td>...</td>\n",
       "      <td>NaN</td>\n",
       "      <td>NaN</td>\n",
       "      <td>NaN</td>\n",
       "      <td>NaN</td>\n",
       "      <td>NaN</td>\n",
       "      <td>Yarra City Council</td>\n",
       "      <td>NaN</td>\n",
       "      <td>NaN</td>\n",
       "      <td>Northern Metropolitan</td>\n",
       "      <td>4019.0</td>\n",
       "    </tr>\n",
       "    <tr>\n",
       "      <th>21</th>\n",
       "      <td>Abbotsford</td>\n",
       "      <td>25/84 Trenerry Cr</td>\n",
       "      <td>2</td>\n",
       "      <td>u</td>\n",
       "      <td>760000.0</td>\n",
       "      <td>SP</td>\n",
       "      <td>Biggin</td>\n",
       "      <td>10/12/2016</td>\n",
       "      <td>2.5</td>\n",
       "      <td>3067.0</td>\n",
       "      <td>...</td>\n",
       "      <td>NaN</td>\n",
       "      <td>NaN</td>\n",
       "      <td>NaN</td>\n",
       "      <td>NaN</td>\n",
       "      <td>NaN</td>\n",
       "      <td>Yarra City Council</td>\n",
       "      <td>NaN</td>\n",
       "      <td>NaN</td>\n",
       "      <td>Northern Metropolitan</td>\n",
       "      <td>4019.0</td>\n",
       "    </tr>\n",
       "    <tr>\n",
       "      <th>22</th>\n",
       "      <td>Abbotsford</td>\n",
       "      <td>106/119 Turner St</td>\n",
       "      <td>1</td>\n",
       "      <td>u</td>\n",
       "      <td>481000.0</td>\n",
       "      <td>SP</td>\n",
       "      <td>Purplebricks</td>\n",
       "      <td>10/12/2016</td>\n",
       "      <td>2.5</td>\n",
       "      <td>3067.0</td>\n",
       "      <td>...</td>\n",
       "      <td>NaN</td>\n",
       "      <td>NaN</td>\n",
       "      <td>NaN</td>\n",
       "      <td>NaN</td>\n",
       "      <td>NaN</td>\n",
       "      <td>Yarra City Council</td>\n",
       "      <td>NaN</td>\n",
       "      <td>NaN</td>\n",
       "      <td>Northern Metropolitan</td>\n",
       "      <td>4019.0</td>\n",
       "    </tr>\n",
       "    <tr>\n",
       "      <th>...</th>\n",
       "      <td>...</td>\n",
       "      <td>...</td>\n",
       "      <td>...</td>\n",
       "      <td>...</td>\n",
       "      <td>...</td>\n",
       "      <td>...</td>\n",
       "      <td>...</td>\n",
       "      <td>...</td>\n",
       "      <td>...</td>\n",
       "      <td>...</td>\n",
       "      <td>...</td>\n",
       "      <td>...</td>\n",
       "      <td>...</td>\n",
       "      <td>...</td>\n",
       "      <td>...</td>\n",
       "      <td>...</td>\n",
       "      <td>...</td>\n",
       "      <td>...</td>\n",
       "      <td>...</td>\n",
       "      <td>...</td>\n",
       "      <td>...</td>\n",
       "    </tr>\n",
       "    <tr>\n",
       "      <th>34838</th>\n",
       "      <td>Williamstown</td>\n",
       "      <td>11/81 Melbourne Rd</td>\n",
       "      <td>2</td>\n",
       "      <td>u</td>\n",
       "      <td>450000.0</td>\n",
       "      <td>SP</td>\n",
       "      <td>Raine</td>\n",
       "      <td>24/02/2018</td>\n",
       "      <td>6.8</td>\n",
       "      <td>3016.0</td>\n",
       "      <td>...</td>\n",
       "      <td>NaN</td>\n",
       "      <td>NaN</td>\n",
       "      <td>NaN</td>\n",
       "      <td>NaN</td>\n",
       "      <td>NaN</td>\n",
       "      <td>Hobsons Bay City Council</td>\n",
       "      <td>NaN</td>\n",
       "      <td>NaN</td>\n",
       "      <td>Western Metropolitan</td>\n",
       "      <td>6380.0</td>\n",
       "    </tr>\n",
       "    <tr>\n",
       "      <th>34839</th>\n",
       "      <td>Williamstown</td>\n",
       "      <td>24/18 Station Rd</td>\n",
       "      <td>2</td>\n",
       "      <td>u</td>\n",
       "      <td>475000.0</td>\n",
       "      <td>SP</td>\n",
       "      <td>Greg</td>\n",
       "      <td>24/02/2018</td>\n",
       "      <td>6.8</td>\n",
       "      <td>3016.0</td>\n",
       "      <td>...</td>\n",
       "      <td>NaN</td>\n",
       "      <td>NaN</td>\n",
       "      <td>NaN</td>\n",
       "      <td>NaN</td>\n",
       "      <td>NaN</td>\n",
       "      <td>Hobsons Bay City Council</td>\n",
       "      <td>NaN</td>\n",
       "      <td>NaN</td>\n",
       "      <td>Western Metropolitan</td>\n",
       "      <td>6380.0</td>\n",
       "    </tr>\n",
       "    <tr>\n",
       "      <th>34840</th>\n",
       "      <td>Williamstown</td>\n",
       "      <td>3/2 Thompson St</td>\n",
       "      <td>2</td>\n",
       "      <td>u</td>\n",
       "      <td>520000.0</td>\n",
       "      <td>VB</td>\n",
       "      <td>Raine</td>\n",
       "      <td>24/02/2018</td>\n",
       "      <td>6.8</td>\n",
       "      <td>3016.0</td>\n",
       "      <td>...</td>\n",
       "      <td>NaN</td>\n",
       "      <td>NaN</td>\n",
       "      <td>NaN</td>\n",
       "      <td>NaN</td>\n",
       "      <td>NaN</td>\n",
       "      <td>Hobsons Bay City Council</td>\n",
       "      <td>NaN</td>\n",
       "      <td>NaN</td>\n",
       "      <td>Western Metropolitan</td>\n",
       "      <td>6380.0</td>\n",
       "    </tr>\n",
       "    <tr>\n",
       "      <th>34844</th>\n",
       "      <td>Windsor</td>\n",
       "      <td>4/16 Lewisham Rd</td>\n",
       "      <td>1</td>\n",
       "      <td>u</td>\n",
       "      <td>440000.0</td>\n",
       "      <td>SP</td>\n",
       "      <td>Biggin</td>\n",
       "      <td>24/02/2018</td>\n",
       "      <td>4.6</td>\n",
       "      <td>3181.0</td>\n",
       "      <td>...</td>\n",
       "      <td>NaN</td>\n",
       "      <td>NaN</td>\n",
       "      <td>NaN</td>\n",
       "      <td>NaN</td>\n",
       "      <td>NaN</td>\n",
       "      <td>Port Phillip City Council</td>\n",
       "      <td>NaN</td>\n",
       "      <td>NaN</td>\n",
       "      <td>Southern Metropolitan</td>\n",
       "      <td>4380.0</td>\n",
       "    </tr>\n",
       "    <tr>\n",
       "      <th>34855</th>\n",
       "      <td>Yarraville</td>\n",
       "      <td>12/37 Stephen St</td>\n",
       "      <td>3</td>\n",
       "      <td>h</td>\n",
       "      <td>1140000.0</td>\n",
       "      <td>SP</td>\n",
       "      <td>hockingstuart</td>\n",
       "      <td>24/02/2018</td>\n",
       "      <td>6.3</td>\n",
       "      <td>3013.0</td>\n",
       "      <td>...</td>\n",
       "      <td>NaN</td>\n",
       "      <td>NaN</td>\n",
       "      <td>NaN</td>\n",
       "      <td>NaN</td>\n",
       "      <td>NaN</td>\n",
       "      <td>Maribyrnong City Council</td>\n",
       "      <td>NaN</td>\n",
       "      <td>NaN</td>\n",
       "      <td>Western Metropolitan</td>\n",
       "      <td>6543.0</td>\n",
       "    </tr>\n",
       "  </tbody>\n",
       "</table>\n",
       "<p>8217 rows × 21 columns</p>\n",
       "</div>"
      ],
      "text/plain": [
       "             Suburb              Address  Rooms Type      Price Method  \\\n",
       "15       Abbotsford     217 Langridge St      3    h  1000000.0      S   \n",
       "16       Abbotsford      18a Mollison St      2    t   745000.0      S   \n",
       "19       Abbotsford  403/609 Victoria St      2    u   542000.0      S   \n",
       "21       Abbotsford    25/84 Trenerry Cr      2    u   760000.0     SP   \n",
       "22       Abbotsford    106/119 Turner St      1    u   481000.0     SP   \n",
       "...             ...                  ...    ...  ...        ...    ...   \n",
       "34838  Williamstown   11/81 Melbourne Rd      2    u   450000.0     SP   \n",
       "34839  Williamstown     24/18 Station Rd      2    u   475000.0     SP   \n",
       "34840  Williamstown      3/2 Thompson St      2    u   520000.0     VB   \n",
       "34844       Windsor     4/16 Lewisham Rd      1    u   440000.0     SP   \n",
       "34855    Yarraville     12/37 Stephen St      3    h  1140000.0     SP   \n",
       "\n",
       "             SellerG        Date  Distance  Postcode  ...  Bathroom  Car  \\\n",
       "15            Jellis   8/10/2016       2.5    3067.0  ...       NaN  NaN   \n",
       "16            Jellis   8/10/2016       2.5    3067.0  ...       NaN  NaN   \n",
       "19            Dingle   8/10/2016       2.5    3067.0  ...       NaN  NaN   \n",
       "21            Biggin  10/12/2016       2.5    3067.0  ...       NaN  NaN   \n",
       "22      Purplebricks  10/12/2016       2.5    3067.0  ...       NaN  NaN   \n",
       "...              ...         ...       ...       ...  ...       ...  ...   \n",
       "34838          Raine  24/02/2018       6.8    3016.0  ...       NaN  NaN   \n",
       "34839           Greg  24/02/2018       6.8    3016.0  ...       NaN  NaN   \n",
       "34840          Raine  24/02/2018       6.8    3016.0  ...       NaN  NaN   \n",
       "34844         Biggin  24/02/2018       4.6    3181.0  ...       NaN  NaN   \n",
       "34855  hockingstuart  24/02/2018       6.3    3013.0  ...       NaN  NaN   \n",
       "\n",
       "       Landsize  BuildingArea  YearBuilt                CouncilArea Lattitude  \\\n",
       "15          NaN           NaN        NaN         Yarra City Council       NaN   \n",
       "16          NaN           NaN        NaN         Yarra City Council       NaN   \n",
       "19          NaN           NaN        NaN         Yarra City Council       NaN   \n",
       "21          NaN           NaN        NaN         Yarra City Council       NaN   \n",
       "22          NaN           NaN        NaN         Yarra City Council       NaN   \n",
       "...         ...           ...        ...                        ...       ...   \n",
       "34838       NaN           NaN        NaN   Hobsons Bay City Council       NaN   \n",
       "34839       NaN           NaN        NaN   Hobsons Bay City Council       NaN   \n",
       "34840       NaN           NaN        NaN   Hobsons Bay City Council       NaN   \n",
       "34844       NaN           NaN        NaN  Port Phillip City Council       NaN   \n",
       "34855       NaN           NaN        NaN   Maribyrnong City Council       NaN   \n",
       "\n",
       "       Longtitude             Regionname Propertycount  \n",
       "15            NaN  Northern Metropolitan        4019.0  \n",
       "16            NaN  Northern Metropolitan        4019.0  \n",
       "19            NaN  Northern Metropolitan        4019.0  \n",
       "21            NaN  Northern Metropolitan        4019.0  \n",
       "22            NaN  Northern Metropolitan        4019.0  \n",
       "...           ...                    ...           ...  \n",
       "34838         NaN   Western Metropolitan        6380.0  \n",
       "34839         NaN   Western Metropolitan        6380.0  \n",
       "34840         NaN   Western Metropolitan        6380.0  \n",
       "34844         NaN  Southern Metropolitan        4380.0  \n",
       "34855         NaN   Western Metropolitan        6543.0  \n",
       "\n",
       "[8217 rows x 21 columns]"
      ]
     },
     "execution_count": 14,
     "metadata": {},
     "output_type": "execute_result"
    }
   ],
   "source": [
    "data_cp.loc[data_cp[\"Bedroom2\"].isna()]"
   ]
  },
  {
   "cell_type": "code",
   "execution_count": 15,
   "metadata": {
    "colab": {
     "base_uri": "https://localhost:8080/"
    },
    "executionInfo": {
     "elapsed": 1502,
     "status": "ok",
     "timestamp": 1615853450957,
     "user": {
      "displayName": "LUCAS MARQUES",
      "photoUrl": "https://lh3.googleusercontent.com/a-/AOh14Gh00T7DfV6a1bJ5srABNyobGkUK0lvOe0L_ogf3=s64",
      "userId": "04634687850896258389"
     },
     "user_tz": 180
    },
    "id": "DG-0o-0iupZq",
    "outputId": "37e0232a-6eaf-4092-81a5-fc007258d896"
   },
   "outputs": [
    {
     "data": {
      "text/plain": [
       "112000.0"
      ]
     },
     "execution_count": 15,
     "metadata": {},
     "output_type": "execute_result"
    }
   ],
   "source": [
    "# Casa mais barata sem informações sobre quartos\n",
    "data_cp[\"Price\"].loc[data_cp[\"Bedroom2\"].isna()].min()"
   ]
  },
  {
   "cell_type": "code",
   "execution_count": 16,
   "metadata": {
    "colab": {
     "base_uri": "https://localhost:8080/"
    },
    "executionInfo": {
     "elapsed": 1285,
     "status": "ok",
     "timestamp": 1615853451429,
     "user": {
      "displayName": "LUCAS MARQUES",
      "photoUrl": "https://lh3.googleusercontent.com/a-/AOh14Gh00T7DfV6a1bJ5srABNyobGkUK0lvOe0L_ogf3=s64",
      "userId": "04634687850896258389"
     },
     "user_tz": 180
    },
    "id": "P7oRNvctMnka",
    "outputId": "de62c98e-e319-4377-b898-087187c1d69f"
   },
   "outputs": [
    {
     "data": {
      "text/plain": [
       "920983.1047973917"
      ]
     },
     "execution_count": 16,
     "metadata": {},
     "output_type": "execute_result"
    }
   ],
   "source": [
    "# Casa média sem informações sobre quartos\n",
    "data_cp[\"Price\"].loc[data_cp[\"Bedroom2\"].isna()].mean()"
   ]
  },
  {
   "cell_type": "code",
   "execution_count": 17,
   "metadata": {
    "colab": {
     "base_uri": "https://localhost:8080/"
    },
    "executionInfo": {
     "elapsed": 1958,
     "status": "ok",
     "timestamp": 1615853452898,
     "user": {
      "displayName": "LUCAS MARQUES",
      "photoUrl": "https://lh3.googleusercontent.com/a-/AOh14Gh00T7DfV6a1bJ5srABNyobGkUK0lvOe0L_ogf3=s64",
      "userId": "04634687850896258389"
     },
     "user_tz": 180
    },
    "id": "NGG-RVEvuy5i",
    "outputId": "b97178ae-cc99-41a7-98b3-c6d4f9c0a402"
   },
   "outputs": [
    {
     "data": {
      "text/plain": [
       "7000000.0"
      ]
     },
     "execution_count": 17,
     "metadata": {},
     "output_type": "execute_result"
    }
   ],
   "source": [
    "# Casa mais cara sem informações sobre quartos\n",
    "data_cp[\"Price\"].loc[data_cp[\"Bedroom2\"].isna()].max()"
   ]
  },
  {
   "cell_type": "markdown",
   "metadata": {
    "id": "KDm6dWMquMTj"
   },
   "source": [
    "Após uma análise dos valores das casas em relação ao número de quartos e banheiros que não possuem informações. Pode-se concluir que tais preços são muito diferentes e valores bem altos, ou seja, não vale a pena utilizar a média para representar tais valores. Basta analisarmos que existem casas que custam U\\$7.000.000,00 e outras que custam U\\$112.000,00.\n",
    "\n",
    "Além disso, podemos concluir também, analisando os dados faltantes, que um número considerável de casas do nosso dataset não possuem informações sobre \"Buildingarea\" ou \"Landsize\". Portanto, precisamos nos atentar se, apagando os outros dados faltantes, esse número irá diminuir muito ou pouco."
   ]
  },
  {
   "cell_type": "code",
   "execution_count": 18,
   "metadata": {
    "colab": {
     "base_uri": "https://localhost:8080/",
     "height": 326
    },
    "executionInfo": {
     "elapsed": 991,
     "status": "ok",
     "timestamp": 1615853454373,
     "user": {
      "displayName": "LUCAS MARQUES",
      "photoUrl": "https://lh3.googleusercontent.com/a-/AOh14Gh00T7DfV6a1bJ5srABNyobGkUK0lvOe0L_ogf3=s64",
      "userId": "04634687850896258389"
     },
     "user_tz": 180
    },
    "id": "rmkAU-xpp5lW",
    "outputId": "52b11927-8d6a-459f-9870-f5ac12ef8df3"
   },
   "outputs": [
    {
     "data": {
      "text/html": [
       "<div>\n",
       "<style scoped>\n",
       "    .dataframe tbody tr th:only-of-type {\n",
       "        vertical-align: middle;\n",
       "    }\n",
       "\n",
       "    .dataframe tbody tr th {\n",
       "        vertical-align: top;\n",
       "    }\n",
       "\n",
       "    .dataframe thead th {\n",
       "        text-align: right;\n",
       "    }\n",
       "</style>\n",
       "<table border=\"1\" class=\"dataframe\">\n",
       "  <thead>\n",
       "    <tr style=\"text-align: right;\">\n",
       "      <th></th>\n",
       "      <th>Suburb</th>\n",
       "      <th>Address</th>\n",
       "      <th>Rooms</th>\n",
       "      <th>Type</th>\n",
       "      <th>Price</th>\n",
       "      <th>Method</th>\n",
       "      <th>SellerG</th>\n",
       "      <th>Date</th>\n",
       "      <th>Distance</th>\n",
       "      <th>Postcode</th>\n",
       "      <th>...</th>\n",
       "      <th>Bathroom</th>\n",
       "      <th>Car</th>\n",
       "      <th>Landsize</th>\n",
       "      <th>BuildingArea</th>\n",
       "      <th>YearBuilt</th>\n",
       "      <th>CouncilArea</th>\n",
       "      <th>Lattitude</th>\n",
       "      <th>Longtitude</th>\n",
       "      <th>Regionname</th>\n",
       "      <th>Propertycount</th>\n",
       "    </tr>\n",
       "  </thead>\n",
       "  <tbody>\n",
       "    <tr>\n",
       "      <th>2</th>\n",
       "      <td>Abbotsford</td>\n",
       "      <td>25 Bloomburg St</td>\n",
       "      <td>2</td>\n",
       "      <td>h</td>\n",
       "      <td>1035000.0</td>\n",
       "      <td>S</td>\n",
       "      <td>Biggin</td>\n",
       "      <td>4/02/2016</td>\n",
       "      <td>2.5</td>\n",
       "      <td>3067.0</td>\n",
       "      <td>...</td>\n",
       "      <td>1.0</td>\n",
       "      <td>0.0</td>\n",
       "      <td>156.0</td>\n",
       "      <td>79.0</td>\n",
       "      <td>1900.0</td>\n",
       "      <td>Yarra City Council</td>\n",
       "      <td>-37.8079</td>\n",
       "      <td>144.9934</td>\n",
       "      <td>Northern Metropolitan</td>\n",
       "      <td>4019.0</td>\n",
       "    </tr>\n",
       "    <tr>\n",
       "      <th>4</th>\n",
       "      <td>Abbotsford</td>\n",
       "      <td>5 Charles St</td>\n",
       "      <td>3</td>\n",
       "      <td>h</td>\n",
       "      <td>1465000.0</td>\n",
       "      <td>SP</td>\n",
       "      <td>Biggin</td>\n",
       "      <td>4/03/2017</td>\n",
       "      <td>2.5</td>\n",
       "      <td>3067.0</td>\n",
       "      <td>...</td>\n",
       "      <td>2.0</td>\n",
       "      <td>0.0</td>\n",
       "      <td>134.0</td>\n",
       "      <td>150.0</td>\n",
       "      <td>1900.0</td>\n",
       "      <td>Yarra City Council</td>\n",
       "      <td>-37.8093</td>\n",
       "      <td>144.9944</td>\n",
       "      <td>Northern Metropolitan</td>\n",
       "      <td>4019.0</td>\n",
       "    </tr>\n",
       "    <tr>\n",
       "      <th>6</th>\n",
       "      <td>Abbotsford</td>\n",
       "      <td>55a Park St</td>\n",
       "      <td>4</td>\n",
       "      <td>h</td>\n",
       "      <td>1600000.0</td>\n",
       "      <td>VB</td>\n",
       "      <td>Nelson</td>\n",
       "      <td>4/06/2016</td>\n",
       "      <td>2.5</td>\n",
       "      <td>3067.0</td>\n",
       "      <td>...</td>\n",
       "      <td>1.0</td>\n",
       "      <td>2.0</td>\n",
       "      <td>120.0</td>\n",
       "      <td>142.0</td>\n",
       "      <td>2014.0</td>\n",
       "      <td>Yarra City Council</td>\n",
       "      <td>-37.8072</td>\n",
       "      <td>144.9941</td>\n",
       "      <td>Northern Metropolitan</td>\n",
       "      <td>4019.0</td>\n",
       "    </tr>\n",
       "    <tr>\n",
       "      <th>11</th>\n",
       "      <td>Abbotsford</td>\n",
       "      <td>124 Yarra St</td>\n",
       "      <td>3</td>\n",
       "      <td>h</td>\n",
       "      <td>1876000.0</td>\n",
       "      <td>S</td>\n",
       "      <td>Nelson</td>\n",
       "      <td>7/05/2016</td>\n",
       "      <td>2.5</td>\n",
       "      <td>3067.0</td>\n",
       "      <td>...</td>\n",
       "      <td>2.0</td>\n",
       "      <td>0.0</td>\n",
       "      <td>245.0</td>\n",
       "      <td>210.0</td>\n",
       "      <td>1910.0</td>\n",
       "      <td>Yarra City Council</td>\n",
       "      <td>-37.8024</td>\n",
       "      <td>144.9993</td>\n",
       "      <td>Northern Metropolitan</td>\n",
       "      <td>4019.0</td>\n",
       "    </tr>\n",
       "    <tr>\n",
       "      <th>14</th>\n",
       "      <td>Abbotsford</td>\n",
       "      <td>98 Charles St</td>\n",
       "      <td>2</td>\n",
       "      <td>h</td>\n",
       "      <td>1636000.0</td>\n",
       "      <td>S</td>\n",
       "      <td>Nelson</td>\n",
       "      <td>8/10/2016</td>\n",
       "      <td>2.5</td>\n",
       "      <td>3067.0</td>\n",
       "      <td>...</td>\n",
       "      <td>1.0</td>\n",
       "      <td>2.0</td>\n",
       "      <td>256.0</td>\n",
       "      <td>107.0</td>\n",
       "      <td>1890.0</td>\n",
       "      <td>Yarra City Council</td>\n",
       "      <td>-37.8060</td>\n",
       "      <td>144.9954</td>\n",
       "      <td>Northern Metropolitan</td>\n",
       "      <td>4019.0</td>\n",
       "    </tr>\n",
       "  </tbody>\n",
       "</table>\n",
       "<p>5 rows × 21 columns</p>\n",
       "</div>"
      ],
      "text/plain": [
       "        Suburb          Address  Rooms Type      Price Method SellerG  \\\n",
       "2   Abbotsford  25 Bloomburg St      2    h  1035000.0      S  Biggin   \n",
       "4   Abbotsford     5 Charles St      3    h  1465000.0     SP  Biggin   \n",
       "6   Abbotsford      55a Park St      4    h  1600000.0     VB  Nelson   \n",
       "11  Abbotsford     124 Yarra St      3    h  1876000.0      S  Nelson   \n",
       "14  Abbotsford    98 Charles St      2    h  1636000.0      S  Nelson   \n",
       "\n",
       "         Date  Distance  Postcode  ...  Bathroom  Car  Landsize  BuildingArea  \\\n",
       "2   4/02/2016       2.5    3067.0  ...       1.0  0.0     156.0          79.0   \n",
       "4   4/03/2017       2.5    3067.0  ...       2.0  0.0     134.0         150.0   \n",
       "6   4/06/2016       2.5    3067.0  ...       1.0  2.0     120.0         142.0   \n",
       "11  7/05/2016       2.5    3067.0  ...       2.0  0.0     245.0         210.0   \n",
       "14  8/10/2016       2.5    3067.0  ...       1.0  2.0     256.0         107.0   \n",
       "\n",
       "    YearBuilt         CouncilArea Lattitude  Longtitude  \\\n",
       "2      1900.0  Yarra City Council  -37.8079    144.9934   \n",
       "4      1900.0  Yarra City Council  -37.8093    144.9944   \n",
       "6      2014.0  Yarra City Council  -37.8072    144.9941   \n",
       "11     1910.0  Yarra City Council  -37.8024    144.9993   \n",
       "14     1890.0  Yarra City Council  -37.8060    144.9954   \n",
       "\n",
       "               Regionname Propertycount  \n",
       "2   Northern Metropolitan        4019.0  \n",
       "4   Northern Metropolitan        4019.0  \n",
       "6   Northern Metropolitan        4019.0  \n",
       "11  Northern Metropolitan        4019.0  \n",
       "14  Northern Metropolitan        4019.0  \n",
       "\n",
       "[5 rows x 21 columns]"
      ]
     },
     "execution_count": 18,
     "metadata": {},
     "output_type": "execute_result"
    }
   ],
   "source": [
    "# Apagando as linhas cusjas casas não possuem informação sobre os quartos e banheiros\n",
    "data_cp = data_cp.dropna(subset=[\"Price\", \"Bathroom\", \"Bedroom2\", \"CouncilArea\", \"Distance\", \"Postcode\", \"YearBuilt\", \"Lattitude\", \"Longtitude\", \"Regionname\"])\n",
    "data_cp.head()"
   ]
  },
  {
   "cell_type": "code",
   "execution_count": 19,
   "metadata": {
    "colab": {
     "base_uri": "https://localhost:8080/"
    },
    "executionInfo": {
     "elapsed": 2482,
     "status": "ok",
     "timestamp": 1615853457242,
     "user": {
      "displayName": "LUCAS MARQUES",
      "photoUrl": "https://lh3.googleusercontent.com/a-/AOh14Gh00T7DfV6a1bJ5srABNyobGkUK0lvOe0L_ogf3=s64",
      "userId": "04634687850896258389"
     },
     "user_tz": 180
    },
    "id": "HJttpln7zH1K",
    "outputId": "9f87e137-6d68-4057-b2e0-4cf8096f5fae"
   },
   "outputs": [
    {
     "data": {
      "text/plain": [
       "Suburb              0\n",
       "Address             0\n",
       "Rooms               0\n",
       "Type                0\n",
       "Price               0\n",
       "Method              0\n",
       "SellerG             0\n",
       "Date                0\n",
       "Distance            0\n",
       "Postcode            0\n",
       "Bedroom2            0\n",
       "Bathroom            0\n",
       "Car               195\n",
       "Landsize         1462\n",
       "BuildingArea     1834\n",
       "YearBuilt           0\n",
       "CouncilArea         0\n",
       "Lattitude           0\n",
       "Longtitude          0\n",
       "Regionname          0\n",
       "Propertycount       0\n",
       "dtype: int64"
      ]
     },
     "execution_count": 19,
     "metadata": {},
     "output_type": "execute_result"
    }
   ],
   "source": [
    "data_cp.isna().sum()"
   ]
  },
  {
   "cell_type": "markdown",
   "metadata": {
    "id": "APtur7AJ0611"
   },
   "source": [
    "Como o número de dados faltantes em \"Cars\", \"BuildingArea\" e \"Landsize\" diminuiu bastante, podemos utilizar a técnica de preenchimento com o valor da média. "
   ]
  },
  {
   "cell_type": "markdown",
   "metadata": {
    "id": "jHCLEolS7WlV"
   },
   "source": [
    "Antes de dividir o nosso dataset entre previsores e classes (ou X e Y) precisamos lidar com as datas da coluna \"Date\", que representam o dia em que a casa foi vendida."
   ]
  },
  {
   "cell_type": "code",
   "execution_count": 20,
   "metadata": {
    "colab": {
     "base_uri": "https://localhost:8080/"
    },
    "executionInfo": {
     "elapsed": 1226,
     "status": "ok",
     "timestamp": 1615853457243,
     "user": {
      "displayName": "LUCAS MARQUES",
      "photoUrl": "https://lh3.googleusercontent.com/a-/AOh14Gh00T7DfV6a1bJ5srABNyobGkUK0lvOe0L_ogf3=s64",
      "userId": "04634687850896258389"
     },
     "user_tz": 180
    },
    "id": "ZNg9BSqy8jUs",
    "outputId": "5c69503e-192b-4c2b-f29f-724d4313aaec"
   },
   "outputs": [
    {
     "data": {
      "text/plain": [
       "2     4/02/2016\n",
       "4     4/03/2017\n",
       "6     4/06/2016\n",
       "11    7/05/2016\n",
       "14    8/10/2016\n",
       "Name: Date, dtype: object"
      ]
     },
     "execution_count": 20,
     "metadata": {},
     "output_type": "execute_result"
    }
   ],
   "source": [
    "# Visualizando os valores\n",
    "data_cp['Date'].head()"
   ]
  },
  {
   "cell_type": "code",
   "execution_count": 21,
   "metadata": {
    "colab": {
     "base_uri": "https://localhost:8080/"
    },
    "executionInfo": {
     "elapsed": 630,
     "status": "ok",
     "timestamp": 1615853457854,
     "user": {
      "displayName": "LUCAS MARQUES",
      "photoUrl": "https://lh3.googleusercontent.com/a-/AOh14Gh00T7DfV6a1bJ5srABNyobGkUK0lvOe0L_ogf3=s64",
      "userId": "04634687850896258389"
     },
     "user_tz": 180
    },
    "id": "SjRrRkoM7nB5",
    "outputId": "69f6d6ad-8744-4e33-ebf4-7c00564182e1"
   },
   "outputs": [
    {
     "data": {
      "text/plain": [
       "2    2016-02-04\n",
       "4    2017-03-04\n",
       "6    2016-06-04\n",
       "11   2016-05-07\n",
       "14   2016-10-08\n",
       "Name: Date, dtype: datetime64[ns]"
      ]
     },
     "execution_count": 21,
     "metadata": {},
     "output_type": "execute_result"
    }
   ],
   "source": [
    "data_cp['Date'] = pd.to_datetime(data_cp['Date'],\n",
    "                                 format='%d/%m/%Y',\n",
    "                                 errors='coerce')\n",
    "# Visualizando o resultado\n",
    "data_cp['Date'].head()"
   ]
  },
  {
   "cell_type": "markdown",
   "metadata": {
    "id": "W3S-n_zl7vk0"
   },
   "source": [
    "Perceba que antes o nosso tipo de dado era \"object\" e agora temos um tipo de dado próprio do pandas chamado de \"datetime64[ns]\"\n",
    "\n",
    "Agora sim, podemos separar os nossos previsores das nossas classes - Ou o nosso X do nosso Y, já que se trata de uma Regressão."
   ]
  },
  {
   "cell_type": "code",
   "execution_count": 22,
   "metadata": {
    "executionInfo": {
     "elapsed": 674,
     "status": "ok",
     "timestamp": 1615853458959,
     "user": {
      "displayName": "LUCAS MARQUES",
      "photoUrl": "https://lh3.googleusercontent.com/a-/AOh14Gh00T7DfV6a1bJ5srABNyobGkUK0lvOe0L_ogf3=s64",
      "userId": "04634687850896258389"
     },
     "user_tz": 180
    },
    "id": "fFxZA8XDyCqh"
   },
   "outputs": [],
   "source": [
    "# Separando os previsores das classes\n",
    "prev = data_cp.drop(columns=[\"Suburb\", \"Address\", \"Postcode\", \"Price\", \"Propertycount\"]).values\n",
    "classe = data_cp[\"Price\"].values.reshape(-1,1)"
   ]
  },
  {
   "cell_type": "markdown",
   "metadata": {
    "id": "iij_UVlk377s"
   },
   "source": [
    "\n",
    "Como \"PropertyCount\" mostrou uma correlação muito baixa, tanto linear quanto não linear, ao preço das casas, não vamos utilizá-lo para o treinamento do nosso modelo.\n",
    "\n",
    "Além disso, perceba que podemos determinar o \"Suburb\", \"Address\" e \"Postcode\" de uma casa através da sua latitude e longitude. Por causa disso, não iremos considerar esses atributos."
   ]
  },
  {
   "cell_type": "code",
   "execution_count": 23,
   "metadata": {
    "executionInfo": {
     "elapsed": 686,
     "status": "ok",
     "timestamp": 1615853459980,
     "user": {
      "displayName": "LUCAS MARQUES",
      "photoUrl": "https://lh3.googleusercontent.com/a-/AOh14Gh00T7DfV6a1bJ5srABNyobGkUK0lvOe0L_ogf3=s64",
      "userId": "04634687850896258389"
     },
     "user_tz": 180
    },
    "id": "RIEWwU6CqmDH"
   },
   "outputs": [],
   "source": [
    "# Inserindo as médias nos valores faltantes\n",
    "from sklearn.impute import SimpleImputer\n",
    "\n",
    "imputer = SimpleImputer(missing_values=np.nan, strategy='mean')\n",
    "imputer = imputer.fit(prev[:, 8:11])\n",
    "prev[:, 8:11] = imputer.transform(prev[:,8:11])"
   ]
  },
  {
   "cell_type": "code",
   "execution_count": 24,
   "metadata": {
    "colab": {
     "base_uri": "https://localhost:8080/"
    },
    "executionInfo": {
     "elapsed": 459,
     "status": "ok",
     "timestamp": 1615853460997,
     "user": {
      "displayName": "LUCAS MARQUES",
      "photoUrl": "https://lh3.googleusercontent.com/a-/AOh14Gh00T7DfV6a1bJ5srABNyobGkUK0lvOe0L_ogf3=s64",
      "userId": "04634687850896258389"
     },
     "user_tz": 180
    },
    "id": "MnjKZESbvzjS",
    "outputId": "858855c5-9d4b-40f5-e36c-39732bddfec4"
   },
   "outputs": [
    {
     "data": {
      "text/plain": [
       "0"
      ]
     },
     "execution_count": 24,
     "metadata": {},
     "output_type": "execute_result"
    }
   ],
   "source": [
    "# Verificando se existe algum valor nulo\n",
    "pd.isnull(prev).sum()"
   ]
  },
  {
   "cell_type": "markdown",
   "metadata": {
    "id": "14LK8bDv4Nyd"
   },
   "source": [
    "Acima, fizemos o preenchimento dos valores faltantes e a confirmação que não existe nenhuma tipo de dado faltante. \n",
    "\n",
    "A partir de agora, podemos proceguir com o nosso processamento do dataset."
   ]
  },
  {
   "cell_type": "markdown",
   "metadata": {
    "id": "gA7oXBMt4dI7"
   },
   "source": [
    "### Transformando variáveis nominais em numéricas\n",
    "\n",
    "Outro tratamento importante que precisamos fazer é substituir as variáveis do tipo nominais por variáveis numéricas. Isso porque uma rede neural utiliza modelos matemáticos complexos para o seu treinamento, tornando impossível realizar operações como soma em subtração em variáveis como \"Abbotsford\".\n",
    "\n",
    "Para isso, vamos utilizar a biblioteca `sklearn` para transformar esse tipo de variável em números."
   ]
  },
  {
   "cell_type": "code",
   "execution_count": 25,
   "metadata": {
    "executionInfo": {
     "elapsed": 612,
     "status": "ok",
     "timestamp": 1615853462868,
     "user": {
      "displayName": "LUCAS MARQUES",
      "photoUrl": "https://lh3.googleusercontent.com/a-/AOh14Gh00T7DfV6a1bJ5srABNyobGkUK0lvOe0L_ogf3=s64",
      "userId": "04634687850896258389"
     },
     "user_tz": 180
    },
    "id": "XB7ME5R92baB"
   },
   "outputs": [],
   "source": [
    "from sklearn.preprocessing import LabelEncoder\n",
    "\n",
    "labelencoder_previsores = LabelEncoder()\n",
    "prev[:, 1] = labelencoder_previsores.fit_transform(prev[:, 1])  #Type\n",
    "prev[:, 2] = labelencoder_previsores.fit_transform(prev[:, 2])  #Method\n",
    "prev[:, 3] = labelencoder_previsores.fit_transform(prev[:, 3])  #SellerG\n",
    "prev[:, 4] = labelencoder_previsores.fit_transform(prev[:, 4])  #Date\n",
    "prev[:, 12] = labelencoder_previsores.fit_transform(prev[:, 12]) #CouncilArea\n",
    "prev[:, 15] = labelencoder_previsores.fit_transform(prev[:, 15]) #Regionname"
   ]
  },
  {
   "cell_type": "code",
   "execution_count": 26,
   "metadata": {
    "colab": {
     "base_uri": "https://localhost:8080/",
     "height": 204
    },
    "executionInfo": {
     "elapsed": 412,
     "status": "ok",
     "timestamp": 1615853463679,
     "user": {
      "displayName": "LUCAS MARQUES",
      "photoUrl": "https://lh3.googleusercontent.com/a-/AOh14Gh00T7DfV6a1bJ5srABNyobGkUK0lvOe0L_ogf3=s64",
      "userId": "04634687850896258389"
     },
     "user_tz": 180
    },
    "id": "RA3RyZPi9Kbh",
    "outputId": "578fcb7e-b95e-4899-b282-0d0e1c7c1321"
   },
   "outputs": [
    {
     "data": {
      "text/html": [
       "<div>\n",
       "<style scoped>\n",
       "    .dataframe tbody tr th:only-of-type {\n",
       "        vertical-align: middle;\n",
       "    }\n",
       "\n",
       "    .dataframe tbody tr th {\n",
       "        vertical-align: top;\n",
       "    }\n",
       "\n",
       "    .dataframe thead th {\n",
       "        text-align: right;\n",
       "    }\n",
       "</style>\n",
       "<table border=\"1\" class=\"dataframe\">\n",
       "  <thead>\n",
       "    <tr style=\"text-align: right;\">\n",
       "      <th></th>\n",
       "      <th>Rooms</th>\n",
       "      <th>Type</th>\n",
       "      <th>Method</th>\n",
       "      <th>SellerG</th>\n",
       "      <th>Date</th>\n",
       "      <th>Distance</th>\n",
       "      <th>Bedroom2</th>\n",
       "      <th>Bathroom</th>\n",
       "      <th>Car</th>\n",
       "      <th>Landsize</th>\n",
       "      <th>BuildingArea</th>\n",
       "      <th>YearBuilt</th>\n",
       "      <th>CouncilArea</th>\n",
       "      <th>Lattitude</th>\n",
       "      <th>Longtitude</th>\n",
       "      <th>Regionname</th>\n",
       "    </tr>\n",
       "  </thead>\n",
       "  <tbody>\n",
       "    <tr>\n",
       "      <th>0</th>\n",
       "      <td>2</td>\n",
       "      <td>0</td>\n",
       "      <td>1</td>\n",
       "      <td>24</td>\n",
       "      <td>0</td>\n",
       "      <td>2.5</td>\n",
       "      <td>2.0</td>\n",
       "      <td>1.0</td>\n",
       "      <td>0.0</td>\n",
       "      <td>156.0</td>\n",
       "      <td>79.0</td>\n",
       "      <td>1900.0</td>\n",
       "      <td>31</td>\n",
       "      <td>-37.8079</td>\n",
       "      <td>144.9934</td>\n",
       "      <td>2</td>\n",
       "    </tr>\n",
       "    <tr>\n",
       "      <th>1</th>\n",
       "      <td>3</td>\n",
       "      <td>0</td>\n",
       "      <td>3</td>\n",
       "      <td>24</td>\n",
       "      <td>32</td>\n",
       "      <td>2.5</td>\n",
       "      <td>3.0</td>\n",
       "      <td>2.0</td>\n",
       "      <td>0.0</td>\n",
       "      <td>134.0</td>\n",
       "      <td>150.0</td>\n",
       "      <td>1900.0</td>\n",
       "      <td>31</td>\n",
       "      <td>-37.8093</td>\n",
       "      <td>144.9944</td>\n",
       "      <td>2</td>\n",
       "    </tr>\n",
       "    <tr>\n",
       "      <th>2</th>\n",
       "      <td>4</td>\n",
       "      <td>0</td>\n",
       "      <td>4</td>\n",
       "      <td>161</td>\n",
       "      <td>7</td>\n",
       "      <td>2.5</td>\n",
       "      <td>3.0</td>\n",
       "      <td>1.0</td>\n",
       "      <td>2.0</td>\n",
       "      <td>120.0</td>\n",
       "      <td>142.0</td>\n",
       "      <td>2014.0</td>\n",
       "      <td>31</td>\n",
       "      <td>-37.8072</td>\n",
       "      <td>144.9941</td>\n",
       "      <td>2</td>\n",
       "    </tr>\n",
       "    <tr>\n",
       "      <th>3</th>\n",
       "      <td>3</td>\n",
       "      <td>0</td>\n",
       "      <td>1</td>\n",
       "      <td>161</td>\n",
       "      <td>3</td>\n",
       "      <td>2.5</td>\n",
       "      <td>4.0</td>\n",
       "      <td>2.0</td>\n",
       "      <td>0.0</td>\n",
       "      <td>245.0</td>\n",
       "      <td>210.0</td>\n",
       "      <td>1910.0</td>\n",
       "      <td>31</td>\n",
       "      <td>-37.8024</td>\n",
       "      <td>144.9993</td>\n",
       "      <td>2</td>\n",
       "    </tr>\n",
       "    <tr>\n",
       "      <th>4</th>\n",
       "      <td>2</td>\n",
       "      <td>0</td>\n",
       "      <td>1</td>\n",
       "      <td>161</td>\n",
       "      <td>22</td>\n",
       "      <td>2.5</td>\n",
       "      <td>2.0</td>\n",
       "      <td>1.0</td>\n",
       "      <td>2.0</td>\n",
       "      <td>256.0</td>\n",
       "      <td>107.0</td>\n",
       "      <td>1890.0</td>\n",
       "      <td>31</td>\n",
       "      <td>-37.806</td>\n",
       "      <td>144.9954</td>\n",
       "      <td>2</td>\n",
       "    </tr>\n",
       "  </tbody>\n",
       "</table>\n",
       "</div>"
      ],
      "text/plain": [
       "  Rooms Type Method SellerG Date Distance Bedroom2 Bathroom  Car Landsize  \\\n",
       "0     2    0      1      24    0      2.5      2.0      1.0  0.0    156.0   \n",
       "1     3    0      3      24   32      2.5      3.0      2.0  0.0    134.0   \n",
       "2     4    0      4     161    7      2.5      3.0      1.0  2.0    120.0   \n",
       "3     3    0      1     161    3      2.5      4.0      2.0  0.0    245.0   \n",
       "4     2    0      1     161   22      2.5      2.0      1.0  2.0    256.0   \n",
       "\n",
       "  BuildingArea YearBuilt CouncilArea Lattitude Longtitude Regionname  \n",
       "0         79.0    1900.0          31  -37.8079   144.9934          2  \n",
       "1        150.0    1900.0          31  -37.8093   144.9944          2  \n",
       "2        142.0    2014.0          31  -37.8072   144.9941          2  \n",
       "3        210.0    1910.0          31  -37.8024   144.9993          2  \n",
       "4        107.0    1890.0          31   -37.806   144.9954          2  "
      ]
     },
     "execution_count": 26,
     "metadata": {},
     "output_type": "execute_result"
    }
   ],
   "source": [
    "# Visualizando os tramentos nos previsores\n",
    "pd.DataFrame(prev, columns=['Rooms', 'Type', 'Method',\n",
    "                            'SellerG', 'Date', 'Distance', 'Bedroom2',\n",
    "                            'Bathroom', 'Car', 'Landsize', 'BuildingArea',\n",
    "                            'YearBuilt', 'CouncilArea', 'Lattitude','Longtitude',\n",
    "                            'Regionname']).head()"
   ]
  },
  {
   "cell_type": "markdown",
   "metadata": {
    "id": "_BJNGn6-LJ5N"
   },
   "source": [
    "### Categorização das variáveis Nominais\n",
    "\n",
    "Nesse dataset existem algumas colunas que possuem variáveis do tipo categórica, tais como \"Method\", \"SellerG\", \"CouncilArea\" e \"Regionname\", que, após o LabelEconder, foram transformados em variáveis numéricas onde o valor de 0 não vale nem mais e nem menos que o 2, uma vez que estamos fazendo apenas uma \"tradução\" de uma variável nominal para numérica.\n",
    "\n",
    " Para que o nosso modelo compreenda isso, temos que realizar uma transformação chamada de `OneHotEncoder`. Onde cada valor de um atributo vai se transforma em um novo atributo, tal que, caso o método seja o valor \"0\", será criada um novo atributo com o nome de \"Method 0\" e o mesmo receberá o valor de um, enquanto que as outras colunas geradas receberão o valor de 0."
   ]
  },
  {
   "cell_type": "code",
   "execution_count": 27,
   "metadata": {
    "executionInfo": {
     "elapsed": 519,
     "status": "ok",
     "timestamp": 1615853466462,
     "user": {
      "displayName": "LUCAS MARQUES",
      "photoUrl": "https://lh3.googleusercontent.com/a-/AOh14Gh00T7DfV6a1bJ5srABNyobGkUK0lvOe0L_ogf3=s64",
      "userId": "04634687850896258389"
     },
     "user_tz": 180
    },
    "id": "k9Qz9f_K9s4J"
   },
   "outputs": [],
   "source": [
    "from sklearn.preprocessing import OneHotEncoder\n",
    "from sklearn.compose import ColumnTransformer\n",
    "\n",
    "# Transformando \"Method\", \"SellerG\", \"CouncilArea\" e \"Regionname\"\n",
    "onehotencorder = ColumnTransformer(transformers=[(\"OneHot\", OneHotEncoder(), [2,3,12,15])], remainder='passthrough')\n",
    "prev = onehotencorder.fit_transform(prev).toarray()"
   ]
  },
  {
   "cell_type": "markdown",
   "metadata": {
    "id": "IA5It5v0OlGI"
   },
   "source": [
    "### Normalização de Atributos\n",
    "\n",
    "Como existem atributos com grandezas totalmente distintas, é uma boa prática escalonarmos os valores dos nossos atributos. Existem duas principais formas de fazer isso, a primeiro é a padronização, onde o valor de cada atributo é subtraído do valor médio e dividido pelo valor médio. Dessa forma, a padronização pode receber qualquer valor próximo do 0, negativo ou positivo. A segunda forma é a normalização, que subtrai o valor de um atributo pelo valor mínimo e divide pela subtração do máximo e mínimo. Tal operação é mais interessante para nós, uma vez que não irá interferir nos valores dos atributos gerados pelo `OneHotEncoder`."
   ]
  },
  {
   "cell_type": "code",
   "execution_count": 28,
   "metadata": {
    "executionInfo": {
     "elapsed": 601,
     "status": "ok",
     "timestamp": 1615853467956,
     "user": {
      "displayName": "LUCAS MARQUES",
      "photoUrl": "https://lh3.googleusercontent.com/a-/AOh14Gh00T7DfV6a1bJ5srABNyobGkUK0lvOe0L_ogf3=s64",
      "userId": "04634687850896258389"
     },
     "user_tz": 180
    },
    "id": "_P2cqCViOUUq"
   },
   "outputs": [],
   "source": [
    "from sklearn.preprocessing import MinMaxScaler, StandardScaler\n",
    "\n",
    "scaler_X = MinMaxScaler()\n",
    "prev = scaler_X.fit_transform(prev)"
   ]
  },
  {
   "cell_type": "markdown",
   "metadata": {
    "id": "SAPfmqekQo4d"
   },
   "source": [
    "### Separação da Base de Dados\n",
    "\n",
    "Vamos agora dividir a nossa base de dados em validação, teste e treinamento. Para isso, vamos utilizar a função do `sklearn` que irá nos garantir que a base de dados ficará com a mesma proporção de acordo com um atributo que nós iremos definir. Para esse caso específico, vamos escolher \"Rooms\", que segundo o mapa de calor, possui a maior correlação com o \"Price\"."
   ]
  },
  {
   "cell_type": "code",
   "execution_count": 29,
   "metadata": {
    "executionInfo": {
     "elapsed": 507,
     "status": "ok",
     "timestamp": 1615853469203,
     "user": {
      "displayName": "LUCAS MARQUES",
      "photoUrl": "https://lh3.googleusercontent.com/a-/AOh14Gh00T7DfV6a1bJ5srABNyobGkUK0lvOe0L_ogf3=s64",
      "userId": "04634687850896258389"
     },
     "user_tz": 180
    },
    "id": "5vDyhCCpQgbf"
   },
   "outputs": [],
   "source": [
    "from sklearn.model_selection import train_test_split\n",
    "\n",
    "#Base de treino e teste+valid\n",
    "train_x, test_valid_x, train_y, test_valid_y = train_test_split(prev, classe, test_size=0.1, random_state=0, stratify=prev[:, 0])\n",
    "\n",
    "#Base de teste e validação\n",
    "test_x, valid_x, test_y, valid_y = train_test_split(test_valid_x, test_valid_y, test_size=0.5, random_state=0, stratify=test_valid_x[:, 0])"
   ]
  },
  {
   "cell_type": "code",
   "execution_count": 30,
   "metadata": {},
   "outputs": [
    {
     "data": {
      "text/plain": [
       "336"
      ]
     },
     "execution_count": 30,
     "metadata": {},
     "output_type": "execute_result"
    }
   ],
   "source": [
    "len(test_x[0])"
   ]
  },
  {
   "cell_type": "markdown",
   "metadata": {
    "id": "lLjoRPlfYOUX"
   },
   "source": [
    "# Criando o modelo"
   ]
  },
  {
   "cell_type": "markdown",
   "metadata": {
    "id": "OahmnTw_a4JO"
   },
   "source": [
    "## Criação do primeiro modelo"
   ]
  },
  {
   "cell_type": "markdown",
   "metadata": {
    "id": "xCf5pE2-a97n"
   },
   "source": [
    "A fim de resolver esse nosso problema, iremos utilizar um modelo de Machine Learning conhecido como MLP, ou MultiLayers Perceptron, que tenta reproduzir as conexões nervosas de um cérebro humano por meio de uma modelo matemático e um sistema complexos de conexões densas entre neurônios de camadas subjacentes,\n",
    "\n",
    "Para explorar a complexidade desse nosso problema, vamos criar três modelos de MLP de formas totalmente distintas, tentando aumentar cada vez mais a acurácia do modelo e diminuir a sua perda.\n",
    "\n",
    "Dessa forma, vamos começar com um modelo super simples com apenas uma camada oculta e 20 neurônios."
   ]
  },
  {
   "cell_type": "code",
   "execution_count": 31,
   "metadata": {
    "executionInfo": {
     "elapsed": 6897,
     "status": "ok",
     "timestamp": 1615853478584,
     "user": {
      "displayName": "LUCAS MARQUES",
      "photoUrl": "https://lh3.googleusercontent.com/a-/AOh14Gh00T7DfV6a1bJ5srABNyobGkUK0lvOe0L_ogf3=s64",
      "userId": "04634687850896258389"
     },
     "user_tz": 180
    },
    "id": "MBd-yExSRqP4"
   },
   "outputs": [],
   "source": [
    "#import tensorflow as tf\n",
    "from keras.models import Sequential\n",
    "from keras.layers import Dense\n",
    "#model_first = tf.keras.models.Sequential()\n",
    "model_first = Sequential()"
   ]
  },
  {
   "cell_type": "markdown",
   "metadata": {
    "id": "a7lMeMw6b6l-"
   },
   "source": [
    "Como se trata de um problema de regressão, nossa rede neural precisa ter apenas um neurônio na camada de saída, uma vez que o valor que estiver nesse neurônio corresponde a predição do preço da casa."
   ]
  },
  {
   "cell_type": "code",
   "execution_count": 32,
   "metadata": {
    "executionInfo": {
     "elapsed": 5001,
     "status": "ok",
     "timestamp": 1615853478585,
     "user": {
      "displayName": "LUCAS MARQUES",
      "photoUrl": "https://lh3.googleusercontent.com/a-/AOh14Gh00T7DfV6a1bJ5srABNyobGkUK0lvOe0L_ogf3=s64",
      "userId": "04634687850896258389"
     },
     "user_tz": 180
    },
    "id": "wtxGxVN_YS20"
   },
   "outputs": [],
   "source": [
    "from keras.layers import Dense,Dropout\n",
    "from keras.optimizers import SGD\n",
    "\n",
    "model_first.add(Dense(20, activation='relu', kernel_initializer='he_uniform',input_dim = 336))\n",
    "model_first.add(Dense(1, activation='relu'))"
   ]
  },
  {
   "cell_type": "markdown",
   "metadata": {
    "id": "EemUwxP7Y3AV"
   },
   "source": [
    "## Compilando o primeiro modelo"
   ]
  },
  {
   "cell_type": "markdown",
   "metadata": {
    "id": "t_-1-3lRb-bn"
   },
   "source": [
    "Como primeiro otimizador, iremos utilizar a Descida do Gradiente Estocástico, ou SGD como é mais conhecido. Nele, iremos usar a taxa de aprendizagem de 0.01 e um momento de 0.9 para acelerar a aprendizagem e diminuir as chances da nossa rede cair em uma \"vala\" onde o valor do gradiente é mínimo apenas localmente (a ideia é buscarmos o valor mínimo global).\n",
    "\n",
    "Como métricas desse nosso modelo estaremos utilizando a função perda como Média do Erro Absolute em Porcentagem (MAPE) e a acurácia será o Erro Médio Absoluto (MAE). O que queremos é que ambos os valores sejam os menores possíveis."
   ]
  },
  {
   "cell_type": "code",
   "execution_count": 33,
   "metadata": {
    "executionInfo": {
     "elapsed": 2544,
     "status": "ok",
     "timestamp": 1615853478586,
     "user": {
      "displayName": "LUCAS MARQUES",
      "photoUrl": "https://lh3.googleusercontent.com/a-/AOh14Gh00T7DfV6a1bJ5srABNyobGkUK0lvOe0L_ogf3=s64",
      "userId": "04634687850896258389"
     },
     "user_tz": 180
    },
    "id": "eO4xxzCBYRTe"
   },
   "outputs": [],
   "source": [
    "#opt = SGD(learning_rate=0.001, momentum=0.9)\n",
    "model_first.compile(loss='mape', optimizer='adam', metrics=['mae'])"
   ]
  },
  {
   "cell_type": "markdown",
   "metadata": {
    "id": "Lyne1sataLqK"
   },
   "source": [
    "## Treinando o primeiro modelo"
   ]
  },
  {
   "cell_type": "markdown",
   "metadata": {
    "id": "fH8-YY3Ccp_O"
   },
   "source": [
    "Inicialmente, vamos treinar o nosso modelo em 200 épocas, utilizando os nossos dados de treino separados na seção anterior. Além disso, vamos definir o batch_size como o tamanho do próprio `train_x`, ou seja, Batch Gradient Decent."
   ]
  },
  {
   "cell_type": "code",
   "execution_count": 34,
   "metadata": {
    "colab": {
     "base_uri": "https://localhost:8080/"
    },
    "executionInfo": {
     "elapsed": 9323,
     "status": "ok",
     "timestamp": 1615853611769,
     "user": {
      "displayName": "LUCAS MARQUES",
      "photoUrl": "https://lh3.googleusercontent.com/a-/AOh14Gh00T7DfV6a1bJ5srABNyobGkUK0lvOe0L_ogf3=s64",
      "userId": "04634687850896258389"
     },
     "user_tz": 180
    },
    "id": "ErO_rrkgaLZ6",
    "outputId": "8eccce43-36fb-4e9a-c364-36c80443f9a7"
   },
   "outputs": [
    {
     "name": "stdout",
     "output_type": "stream",
     "text": [
      "Epoch 1/200\n",
      "1/1 [==============================] - 2s 2s/step - loss: 100.0000 - mae: 1080161.6250 - val_loss: 100.0000 - val_mae: 1095906.5000\n",
      "Epoch 2/200\n",
      "1/1 [==============================] - 0s 63ms/step - loss: 100.0000 - mae: 1080161.6250 - val_loss: 100.0000 - val_mae: 1095906.5000\n",
      "Epoch 3/200\n",
      "1/1 [==============================] - 0s 69ms/step - loss: 100.0000 - mae: 1080161.6250 - val_loss: 100.0000 - val_mae: 1095906.5000\n",
      "Epoch 4/200\n",
      "1/1 [==============================] - 0s 68ms/step - loss: 100.0000 - mae: 1080161.6250 - val_loss: 100.0000 - val_mae: 1095906.5000\n",
      "Epoch 5/200\n",
      "1/1 [==============================] - 0s 52ms/step - loss: 100.0000 - mae: 1080161.6250 - val_loss: 100.0000 - val_mae: 1095906.5000\n",
      "Epoch 6/200\n",
      "1/1 [==============================] - 0s 56ms/step - loss: 100.0000 - mae: 1080161.6250 - val_loss: 100.0000 - val_mae: 1095906.5000\n",
      "Epoch 7/200\n",
      "1/1 [==============================] - 0s 57ms/step - loss: 100.0000 - mae: 1080161.3750 - val_loss: 100.0000 - val_mae: 1095906.3750\n",
      "Epoch 8/200\n",
      "1/1 [==============================] - 0s 54ms/step - loss: 100.0000 - mae: 1080161.5000 - val_loss: 100.0000 - val_mae: 1095906.3750\n",
      "Epoch 9/200\n",
      "1/1 [==============================] - 0s 58ms/step - loss: 100.0000 - mae: 1080161.6250 - val_loss: 100.0000 - val_mae: 1095906.3750\n",
      "Epoch 10/200\n",
      "1/1 [==============================] - 0s 55ms/step - loss: 100.0000 - mae: 1080161.3750 - val_loss: 100.0000 - val_mae: 1095906.3750\n",
      "Epoch 11/200\n",
      "1/1 [==============================] - 0s 56ms/step - loss: 100.0000 - mae: 1080161.3750 - val_loss: 100.0000 - val_mae: 1095906.3750\n",
      "Epoch 12/200\n",
      "1/1 [==============================] - 0s 53ms/step - loss: 100.0000 - mae: 1080161.3750 - val_loss: 100.0000 - val_mae: 1095906.3750\n",
      "Epoch 13/200\n",
      "1/1 [==============================] - 0s 54ms/step - loss: 100.0000 - mae: 1080161.3750 - val_loss: 100.0000 - val_mae: 1095906.3750\n",
      "Epoch 14/200\n",
      "1/1 [==============================] - 0s 51ms/step - loss: 100.0000 - mae: 1080161.3750 - val_loss: 100.0000 - val_mae: 1095906.3750\n",
      "Epoch 15/200\n",
      "1/1 [==============================] - 0s 54ms/step - loss: 100.0000 - mae: 1080161.3750 - val_loss: 100.0000 - val_mae: 1095906.1250\n",
      "Epoch 16/200\n",
      "1/1 [==============================] - 0s 55ms/step - loss: 100.0000 - mae: 1080161.2500 - val_loss: 100.0000 - val_mae: 1095906.1250\n",
      "Epoch 17/200\n",
      "1/1 [==============================] - 0s 54ms/step - loss: 100.0000 - mae: 1080161.3750 - val_loss: 100.0000 - val_mae: 1095906.1250\n",
      "Epoch 18/200\n",
      "1/1 [==============================] - 0s 58ms/step - loss: 100.0000 - mae: 1080161.2500 - val_loss: 100.0000 - val_mae: 1095906.1250\n",
      "Epoch 19/200\n",
      "1/1 [==============================] - 0s 55ms/step - loss: 100.0000 - mae: 1080161.2500 - val_loss: 100.0000 - val_mae: 1095906.0000\n",
      "Epoch 20/200\n",
      "1/1 [==============================] - 0s 57ms/step - loss: 100.0000 - mae: 1080161.2500 - val_loss: 99.9999 - val_mae: 1095906.0000\n",
      "Epoch 21/200\n",
      "1/1 [==============================] - 0s 56ms/step - loss: 100.0000 - mae: 1080161.2500 - val_loss: 99.9999 - val_mae: 1095906.0000\n",
      "Epoch 22/200\n",
      "1/1 [==============================] - 0s 57ms/step - loss: 100.0000 - mae: 1080161.1250 - val_loss: 99.9999 - val_mae: 1095905.8750\n",
      "Epoch 23/200\n",
      "1/1 [==============================] - 0s 56ms/step - loss: 99.9999 - mae: 1080161.0000 - val_loss: 99.9999 - val_mae: 1095905.8750\n",
      "Epoch 24/200\n",
      "1/1 [==============================] - 0s 54ms/step - loss: 99.9999 - mae: 1080161.0000 - val_loss: 99.9999 - val_mae: 1095905.8750\n",
      "Epoch 25/200\n",
      "1/1 [==============================] - 0s 54ms/step - loss: 99.9999 - mae: 1080161.0000 - val_loss: 99.9999 - val_mae: 1095905.7500\n",
      "Epoch 26/200\n",
      "1/1 [==============================] - 0s 56ms/step - loss: 99.9999 - mae: 1080161.0000 - val_loss: 99.9999 - val_mae: 1095905.7500\n",
      "Epoch 27/200\n",
      "1/1 [==============================] - 0s 55ms/step - loss: 99.9999 - mae: 1080161.0000 - val_loss: 99.9999 - val_mae: 1095905.7500\n",
      "Epoch 28/200\n",
      "1/1 [==============================] - 0s 53ms/step - loss: 99.9999 - mae: 1080161.0000 - val_loss: 99.9999 - val_mae: 1095905.7500\n",
      "Epoch 29/200\n",
      "1/1 [==============================] - 0s 56ms/step - loss: 99.9999 - mae: 1080160.8750 - val_loss: 99.9999 - val_mae: 1095905.7500\n",
      "Epoch 30/200\n",
      "1/1 [==============================] - 0s 54ms/step - loss: 99.9999 - mae: 1080161.0000 - val_loss: 99.9999 - val_mae: 1095905.7500\n",
      "Epoch 31/200\n",
      "1/1 [==============================] - 0s 53ms/step - loss: 99.9999 - mae: 1080160.8750 - val_loss: 99.9999 - val_mae: 1095905.7500\n",
      "Epoch 32/200\n",
      "1/1 [==============================] - 0s 52ms/step - loss: 99.9999 - mae: 1080160.7500 - val_loss: 99.9999 - val_mae: 1095905.7500\n",
      "Epoch 33/200\n",
      "1/1 [==============================] - 0s 55ms/step - loss: 99.9999 - mae: 1080160.7500 - val_loss: 99.9999 - val_mae: 1095905.7500\n",
      "Epoch 34/200\n",
      "1/1 [==============================] - 0s 52ms/step - loss: 99.9999 - mae: 1080160.8750 - val_loss: 99.9999 - val_mae: 1095905.7500\n",
      "Epoch 35/200\n",
      "1/1 [==============================] - 0s 52ms/step - loss: 99.9999 - mae: 1080160.7500 - val_loss: 99.9999 - val_mae: 1095905.7500\n",
      "Epoch 36/200\n",
      "1/1 [==============================] - 0s 54ms/step - loss: 99.9999 - mae: 1080160.7500 - val_loss: 99.9999 - val_mae: 1095905.7500\n",
      "Epoch 37/200\n",
      "1/1 [==============================] - 0s 62ms/step - loss: 99.9999 - mae: 1080160.7500 - val_loss: 99.9999 - val_mae: 1095905.6250\n",
      "Epoch 38/200\n",
      "1/1 [==============================] - 0s 55ms/step - loss: 99.9999 - mae: 1080160.6250 - val_loss: 99.9999 - val_mae: 1095905.5000\n",
      "Epoch 39/200\n",
      "1/1 [==============================] - 0s 58ms/step - loss: 99.9999 - mae: 1080160.6250 - val_loss: 99.9999 - val_mae: 1095905.5000\n",
      "Epoch 40/200\n",
      "1/1 [==============================] - 0s 52ms/step - loss: 99.9999 - mae: 1080160.6250 - val_loss: 99.9999 - val_mae: 1095905.5000\n",
      "Epoch 41/200\n",
      "1/1 [==============================] - 0s 55ms/step - loss: 99.9999 - mae: 1080160.5000 - val_loss: 99.9999 - val_mae: 1095905.5000\n",
      "Epoch 42/200\n",
      "1/1 [==============================] - 0s 54ms/step - loss: 99.9999 - mae: 1080160.5000 - val_loss: 99.9999 - val_mae: 1095905.5000\n",
      "Epoch 43/200\n",
      "1/1 [==============================] - 0s 57ms/step - loss: 99.9999 - mae: 1080160.5000 - val_loss: 99.9999 - val_mae: 1095905.5000\n",
      "Epoch 44/200\n",
      "1/1 [==============================] - 0s 54ms/step - loss: 99.9999 - mae: 1080160.5000 - val_loss: 99.9999 - val_mae: 1095905.5000\n",
      "Epoch 45/200\n",
      "1/1 [==============================] - 0s 54ms/step - loss: 99.9999 - mae: 1080160.5000 - val_loss: 99.9999 - val_mae: 1095905.3750\n",
      "Epoch 46/200\n",
      "1/1 [==============================] - 0s 56ms/step - loss: 99.9999 - mae: 1080160.5000 - val_loss: 99.9999 - val_mae: 1095905.2500\n",
      "Epoch 47/200\n",
      "1/1 [==============================] - 0s 55ms/step - loss: 99.9999 - mae: 1080160.2500 - val_loss: 99.9998 - val_mae: 1095905.2500\n",
      "Epoch 48/200\n",
      "1/1 [==============================] - 0s 55ms/step - loss: 99.9998 - mae: 1080160.2500 - val_loss: 99.9998 - val_mae: 1095905.2500\n",
      "Epoch 49/200\n",
      "1/1 [==============================] - 0s 55ms/step - loss: 99.9998 - mae: 1080160.2500 - val_loss: 99.9998 - val_mae: 1095905.2500\n",
      "Epoch 50/200\n",
      "1/1 [==============================] - 0s 57ms/step - loss: 99.9998 - mae: 1080160.2500 - val_loss: 99.9998 - val_mae: 1095905.2500\n",
      "Epoch 51/200\n",
      "1/1 [==============================] - 0s 55ms/step - loss: 99.9998 - mae: 1080160.2500 - val_loss: 99.9998 - val_mae: 1095905.0000\n",
      "Epoch 52/200\n",
      "1/1 [==============================] - 0s 55ms/step - loss: 99.9998 - mae: 1080160.2500 - val_loss: 99.9998 - val_mae: 1095905.0000\n",
      "Epoch 53/200\n",
      "1/1 [==============================] - 0s 56ms/step - loss: 99.9998 - mae: 1080160.1250 - val_loss: 99.9998 - val_mae: 1095905.0000\n",
      "Epoch 54/200\n",
      "1/1 [==============================] - 0s 55ms/step - loss: 99.9998 - mae: 1080160.1250 - val_loss: 99.9998 - val_mae: 1095905.0000\n",
      "Epoch 55/200\n",
      "1/1 [==============================] - 0s 56ms/step - loss: 99.9998 - mae: 1080160.1250 - val_loss: 99.9998 - val_mae: 1095905.0000\n",
      "Epoch 56/200\n",
      "1/1 [==============================] - 0s 57ms/step - loss: 99.9998 - mae: 1080160.1250 - val_loss: 99.9998 - val_mae: 1095904.8750\n",
      "Epoch 57/200\n",
      "1/1 [==============================] - 0s 59ms/step - loss: 99.9998 - mae: 1080160.0000 - val_loss: 99.9998 - val_mae: 1095904.7500\n",
      "Epoch 58/200\n",
      "1/1 [==============================] - 0s 58ms/step - loss: 99.9998 - mae: 1080160.0000 - val_loss: 99.9998 - val_mae: 1095904.7500\n",
      "Epoch 59/200\n",
      "1/1 [==============================] - 0s 60ms/step - loss: 99.9998 - mae: 1080160.0000 - val_loss: 99.9998 - val_mae: 1095904.7500\n",
      "Epoch 60/200\n",
      "1/1 [==============================] - 0s 56ms/step - loss: 99.9998 - mae: 1080159.8750 - val_loss: 99.9998 - val_mae: 1095904.7500\n",
      "Epoch 61/200\n",
      "1/1 [==============================] - 0s 54ms/step - loss: 99.9998 - mae: 1080159.8750 - val_loss: 99.9998 - val_mae: 1095904.7500\n",
      "Epoch 62/200\n",
      "1/1 [==============================] - 0s 72ms/step - loss: 99.9998 - mae: 1080159.7500 - val_loss: 99.9998 - val_mae: 1095904.6250\n",
      "Epoch 63/200\n",
      "1/1 [==============================] - 0s 52ms/step - loss: 99.9998 - mae: 1080159.7500 - val_loss: 99.9998 - val_mae: 1095904.6250\n",
      "Epoch 64/200\n",
      "1/1 [==============================] - 0s 52ms/step - loss: 99.9998 - mae: 1080159.7500 - val_loss: 99.9998 - val_mae: 1095904.6250\n",
      "Epoch 65/200\n",
      "1/1 [==============================] - 0s 60ms/step - loss: 99.9998 - mae: 1080159.7500 - val_loss: 99.9998 - val_mae: 1095904.5000\n",
      "Epoch 66/200\n",
      "1/1 [==============================] - 0s 63ms/step - loss: 99.9998 - mae: 1080159.7500 - val_loss: 99.9998 - val_mae: 1095904.5000\n",
      "Epoch 67/200\n",
      "1/1 [==============================] - 0s 62ms/step - loss: 99.9998 - mae: 1080159.5000 - val_loss: 99.9998 - val_mae: 1095904.5000\n",
      "Epoch 68/200\n",
      "1/1 [==============================] - 0s 55ms/step - loss: 99.9998 - mae: 1080159.5000 - val_loss: 99.9998 - val_mae: 1095904.5000\n",
      "Epoch 69/200\n",
      "1/1 [==============================] - 0s 56ms/step - loss: 99.9997 - mae: 1080159.5000 - val_loss: 99.9997 - val_mae: 1095904.3750\n",
      "Epoch 70/200\n",
      "1/1 [==============================] - 0s 63ms/step - loss: 99.9997 - mae: 1080159.5000 - val_loss: 99.9997 - val_mae: 1095904.3750\n",
      "Epoch 71/200\n",
      "1/1 [==============================] - 0s 58ms/step - loss: 99.9997 - mae: 1080159.5000 - val_loss: 99.9997 - val_mae: 1095904.3750\n",
      "Epoch 72/200\n",
      "1/1 [==============================] - 0s 55ms/step - loss: 99.9997 - mae: 1080159.3750 - val_loss: 99.9997 - val_mae: 1095904.3750\n",
      "Epoch 73/200\n",
      "1/1 [==============================] - 0s 58ms/step - loss: 99.9997 - mae: 1080159.3750 - val_loss: 99.9997 - val_mae: 1095904.3750\n",
      "Epoch 74/200\n",
      "1/1 [==============================] - 0s 55ms/step - loss: 99.9997 - mae: 1080159.3750 - val_loss: 99.9997 - val_mae: 1095904.0000\n",
      "Epoch 75/200\n",
      "1/1 [==============================] - 0s 59ms/step - loss: 99.9997 - mae: 1080159.3750 - val_loss: 99.9997 - val_mae: 1095904.0000\n",
      "Epoch 76/200\n",
      "1/1 [==============================] - 0s 57ms/step - loss: 99.9997 - mae: 1080159.1250 - val_loss: 99.9997 - val_mae: 1095904.0000\n",
      "Epoch 77/200\n",
      "1/1 [==============================] - 0s 58ms/step - loss: 99.9997 - mae: 1080159.1250 - val_loss: 99.9997 - val_mae: 1095904.0000\n",
      "Epoch 78/200\n",
      "1/1 [==============================] - 0s 59ms/step - loss: 99.9997 - mae: 1080159.0000 - val_loss: 99.9997 - val_mae: 1095903.8750\n",
      "Epoch 79/200\n",
      "1/1 [==============================] - 0s 60ms/step - loss: 99.9997 - mae: 1080159.0000 - val_loss: 99.9997 - val_mae: 1095903.8750\n",
      "Epoch 80/200\n",
      "1/1 [==============================] - 0s 57ms/step - loss: 99.9997 - mae: 1080159.0000 - val_loss: 99.9997 - val_mae: 1095903.7500\n",
      "Epoch 81/200\n",
      "1/1 [==============================] - 0s 50ms/step - loss: 99.9997 - mae: 1080159.0000 - val_loss: 99.9997 - val_mae: 1095903.7500\n",
      "Epoch 82/200\n",
      "1/1 [==============================] - 0s 56ms/step - loss: 99.9997 - mae: 1080159.0000 - val_loss: 99.9997 - val_mae: 1095903.7500\n",
      "Epoch 83/200\n",
      "1/1 [==============================] - 0s 51ms/step - loss: 99.9997 - mae: 1080158.8750 - val_loss: 99.9997 - val_mae: 1095903.6250\n",
      "Epoch 84/200\n",
      "1/1 [==============================] - 0s 58ms/step - loss: 99.9997 - mae: 1080158.7500 - val_loss: 99.9997 - val_mae: 1095903.6250\n",
      "Epoch 85/200\n",
      "1/1 [==============================] - 0s 55ms/step - loss: 99.9997 - mae: 1080158.8750 - val_loss: 99.9997 - val_mae: 1095903.6250\n",
      "Epoch 86/200\n",
      "1/1 [==============================] - 0s 56ms/step - loss: 99.9997 - mae: 1080158.7500 - val_loss: 99.9997 - val_mae: 1095903.6250\n",
      "Epoch 87/200\n",
      "1/1 [==============================] - 0s 66ms/step - loss: 99.9997 - mae: 1080158.7500 - val_loss: 99.9996 - val_mae: 1095903.6250\n",
      "Epoch 88/200\n",
      "1/1 [==============================] - 0s 67ms/step - loss: 99.9997 - mae: 1080158.6250 - val_loss: 99.9996 - val_mae: 1095903.5000\n",
      "Epoch 89/200\n",
      "1/1 [==============================] - 0s 59ms/step - loss: 99.9996 - mae: 1080158.6250 - val_loss: 99.9996 - val_mae: 1095903.5000\n",
      "Epoch 90/200\n",
      "1/1 [==============================] - 0s 66ms/step - loss: 99.9996 - mae: 1080158.5000 - val_loss: 99.9996 - val_mae: 1095903.5000\n",
      "Epoch 91/200\n",
      "1/1 [==============================] - 0s 52ms/step - loss: 99.9996 - mae: 1080158.6250 - val_loss: 99.9996 - val_mae: 1095903.3750\n",
      "Epoch 92/200\n",
      "1/1 [==============================] - 0s 79ms/step - loss: 99.9996 - mae: 1080158.3750 - val_loss: 99.9996 - val_mae: 1095903.3750\n",
      "Epoch 93/200\n",
      "1/1 [==============================] - 0s 75ms/step - loss: 99.9996 - mae: 1080158.3750 - val_loss: 99.9996 - val_mae: 1095903.3750\n",
      "Epoch 94/200\n",
      "1/1 [==============================] - 0s 84ms/step - loss: 99.9996 - mae: 1080158.2500 - val_loss: 99.9996 - val_mae: 1095903.2500\n",
      "Epoch 95/200\n",
      "1/1 [==============================] - 0s 81ms/step - loss: 99.9996 - mae: 1080158.2500 - val_loss: 99.9996 - val_mae: 1095903.1250\n",
      "Epoch 96/200\n",
      "1/1 [==============================] - 0s 89ms/step - loss: 99.9996 - mae: 1080158.2500 - val_loss: 99.9996 - val_mae: 1095903.1250\n",
      "Epoch 97/200\n",
      "1/1 [==============================] - 0s 83ms/step - loss: 99.9996 - mae: 1080158.2500 - val_loss: 99.9996 - val_mae: 1095903.0000\n",
      "Epoch 98/200\n",
      "1/1 [==============================] - 0s 75ms/step - loss: 99.9996 - mae: 1080158.2500 - val_loss: 99.9996 - val_mae: 1095903.0000\n",
      "Epoch 99/200\n",
      "1/1 [==============================] - 0s 66ms/step - loss: 99.9996 - mae: 1080158.1250 - val_loss: 99.9996 - val_mae: 1095903.0000\n",
      "Epoch 100/200\n",
      "1/1 [==============================] - 0s 82ms/step - loss: 99.9996 - mae: 1080158.0000 - val_loss: 99.9996 - val_mae: 1095902.8750\n",
      "Epoch 101/200\n",
      "1/1 [==============================] - 0s 57ms/step - loss: 99.9996 - mae: 1080158.0000 - val_loss: 99.9996 - val_mae: 1095902.8750\n",
      "Epoch 102/200\n",
      "1/1 [==============================] - 0s 70ms/step - loss: 99.9996 - mae: 1080158.0000 - val_loss: 99.9996 - val_mae: 1095902.7500\n",
      "Epoch 103/200\n",
      "1/1 [==============================] - 0s 51ms/step - loss: 99.9995 - mae: 1080157.8750 - val_loss: 99.9995 - val_mae: 1095902.7500\n",
      "Epoch 104/200\n",
      "1/1 [==============================] - 0s 66ms/step - loss: 99.9995 - mae: 1080157.8750 - val_loss: 99.9995 - val_mae: 1095902.6250\n",
      "Epoch 105/200\n",
      "1/1 [==============================] - 0s 53ms/step - loss: 99.9995 - mae: 1080157.8750 - val_loss: 99.9995 - val_mae: 1095902.6250\n",
      "Epoch 106/200\n",
      "1/1 [==============================] - 0s 56ms/step - loss: 99.9995 - mae: 1080157.6250 - val_loss: 99.9995 - val_mae: 1095902.5000\n",
      "Epoch 107/200\n",
      "1/1 [==============================] - 0s 52ms/step - loss: 99.9995 - mae: 1080157.6250 - val_loss: 99.9995 - val_mae: 1095902.5000\n",
      "Epoch 108/200\n",
      "1/1 [==============================] - 0s 52ms/step - loss: 99.9995 - mae: 1080157.5000 - val_loss: 99.9995 - val_mae: 1095902.5000\n",
      "Epoch 109/200\n",
      "1/1 [==============================] - 0s 54ms/step - loss: 99.9995 - mae: 1080157.5000 - val_loss: 99.9995 - val_mae: 1095902.5000\n",
      "Epoch 110/200\n",
      "1/1 [==============================] - 0s 56ms/step - loss: 99.9995 - mae: 1080157.5000 - val_loss: 99.9995 - val_mae: 1095902.2500\n",
      "Epoch 111/200\n",
      "1/1 [==============================] - 0s 56ms/step - loss: 99.9995 - mae: 1080157.5000 - val_loss: 99.9995 - val_mae: 1095902.2500\n",
      "Epoch 112/200\n",
      "1/1 [==============================] - 0s 54ms/step - loss: 99.9995 - mae: 1080157.5000 - val_loss: 99.9995 - val_mae: 1095902.2500\n",
      "Epoch 113/200\n"
     ]
    },
    {
     "name": "stdout",
     "output_type": "stream",
     "text": [
      "1/1 [==============================] - 0s 57ms/step - loss: 99.9995 - mae: 1080157.2500 - val_loss: 99.9995 - val_mae: 1095902.1250\n",
      "Epoch 114/200\n",
      "1/1 [==============================] - 0s 63ms/step - loss: 99.9995 - mae: 1080157.2500 - val_loss: 99.9995 - val_mae: 1095902.1250\n",
      "Epoch 115/200\n",
      "1/1 [==============================] - 0s 64ms/step - loss: 99.9995 - mae: 1080157.2500 - val_loss: 99.9995 - val_mae: 1095902.0000\n",
      "Epoch 116/200\n",
      "1/1 [==============================] - 0s 58ms/step - loss: 99.9995 - mae: 1080157.1250 - val_loss: 99.9995 - val_mae: 1095901.8750\n",
      "Epoch 117/200\n",
      "1/1 [==============================] - 0s 75ms/step - loss: 99.9995 - mae: 1080157.1250 - val_loss: 99.9995 - val_mae: 1095901.8750\n",
      "Epoch 118/200\n",
      "1/1 [==============================] - 0s 68ms/step - loss: 99.9994 - mae: 1080157.0000 - val_loss: 99.9994 - val_mae: 1095901.7500\n",
      "Epoch 119/200\n",
      "1/1 [==============================] - 0s 66ms/step - loss: 99.9994 - mae: 1080156.8750 - val_loss: 99.9994 - val_mae: 1095901.7500\n",
      "Epoch 120/200\n",
      "1/1 [==============================] - 0s 57ms/step - loss: 99.9994 - mae: 1080156.8750 - val_loss: 99.9994 - val_mae: 1095901.6250\n",
      "Epoch 121/200\n",
      "1/1 [==============================] - 0s 60ms/step - loss: 99.9994 - mae: 1080156.8750 - val_loss: 99.9994 - val_mae: 1095901.6250\n",
      "Epoch 122/200\n",
      "1/1 [==============================] - 0s 53ms/step - loss: 99.9994 - mae: 1080156.7500 - val_loss: 99.9994 - val_mae: 1095901.6250\n",
      "Epoch 123/200\n",
      "1/1 [==============================] - 0s 64ms/step - loss: 99.9994 - mae: 1080156.7500 - val_loss: 99.9994 - val_mae: 1095901.6250\n",
      "Epoch 124/200\n",
      "1/1 [==============================] - 0s 71ms/step - loss: 99.9994 - mae: 1080156.6250 - val_loss: 99.9994 - val_mae: 1095901.6250\n",
      "Epoch 125/200\n",
      "1/1 [==============================] - 0s 64ms/step - loss: 99.9994 - mae: 1080156.5000 - val_loss: 99.9994 - val_mae: 1095901.5000\n",
      "Epoch 126/200\n",
      "1/1 [==============================] - 0s 66ms/step - loss: 99.9994 - mae: 1080156.3750 - val_loss: 99.9994 - val_mae: 1095901.5000\n",
      "Epoch 127/200\n",
      "1/1 [==============================] - 0s 53ms/step - loss: 99.9994 - mae: 1080156.3750 - val_loss: 99.9994 - val_mae: 1095901.3750\n",
      "Epoch 128/200\n",
      "1/1 [==============================] - 0s 54ms/step - loss: 99.9994 - mae: 1080156.3750 - val_loss: 99.9994 - val_mae: 1095901.3750\n",
      "Epoch 129/200\n",
      "1/1 [==============================] - 0s 72ms/step - loss: 99.9994 - mae: 1080156.3750 - val_loss: 99.9994 - val_mae: 1095901.2500\n",
      "Epoch 130/200\n",
      "1/1 [==============================] - 0s 55ms/step - loss: 99.9994 - mae: 1080156.3750 - val_loss: 99.9994 - val_mae: 1095901.0000\n",
      "Epoch 131/200\n",
      "1/1 [==============================] - 0s 57ms/step - loss: 99.9993 - mae: 1080156.1250 - val_loss: 99.9993 - val_mae: 1095900.8750\n",
      "Epoch 132/200\n",
      "1/1 [==============================] - 0s 60ms/step - loss: 99.9993 - mae: 1080156.0000 - val_loss: 99.9993 - val_mae: 1095900.8750\n",
      "Epoch 133/200\n",
      "1/1 [==============================] - 0s 62ms/step - loss: 99.9993 - mae: 1080156.0000 - val_loss: 99.9993 - val_mae: 1095900.8750\n",
      "Epoch 134/200\n",
      "1/1 [==============================] - 0s 62ms/step - loss: 99.9993 - mae: 1080156.0000 - val_loss: 99.9993 - val_mae: 1095900.7500\n",
      "Epoch 135/200\n",
      "1/1 [==============================] - 0s 57ms/step - loss: 99.9993 - mae: 1080156.0000 - val_loss: 99.9993 - val_mae: 1095900.7500\n",
      "Epoch 136/200\n",
      "1/1 [==============================] - 0s 62ms/step - loss: 99.9993 - mae: 1080155.8750 - val_loss: 99.9993 - val_mae: 1095900.7500\n",
      "Epoch 137/200\n",
      "1/1 [==============================] - 0s 66ms/step - loss: 99.9993 - mae: 1080155.7500 - val_loss: 99.9993 - val_mae: 1095900.6250\n",
      "Epoch 138/200\n",
      "1/1 [==============================] - 0s 56ms/step - loss: 99.9993 - mae: 1080155.7500 - val_loss: 99.9993 - val_mae: 1095900.5000\n",
      "Epoch 139/200\n",
      "1/1 [==============================] - 0s 71ms/step - loss: 99.9993 - mae: 1080155.6250 - val_loss: 99.9993 - val_mae: 1095900.3750\n",
      "Epoch 140/200\n",
      "1/1 [==============================] - 0s 60ms/step - loss: 99.9993 - mae: 1080155.6250 - val_loss: 99.9993 - val_mae: 1095900.3750\n",
      "Epoch 141/200\n",
      "1/1 [==============================] - 0s 54ms/step - loss: 99.9993 - mae: 1080155.6250 - val_loss: 99.9993 - val_mae: 1095900.2500\n",
      "Epoch 142/200\n",
      "1/1 [==============================] - 0s 52ms/step - loss: 99.9992 - mae: 1080155.3750 - val_loss: 99.9993 - val_mae: 1095900.2500\n",
      "Epoch 143/200\n",
      "1/1 [==============================] - 0s 54ms/step - loss: 99.9992 - mae: 1080155.3750 - val_loss: 99.9992 - val_mae: 1095900.1250\n",
      "Epoch 144/200\n",
      "1/1 [==============================] - 0s 57ms/step - loss: 99.9992 - mae: 1080155.3750 - val_loss: 99.9992 - val_mae: 1095900.0000\n",
      "Epoch 145/200\n",
      "1/1 [==============================] - 0s 59ms/step - loss: 99.9992 - mae: 1080155.2500 - val_loss: 99.9992 - val_mae: 1095900.0000\n",
      "Epoch 146/200\n",
      "1/1 [==============================] - 0s 55ms/step - loss: 99.9992 - mae: 1080155.2500 - val_loss: 99.9992 - val_mae: 1095899.8750\n",
      "Epoch 147/200\n",
      "1/1 [==============================] - 0s 67ms/step - loss: 99.9992 - mae: 1080155.1250 - val_loss: 99.9992 - val_mae: 1095899.8750\n",
      "Epoch 148/200\n",
      "1/1 [==============================] - 0s 58ms/step - loss: 99.9992 - mae: 1080155.0000 - val_loss: 99.9992 - val_mae: 1095899.7500\n",
      "Epoch 149/200\n",
      "1/1 [==============================] - 0s 55ms/step - loss: 99.9992 - mae: 1080155.0000 - val_loss: 99.9992 - val_mae: 1095899.7500\n",
      "Epoch 150/200\n",
      "1/1 [==============================] - 0s 55ms/step - loss: 99.9992 - mae: 1080154.8750 - val_loss: 99.9992 - val_mae: 1095899.6250\n",
      "Epoch 151/200\n",
      "1/1 [==============================] - 0s 56ms/step - loss: 99.9992 - mae: 1080154.8750 - val_loss: 99.9992 - val_mae: 1095899.6250\n",
      "Epoch 152/200\n",
      "1/1 [==============================] - 0s 53ms/step - loss: 99.9991 - mae: 1080154.6250 - val_loss: 99.9992 - val_mae: 1095899.6250\n",
      "Epoch 153/200\n",
      "1/1 [==============================] - 0s 54ms/step - loss: 99.9991 - mae: 1080154.6250 - val_loss: 99.9992 - val_mae: 1095899.3750\n",
      "Epoch 154/200\n",
      "1/1 [==============================] - 0s 58ms/step - loss: 99.9991 - mae: 1080154.5000 - val_loss: 99.9991 - val_mae: 1095899.3750\n",
      "Epoch 155/200\n",
      "1/1 [==============================] - 0s 54ms/step - loss: 99.9991 - mae: 1080154.3750 - val_loss: 99.9991 - val_mae: 1095899.3750\n",
      "Epoch 156/200\n",
      "1/1 [==============================] - 0s 55ms/step - loss: 99.9991 - mae: 1080154.3750 - val_loss: 99.9991 - val_mae: 1095899.3750\n",
      "Epoch 157/200\n",
      "1/1 [==============================] - 0s 57ms/step - loss: 99.9991 - mae: 1080154.3750 - val_loss: 99.9991 - val_mae: 1095899.1250\n",
      "Epoch 158/200\n",
      "1/1 [==============================] - 0s 85ms/step - loss: 99.9991 - mae: 1080154.2500 - val_loss: 99.9991 - val_mae: 1095899.1250\n",
      "Epoch 159/200\n",
      "1/1 [==============================] - 0s 73ms/step - loss: 99.9991 - mae: 1080154.1250 - val_loss: 99.9991 - val_mae: 1095898.8750\n",
      "Epoch 160/200\n",
      "1/1 [==============================] - 0s 85ms/step - loss: 99.9991 - mae: 1080154.1250 - val_loss: 99.9991 - val_mae: 1095898.8750\n",
      "Epoch 161/200\n",
      "1/1 [==============================] - 0s 82ms/step - loss: 99.9991 - mae: 1080154.0000 - val_loss: 99.9991 - val_mae: 1095898.7500\n",
      "Epoch 162/200\n",
      "1/1 [==============================] - 0s 85ms/step - loss: 99.9991 - mae: 1080154.0000 - val_loss: 99.9991 - val_mae: 1095898.7500\n",
      "Epoch 163/200\n",
      "1/1 [==============================] - 0s 89ms/step - loss: 99.9990 - mae: 1080153.8750 - val_loss: 99.9991 - val_mae: 1095898.7500\n",
      "Epoch 164/200\n",
      "1/1 [==============================] - 0s 78ms/step - loss: 99.9990 - mae: 1080153.6250 - val_loss: 99.9990 - val_mae: 1095898.6250\n",
      "Epoch 165/200\n",
      "1/1 [==============================] - 0s 84ms/step - loss: 99.9990 - mae: 1080153.6250 - val_loss: 99.9990 - val_mae: 1095898.5000\n",
      "Epoch 166/200\n",
      "1/1 [==============================] - 0s 83ms/step - loss: 99.9990 - mae: 1080153.6250 - val_loss: 99.9990 - val_mae: 1095898.5000\n",
      "Epoch 167/200\n",
      "1/1 [==============================] - 0s 54ms/step - loss: 99.9990 - mae: 1080153.5000 - val_loss: 99.9990 - val_mae: 1095898.3750\n",
      "Epoch 168/200\n",
      "1/1 [==============================] - 0s 56ms/step - loss: 99.9990 - mae: 1080153.2500 - val_loss: 99.9990 - val_mae: 1095898.2500\n",
      "Epoch 169/200\n",
      "1/1 [==============================] - 0s 53ms/step - loss: 99.9990 - mae: 1080153.2500 - val_loss: 99.9990 - val_mae: 1095898.1250\n",
      "Epoch 170/200\n",
      "1/1 [==============================] - 0s 55ms/step - loss: 99.9990 - mae: 1080153.2500 - val_loss: 99.9990 - val_mae: 1095898.1250\n",
      "Epoch 171/200\n",
      "1/1 [==============================] - 0s 55ms/step - loss: 99.9990 - mae: 1080153.2500 - val_loss: 99.9990 - val_mae: 1095898.0000\n",
      "Epoch 172/200\n",
      "1/1 [==============================] - 0s 58ms/step - loss: 99.9990 - mae: 1080153.1250 - val_loss: 99.9990 - val_mae: 1095898.0000\n",
      "Epoch 173/200\n",
      "1/1 [==============================] - 0s 55ms/step - loss: 99.9990 - mae: 1080153.0000 - val_loss: 99.9990 - val_mae: 1095897.7500\n",
      "Epoch 174/200\n",
      "1/1 [==============================] - 0s 50ms/step - loss: 99.9989 - mae: 1080152.8750 - val_loss: 99.9990 - val_mae: 1095897.7500\n",
      "Epoch 175/200\n",
      "1/1 [==============================] - 0s 55ms/step - loss: 99.9989 - mae: 1080152.8750 - val_loss: 99.9989 - val_mae: 1095897.6250\n",
      "Epoch 176/200\n",
      "1/1 [==============================] - 0s 56ms/step - loss: 99.9989 - mae: 1080152.7500 - val_loss: 99.9989 - val_mae: 1095897.6250\n",
      "Epoch 177/200\n",
      "1/1 [==============================] - 0s 56ms/step - loss: 99.9989 - mae: 1080152.6250 - val_loss: 99.9989 - val_mae: 1095897.3750\n",
      "Epoch 178/200\n",
      "1/1 [==============================] - 0s 55ms/step - loss: 99.9989 - mae: 1080152.5000 - val_loss: 99.9989 - val_mae: 1095897.3750\n",
      "Epoch 179/200\n",
      "1/1 [==============================] - 0s 53ms/step - loss: 99.9989 - mae: 1080152.5000 - val_loss: 99.9989 - val_mae: 1095897.3750\n",
      "Epoch 180/200\n",
      "1/1 [==============================] - 0s 54ms/step - loss: 99.9989 - mae: 1080152.3750 - val_loss: 99.9989 - val_mae: 1095897.2500\n",
      "Epoch 181/200\n",
      "1/1 [==============================] - 0s 55ms/step - loss: 99.9989 - mae: 1080152.3750 - val_loss: 99.9989 - val_mae: 1095897.0000\n",
      "Epoch 182/200\n",
      "1/1 [==============================] - 0s 72ms/step - loss: 99.9988 - mae: 1080152.2500 - val_loss: 99.9989 - val_mae: 1095897.0000\n",
      "Epoch 183/200\n",
      "1/1 [==============================] - 0s 78ms/step - loss: 99.9988 - mae: 1080152.1250 - val_loss: 99.9988 - val_mae: 1095896.8750\n",
      "Epoch 184/200\n",
      "1/1 [==============================] - 0s 58ms/step - loss: 99.9988 - mae: 1080152.0000 - val_loss: 99.9988 - val_mae: 1095896.8750\n",
      "Epoch 185/200\n",
      "1/1 [==============================] - 0s 59ms/step - loss: 99.9988 - mae: 1080152.0000 - val_loss: 99.9988 - val_mae: 1095896.7500\n",
      "Epoch 186/200\n",
      "1/1 [==============================] - 0s 58ms/step - loss: 99.9988 - mae: 1080152.0000 - val_loss: 99.9988 - val_mae: 1095896.7500\n",
      "Epoch 187/200\n",
      "1/1 [==============================] - 0s 60ms/step - loss: 99.9988 - mae: 1080151.7500 - val_loss: 99.9988 - val_mae: 1095896.7500\n",
      "Epoch 188/200\n",
      "1/1 [==============================] - 0s 61ms/step - loss: 99.9988 - mae: 1080151.7500 - val_loss: 99.9988 - val_mae: 1095896.6250\n",
      "Epoch 189/200\n",
      "1/1 [==============================] - 0s 64ms/step - loss: 99.9988 - mae: 1080151.6250 - val_loss: 99.9988 - val_mae: 1095896.3750\n",
      "Epoch 190/200\n",
      "1/1 [==============================] - 0s 63ms/step - loss: 99.9988 - mae: 1080151.5000 - val_loss: 99.9988 - val_mae: 1095896.3750\n",
      "Epoch 191/200\n",
      "1/1 [==============================] - 0s 58ms/step - loss: 99.9987 - mae: 1080151.3750 - val_loss: 99.9988 - val_mae: 1095896.2500\n",
      "Epoch 192/200\n",
      "1/1 [==============================] - 0s 54ms/step - loss: 99.9987 - mae: 1080151.3750 - val_loss: 99.9987 - val_mae: 1095896.1250\n",
      "Epoch 193/200\n",
      "1/1 [==============================] - 0s 56ms/step - loss: 99.9987 - mae: 1080151.2500 - val_loss: 99.9987 - val_mae: 1095896.0000\n",
      "Epoch 194/200\n",
      "1/1 [==============================] - 0s 57ms/step - loss: 99.9987 - mae: 1080151.2500 - val_loss: 99.9987 - val_mae: 1095896.0000\n",
      "Epoch 195/200\n",
      "1/1 [==============================] - 0s 55ms/step - loss: 99.9987 - mae: 1080151.0000 - val_loss: 99.9987 - val_mae: 1095895.8750\n",
      "Epoch 196/200\n",
      "1/1 [==============================] - 0s 56ms/step - loss: 99.9987 - mae: 1080151.0000 - val_loss: 99.9987 - val_mae: 1095895.7500\n",
      "Epoch 197/200\n",
      "1/1 [==============================] - 0s 54ms/step - loss: 99.9987 - mae: 1080150.8750 - val_loss: 99.9987 - val_mae: 1095895.7500\n",
      "Epoch 198/200\n",
      "1/1 [==============================] - 0s 54ms/step - loss: 99.9987 - mae: 1080150.6250 - val_loss: 99.9987 - val_mae: 1095895.6250\n",
      "Epoch 199/200\n",
      "1/1 [==============================] - 0s 53ms/step - loss: 99.9987 - mae: 1080150.6250 - val_loss: 99.9987 - val_mae: 1095895.5000\n",
      "Epoch 200/200\n",
      "1/1 [==============================] - 0s 58ms/step - loss: 99.9986 - mae: 1080150.6250 - val_loss: 99.9987 - val_mae: 1095895.5000\n"
     ]
    }
   ],
   "source": [
    "history_tiny = model_first.fit(train_x, train_y,\n",
    "                    validation_data=(valid_x, valid_y),\n",
    "                    epochs=200, verbose=1, batch_size=train_x.shape[0])"
   ]
  },
  {
   "cell_type": "code",
   "execution_count": 35,
   "metadata": {
    "colab": {
     "base_uri": "https://localhost:8080/",
     "height": 666
    },
    "executionInfo": {
     "elapsed": 1732,
     "status": "ok",
     "timestamp": 1615854012693,
     "user": {
      "displayName": "LUCAS MARQUES",
      "photoUrl": "https://lh3.googleusercontent.com/a-/AOh14Gh00T7DfV6a1bJ5srABNyobGkUK0lvOe0L_ogf3=s64",
      "userId": "04634687850896258389"
     },
     "user_tz": 180
    },
    "id": "CfqZD2pAoBsa",
    "outputId": "2419bd35-9bb8-4a23-f9a0-af2e496bd328"
   },
   "outputs": [
    {
     "data": {
      "image/png": "[encoded data removed]",
      "text/plain": [
       "<Figure size 2600x1000 with 2 Axes>"
      ]
     },
     "metadata": {},
     "output_type": "display_data"
    }
   ],
   "source": [
    "title_tiny = 'Métrica do modelo Tiny'\n",
    "# Imprime os gráficos do MAPE e MAE (Loss e Metric, respectivamente)\n",
    "plotHistory(history_tiny, title_tiny)"
   ]
  },
  {
   "cell_type": "markdown",
   "metadata": {
    "id": "pgdn26ScbKrM"
   },
   "source": [
    "Podemos perceber que o erro médio absoluto, bem como o Loss, encontram-se bem longe do esperado. Na verdade, o modelo que criamos para resolver o problema é extremamente simples se comparado à complexidade do problema e foi, basicamente, massacrado.\n",
    "\n",
    " Para conseguirmos diminuir o loss e melhorarmos o erro médio absoluto, isto é, diminuir o Bias do nosso modelo, vamos aumentar o número de neurônios nas camadas ocultas, bem como o número de camadas ocultas.\n",
    "\n",
    " Além disso, iremos adicionar uma técnica de regularização da rede neural chamada de Dropout, que resulta na melhora da generalização do modelo, por meio do \"desligamento\" de parte dos nossos neurônios.\n",
    "\n",
    "Por fim, como vamos aumentar a complexidade do nosso modelo, vamos utilizar a técnica de mini-batch, através do parâmetro batch_size = 32, para acelerar o processo de treinamento."
   ]
  },
  {
   "cell_type": "code",
   "execution_count": 36,
   "metadata": {
    "colab": {
     "base_uri": "https://localhost:8080/"
    },
    "executionInfo": {
     "elapsed": 524,
     "status": "ok",
     "timestamp": 1615854394480,
     "user": {
      "displayName": "LUCAS MARQUES",
      "photoUrl": "https://lh3.googleusercontent.com/a-/AOh14Gh00T7DfV6a1bJ5srABNyobGkUK0lvOe0L_ogf3=s64",
      "userId": "04634687850896258389"
     },
     "user_tz": 180
    },
    "id": "68l5tTt_vVpM",
    "outputId": "ee9462b2-7074-42fd-8764-274c838b4726"
   },
   "outputs": [
    {
     "data": {
      "text/plain": [
       "(10867, 336)"
      ]
     },
     "execution_count": 36,
     "metadata": {},
     "output_type": "execute_result"
    }
   ],
   "source": [
    "# Verificando o shape da nossa base de treinamento\n",
    "train_x.shape"
   ]
  },
  {
   "cell_type": "markdown",
   "metadata": {
    "id": "nOq06conhdEc"
   },
   "source": [
    "## Aumentando a complexidade do modelo"
   ]
  },
  {
   "cell_type": "markdown",
   "metadata": {
    "id": "1VW-9qesf9mZ"
   },
   "source": [
    "Como vamos aumentar a complexidade do nosso modelo, é possível que o mesmo sofra um fenômeno chamado de \"Overfitting\", que nada mais é que um modelo \"bom demais\" para a complexidade do problema, que acaba por \"decorar\" as informações contidas nos dados de treinamento ao invés de \"aprender\".\n",
    "\n",
    "Para evitarmos esse tipo de problemas podemos utilizar uma técnica chamada de Dropout. O Dropout permite que uma parte dos neurônios de uma camada oculta parem de funcionar, compensando os valores das entradas nos demais neurônios de acordo com a porcentagem de neurônios que escolhermos para \"desativar\". Tal fenômeno acaba por deixar a rede \"menos inteligente\" e, portanto, ajuda na melhor generalização do modelo.\n",
    "\n",
    "Um valor muito defendido na literatura para essa técnica é o de 20%, portanto, é exatamente esse valor que iremos utilizar no nosso modelo."
   ]
  },
  {
   "cell_type": "code",
   "execution_count": 40,
   "metadata": {
    "executionInfo": {
     "elapsed": 521,
     "status": "ok",
     "timestamp": 1615854397209,
     "user": {
      "displayName": "LUCAS MARQUES",
      "photoUrl": "https://lh3.googleusercontent.com/a-/AOh14Gh00T7DfV6a1bJ5srABNyobGkUK0lvOe0L_ogf3=s64",
      "userId": "04634687850896258389"
     },
     "user_tz": 180
    },
    "id": "SJyJSel2Z_79"
   },
   "outputs": [],
   "source": [
    "#model_large = tf.keras.models.Sequential()\n",
    "model_large = Sequential()\n",
    "\n",
    "model_large.add(Dense(512, input_dim=train_x.shape[1], activation='relu', kernel_initializer='he_uniform'))\n",
    "model_large.add(Dropout(0.2))\n",
    "model_large.add(Dense(512, activation='relu', kernel_initializer='he_uniform'))\n",
    "model_large.add(Dropout(0.2))\n",
    "model_large.add(Dense(512, activation='relu', kernel_initializer='he_uniform'))\n",
    "model_large.add(Dropout(0.2))\n",
    "model_large.add(Dense(512, activation='relu', kernel_initializer='he_uniform'))\n",
    "model_large.add(Dropout(0.2))\n",
    "model_large.add(Dense(512, activation='relu', kernel_initializer='he_uniform'))\n",
    "model_large.add(Dropout(0.2))\n",
    "model_large.add(Dense(1, activation='relu'))"
   ]
  },
  {
   "cell_type": "code",
   "execution_count": 41,
   "metadata": {
    "executionInfo": {
     "elapsed": 426,
     "status": "ok",
     "timestamp": 1615854398117,
     "user": {
      "displayName": "LUCAS MARQUES",
      "photoUrl": "https://lh3.googleusercontent.com/a-/AOh14Gh00T7DfV6a1bJ5srABNyobGkUK0lvOe0L_ogf3=s64",
      "userId": "04634687850896258389"
     },
     "user_tz": 180
    },
    "id": "17usauA3cT_2"
   },
   "outputs": [],
   "source": [
    "model_large.compile(loss='mape', optimizer='adam', metrics=['mae'])"
   ]
  },
  {
   "cell_type": "code",
   "execution_count": 42,
   "metadata": {
    "colab": {
     "base_uri": "https://localhost:8080/"
    },
    "executionInfo": {
     "elapsed": 408,
     "status": "ok",
     "timestamp": 1615854399183,
     "user": {
      "displayName": "LUCAS MARQUES",
      "photoUrl": "https://lh3.googleusercontent.com/a-/AOh14Gh00T7DfV6a1bJ5srABNyobGkUK0lvOe0L_ogf3=s64",
      "userId": "04634687850896258389"
     },
     "user_tz": 180
    },
    "id": "_LaRtk2fm-0b",
    "outputId": "12e53f39-135c-4f76-dae7-21e9b4a992e5"
   },
   "outputs": [
    {
     "name": "stdout",
     "output_type": "stream",
     "text": [
      "Model: \"sequential_2\"\n",
      "_________________________________________________________________\n",
      " Layer (type)                Output Shape              Param #   \n",
      "=================================================================\n",
      " dense_8 (Dense)             (None, 512)               172544    \n",
      "                                                                 \n",
      " dropout_5 (Dropout)         (None, 512)               0         \n",
      "                                                                 \n",
      " dense_9 (Dense)             (None, 512)               262656    \n",
      "                                                                 \n",
      " dropout_6 (Dropout)         (None, 512)               0         \n",
      "                                                                 \n",
      " dense_10 (Dense)            (None, 512)               262656    \n",
      "                                                                 \n",
      " dropout_7 (Dropout)         (None, 512)               0         \n",
      "                                                                 \n",
      " dense_11 (Dense)            (None, 512)               262656    \n",
      "                                                                 \n",
      " dropout_8 (Dropout)         (None, 512)               0         \n",
      "                                                                 \n",
      " dense_12 (Dense)            (None, 512)               262656    \n",
      "                                                                 \n",
      " dropout_9 (Dropout)         (None, 512)               0         \n",
      "                                                                 \n",
      " dense_13 (Dense)            (None, 1)                 513       \n",
      "                                                                 \n",
      "=================================================================\n",
      "Total params: 1,223,681\n",
      "Trainable params: 1,223,681\n",
      "Non-trainable params: 0\n",
      "_________________________________________________________________\n"
     ]
    }
   ],
   "source": [
    "model_large.summary()"
   ]
  },
  {
   "cell_type": "markdown",
   "metadata": {
    "id": "55Sua6A0ejPC"
   },
   "source": [
    "Para esse caso, estamos utilizando uma rede neural com 5 camadas ocultas e 512 neurônios em cada camada. Para acelerar o processo de treinamento, iremos utilizar de uma técnica chamada de \"Minibatch Gradient Descent\" que acelera o processo de treinamento mas, dependendo do tamanho do batch, causará ruídos nos valores da loss function e MAE. \n",
    "\n",
    "Portanto, para esse modelo e o próximo, estaremos utilizando um valor bastante defendido na literatura e entre pesquisadores de 32 amostras."
   ]
  },
  {
   "cell_type": "code",
   "execution_count": 43,
   "metadata": {
    "colab": {
     "base_uri": "https://localhost:8080/"
    },
    "executionInfo": {
     "elapsed": 102391,
     "status": "ok",
     "timestamp": 1615854504208,
     "user": {
      "displayName": "LUCAS MARQUES",
      "photoUrl": "https://lh3.googleusercontent.com/a-/AOh14Gh00T7DfV6a1bJ5srABNyobGkUK0lvOe0L_ogf3=s64",
      "userId": "04634687850896258389"
     },
     "user_tz": 180
    },
    "id": "EnfVoWmUcT7S",
    "outputId": "7118e8a4-3899-424d-9159-8ed1cfb2716c"
   },
   "outputs": [
    {
     "name": "stdout",
     "output_type": "stream",
     "text": [
      "Epoch 1/100\n",
      "340/340 [==============================] - 4s 10ms/step - loss: 37.1876 - mae: 442672.6562 - val_loss: 21.3072 - val_mae: 254136.1562\n",
      "Epoch 2/100\n",
      "340/340 [==============================] - 3s 8ms/step - loss: 19.9576 - mae: 243169.5469 - val_loss: 18.4241 - val_mae: 243137.2500\n",
      "Epoch 3/100\n",
      "340/340 [==============================] - 3s 8ms/step - loss: 18.7356 - mae: 226728.8438 - val_loss: 17.9034 - val_mae: 235312.4531\n",
      "Epoch 4/100\n",
      "340/340 [==============================] - 3s 8ms/step - loss: 18.2799 - mae: 221239.5000 - val_loss: 17.3629 - val_mae: 226683.0469\n",
      "Epoch 5/100\n",
      "340/340 [==============================] - 3s 8ms/step - loss: 17.9381 - mae: 215932.4062 - val_loss: 17.1773 - val_mae: 216064.1875\n",
      "Epoch 6/100\n",
      "340/340 [==============================] - 3s 8ms/step - loss: 17.5539 - mae: 211271.1250 - val_loss: 17.1898 - val_mae: 211697.9531\n",
      "Epoch 7/100\n",
      "340/340 [==============================] - 3s 8ms/step - loss: 17.3661 - mae: 208707.5938 - val_loss: 17.0178 - val_mae: 219486.2812\n",
      "Epoch 8/100\n",
      "340/340 [==============================] - 3s 8ms/step - loss: 17.1000 - mae: 206620.8750 - val_loss: 16.8711 - val_mae: 218689.0000\n",
      "Epoch 9/100\n",
      "340/340 [==============================] - 3s 8ms/step - loss: 17.2941 - mae: 207998.7188 - val_loss: 16.5947 - val_mae: 208378.7500\n",
      "Epoch 10/100\n",
      "340/340 [==============================] - 3s 8ms/step - loss: 17.1063 - mae: 205770.6875 - val_loss: 16.4905 - val_mae: 209615.6875\n",
      "Epoch 11/100\n",
      "340/340 [==============================] - 3s 8ms/step - loss: 16.9567 - mae: 203614.7188 - val_loss: 16.3322 - val_mae: 207928.3750\n",
      "Epoch 12/100\n",
      "340/340 [==============================] - 3s 8ms/step - loss: 16.7515 - mae: 201888.0938 - val_loss: 16.7066 - val_mae: 214750.6719\n",
      "Epoch 13/100\n",
      "340/340 [==============================] - 3s 8ms/step - loss: 16.5351 - mae: 200458.4844 - val_loss: 16.1194 - val_mae: 195678.2031\n",
      "Epoch 14/100\n",
      "340/340 [==============================] - 3s 8ms/step - loss: 16.5855 - mae: 200038.9688 - val_loss: 16.5122 - val_mae: 214136.1719\n",
      "Epoch 15/100\n",
      "340/340 [==============================] - 3s 8ms/step - loss: 16.2865 - mae: 197337.5000 - val_loss: 16.1029 - val_mae: 199899.8438\n",
      "Epoch 16/100\n",
      "340/340 [==============================] - 3s 8ms/step - loss: 16.2742 - mae: 196192.2031 - val_loss: 17.3980 - val_mae: 224645.6406\n",
      "Epoch 17/100\n",
      "340/340 [==============================] - 3s 8ms/step - loss: 16.3060 - mae: 196437.1094 - val_loss: 16.5977 - val_mae: 211413.9844\n",
      "Epoch 18/100\n",
      "340/340 [==============================] - 3s 8ms/step - loss: 16.1668 - mae: 195225.2031 - val_loss: 16.1869 - val_mae: 207756.4844\n",
      "Epoch 19/100\n",
      "340/340 [==============================] - 3s 8ms/step - loss: 16.2988 - mae: 196639.8281 - val_loss: 15.8828 - val_mae: 201751.7812\n",
      "Epoch 20/100\n",
      "340/340 [==============================] - 3s 8ms/step - loss: 16.2729 - mae: 196387.1875 - val_loss: 16.6838 - val_mae: 198194.8281\n",
      "Epoch 21/100\n",
      "340/340 [==============================] - 3s 8ms/step - loss: 16.1359 - mae: 195120.2031 - val_loss: 17.0810 - val_mae: 218399.2188\n",
      "Epoch 22/100\n",
      "340/340 [==============================] - 3s 8ms/step - loss: 15.9816 - mae: 193811.2031 - val_loss: 15.5846 - val_mae: 198107.3438\n",
      "Epoch 23/100\n",
      "340/340 [==============================] - 3s 8ms/step - loss: 15.8591 - mae: 191480.5000 - val_loss: 15.9778 - val_mae: 198396.4844\n",
      "Epoch 24/100\n",
      "340/340 [==============================] - 3s 8ms/step - loss: 15.8044 - mae: 190820.7344 - val_loss: 16.0487 - val_mae: 198507.9219\n",
      "Epoch 25/100\n",
      "340/340 [==============================] - 3s 8ms/step - loss: 15.8008 - mae: 192002.0625 - val_loss: 15.7735 - val_mae: 197678.2812\n",
      "Epoch 26/100\n",
      "340/340 [==============================] - 3s 8ms/step - loss: 15.7123 - mae: 189815.0781 - val_loss: 16.3051 - val_mae: 198865.9531\n",
      "Epoch 27/100\n",
      "340/340 [==============================] - 3s 8ms/step - loss: 15.6193 - mae: 188655.8438 - val_loss: 16.5396 - val_mae: 197600.1562\n",
      "Epoch 28/100\n",
      "340/340 [==============================] - 3s 8ms/step - loss: 15.5658 - mae: 187949.7188 - val_loss: 16.5298 - val_mae: 196981.7031\n",
      "Epoch 29/100\n",
      "340/340 [==============================] - 3s 8ms/step - loss: 15.7249 - mae: 190089.7969 - val_loss: 15.8638 - val_mae: 196880.5156\n",
      "Epoch 30/100\n",
      "340/340 [==============================] - 3s 8ms/step - loss: 15.4795 - mae: 188870.9844 - val_loss: 16.2933 - val_mae: 197099.2656\n",
      "Epoch 31/100\n",
      "340/340 [==============================] - 3s 8ms/step - loss: 15.8301 - mae: 190955.9844 - val_loss: 15.5626 - val_mae: 195076.6562\n",
      "Epoch 32/100\n",
      "340/340 [==============================] - 3s 8ms/step - loss: 15.4141 - mae: 187078.5938 - val_loss: 16.3514 - val_mae: 205626.7969\n",
      "Epoch 33/100\n",
      "340/340 [==============================] - 3s 8ms/step - loss: 15.3618 - mae: 186541.9688 - val_loss: 16.0146 - val_mae: 202753.4531\n",
      "Epoch 34/100\n",
      "340/340 [==============================] - 3s 8ms/step - loss: 15.2967 - mae: 186299.4531 - val_loss: 16.7684 - val_mae: 198651.0000\n",
      "Epoch 35/100\n",
      "340/340 [==============================] - 3s 8ms/step - loss: 15.2170 - mae: 184602.1094 - val_loss: 16.2502 - val_mae: 194494.6875\n",
      "Epoch 36/100\n",
      "340/340 [==============================] - 3s 8ms/step - loss: 15.3159 - mae: 185669.3125 - val_loss: 16.3714 - val_mae: 198507.0469\n",
      "Epoch 37/100\n",
      "340/340 [==============================] - 3s 8ms/step - loss: 15.3261 - mae: 185599.1562 - val_loss: 16.5376 - val_mae: 207342.2969\n",
      "Epoch 38/100\n",
      "340/340 [==============================] - 3s 8ms/step - loss: 15.0996 - mae: 183894.7969 - val_loss: 16.3035 - val_mae: 203215.1719\n",
      "Epoch 39/100\n",
      "340/340 [==============================] - 3s 8ms/step - loss: 14.9068 - mae: 181704.8438 - val_loss: 17.5740 - val_mae: 201848.0938\n",
      "Epoch 40/100\n",
      "340/340 [==============================] - 3s 8ms/step - loss: 15.2599 - mae: 185678.6250 - val_loss: 16.4536 - val_mae: 207298.9688\n",
      "Epoch 41/100\n",
      "340/340 [==============================] - 3s 8ms/step - loss: 15.1936 - mae: 183902.6719 - val_loss: 17.0816 - val_mae: 214351.0469\n",
      "Epoch 42/100\n",
      "340/340 [==============================] - 3s 8ms/step - loss: 15.0204 - mae: 181473.1406 - val_loss: 16.0346 - val_mae: 198919.3125\n",
      "Epoch 43/100\n",
      "340/340 [==============================] - 3s 8ms/step - loss: 15.0572 - mae: 182807.5156 - val_loss: 16.3261 - val_mae: 198121.4531\n",
      "Epoch 44/100\n",
      "340/340 [==============================] - 3s 8ms/step - loss: 14.9706 - mae: 181845.5938 - val_loss: 16.1152 - val_mae: 204085.7656\n",
      "Epoch 45/100\n",
      "340/340 [==============================] - 3s 8ms/step - loss: 14.9752 - mae: 181669.3750 - val_loss: 16.6871 - val_mae: 216200.8281\n",
      "Epoch 46/100\n",
      "340/340 [==============================] - 3s 8ms/step - loss: 14.9085 - mae: 181955.8125 - val_loss: 16.1378 - val_mae: 200202.6250\n",
      "Epoch 47/100\n",
      "340/340 [==============================] - 3s 8ms/step - loss: 14.8788 - mae: 180803.7344 - val_loss: 16.0373 - val_mae: 194962.0469\n",
      "Epoch 48/100\n",
      "340/340 [==============================] - 3s 8ms/step - loss: 14.9085 - mae: 181406.7344 - val_loss: 16.1325 - val_mae: 197023.6094\n",
      "Epoch 49/100\n",
      "340/340 [==============================] - 3s 8ms/step - loss: 14.8250 - mae: 180160.2812 - val_loss: 16.1834 - val_mae: 195883.4375\n",
      "Epoch 50/100\n",
      "340/340 [==============================] - 3s 8ms/step - loss: 14.7191 - mae: 179031.7188 - val_loss: 16.3146 - val_mae: 196177.9844\n",
      "Epoch 51/100\n",
      "340/340 [==============================] - 3s 8ms/step - loss: 14.8681 - mae: 180725.1250 - val_loss: 15.8229 - val_mae: 193839.7500\n",
      "Epoch 52/100\n",
      "340/340 [==============================] - 3s 8ms/step - loss: 14.5850 - mae: 176998.0938 - val_loss: 16.0428 - val_mae: 197583.0156\n",
      "Epoch 53/100\n",
      "340/340 [==============================] - 3s 8ms/step - loss: 14.8712 - mae: 180488.8750 - val_loss: 15.6612 - val_mae: 195694.8438\n",
      "Epoch 54/100\n",
      "340/340 [==============================] - 3s 8ms/step - loss: 14.7939 - mae: 179183.4844 - val_loss: 17.3112 - val_mae: 198990.6562\n",
      "Epoch 55/100\n",
      "340/340 [==============================] - 3s 8ms/step - loss: 14.7235 - mae: 178200.8906 - val_loss: 16.3037 - val_mae: 207583.9219\n",
      "Epoch 56/100\n",
      "340/340 [==============================] - 3s 8ms/step - loss: 14.6252 - mae: 177384.6875 - val_loss: 16.6082 - val_mae: 200264.8750\n",
      "Epoch 57/100\n",
      "340/340 [==============================] - 3s 8ms/step - loss: 14.6362 - mae: 177788.1094 - val_loss: 16.8920 - val_mae: 213619.9531\n",
      "Epoch 58/100\n",
      "340/340 [==============================] - 3s 8ms/step - loss: 14.7034 - mae: 178333.8281 - val_loss: 15.9482 - val_mae: 198529.4844\n",
      "Epoch 59/100\n",
      "340/340 [==============================] - 3s 8ms/step - loss: 14.6509 - mae: 178378.3906 - val_loss: 16.8603 - val_mae: 214144.0781\n",
      "Epoch 60/100\n",
      "340/340 [==============================] - 3s 8ms/step - loss: 14.6495 - mae: 177912.0781 - val_loss: 16.0032 - val_mae: 201327.8906\n",
      "Epoch 61/100\n",
      "340/340 [==============================] - 3s 8ms/step - loss: 14.4069 - mae: 175522.8125 - val_loss: 16.1322 - val_mae: 205840.8125\n",
      "Epoch 62/100\n",
      "340/340 [==============================] - 3s 8ms/step - loss: 14.4813 - mae: 175524.1875 - val_loss: 16.4035 - val_mae: 203599.2969\n",
      "Epoch 63/100\n",
      "340/340 [==============================] - 3s 8ms/step - loss: 14.5149 - mae: 176589.2656 - val_loss: 17.4604 - val_mae: 220561.8125\n",
      "Epoch 64/100\n",
      "340/340 [==============================] - 3s 8ms/step - loss: 14.4055 - mae: 175507.0625 - val_loss: 16.3655 - val_mae: 193795.4375\n",
      "Epoch 65/100\n",
      "340/340 [==============================] - 3s 8ms/step - loss: 14.4607 - mae: 176096.9375 - val_loss: 16.6528 - val_mae: 196497.5469\n",
      "Epoch 66/100\n",
      "340/340 [==============================] - 3s 8ms/step - loss: 14.4334 - mae: 175025.5469 - val_loss: 16.7407 - val_mae: 210085.7500\n",
      "Epoch 67/100\n",
      "340/340 [==============================] - 3s 8ms/step - loss: 14.3189 - mae: 173840.1562 - val_loss: 16.7712 - val_mae: 215771.8125\n",
      "Epoch 68/100\n",
      "340/340 [==============================] - 3s 8ms/step - loss: 14.2803 - mae: 174320.2656 - val_loss: 15.9600 - val_mae: 196400.5469\n",
      "Epoch 69/100\n",
      "340/340 [==============================] - 3s 8ms/step - loss: 14.1592 - mae: 171414.6719 - val_loss: 15.8707 - val_mae: 200142.9688\n",
      "Epoch 70/100\n",
      "340/340 [==============================] - 3s 8ms/step - loss: 14.2616 - mae: 172833.9531 - val_loss: 16.0445 - val_mae: 195876.0781\n",
      "Epoch 71/100\n",
      "340/340 [==============================] - 3s 7ms/step - loss: 14.1667 - mae: 171158.2812 - val_loss: 15.7975 - val_mae: 195440.3750\n",
      "Epoch 72/100\n",
      "340/340 [==============================] - 3s 8ms/step - loss: 14.1011 - mae: 171131.1094 - val_loss: 16.1934 - val_mae: 197791.4844\n",
      "Epoch 73/100\n",
      "340/340 [==============================] - 3s 8ms/step - loss: 14.2151 - mae: 172740.4375 - val_loss: 16.6933 - val_mae: 198612.7969\n",
      "Epoch 74/100\n",
      "340/340 [==============================] - 3s 8ms/step - loss: 14.2713 - mae: 172948.9375 - val_loss: 16.6419 - val_mae: 207007.3750\n",
      "Epoch 75/100\n",
      "340/340 [==============================] - 3s 8ms/step - loss: 14.1931 - mae: 171586.1094 - val_loss: 17.3794 - val_mae: 202717.2188\n",
      "Epoch 76/100\n",
      "340/340 [==============================] - 3s 8ms/step - loss: 14.0540 - mae: 170299.8438 - val_loss: 16.0988 - val_mae: 194970.3594\n",
      "Epoch 77/100\n",
      "340/340 [==============================] - 3s 8ms/step - loss: 14.0163 - mae: 170806.8906 - val_loss: 16.4767 - val_mae: 193057.7656\n",
      "Epoch 78/100\n",
      "340/340 [==============================] - 3s 8ms/step - loss: 14.0092 - mae: 170968.8750 - val_loss: 16.0307 - val_mae: 194372.9531\n",
      "Epoch 79/100\n",
      "340/340 [==============================] - 3s 8ms/step - loss: 13.9055 - mae: 169379.7344 - val_loss: 16.7328 - val_mae: 197362.1094\n",
      "Epoch 80/100\n",
      "340/340 [==============================] - 3s 8ms/step - loss: 14.0884 - mae: 171731.3750 - val_loss: 16.4687 - val_mae: 197920.1562\n",
      "Epoch 81/100\n",
      "340/340 [==============================] - 3s 8ms/step - loss: 13.9462 - mae: 170098.9688 - val_loss: 16.2992 - val_mae: 195852.4375\n",
      "Epoch 82/100\n",
      "340/340 [==============================] - 3s 8ms/step - loss: 13.9313 - mae: 168938.7812 - val_loss: 17.3380 - val_mae: 200957.8125\n",
      "Epoch 83/100\n",
      "340/340 [==============================] - 3s 8ms/step - loss: 14.0767 - mae: 171541.5312 - val_loss: 16.4604 - val_mae: 196396.8906\n",
      "Epoch 84/100\n",
      "340/340 [==============================] - 3s 8ms/step - loss: 13.7672 - mae: 166155.4844 - val_loss: 16.3254 - val_mae: 202316.5156\n",
      "Epoch 85/100\n",
      "340/340 [==============================] - 3s 8ms/step - loss: 13.7936 - mae: 168198.6250 - val_loss: 16.5914 - val_mae: 199981.2188\n",
      "Epoch 86/100\n",
      "340/340 [==============================] - 3s 8ms/step - loss: 13.9091 - mae: 168744.2500 - val_loss: 17.4339 - val_mae: 198465.3438\n",
      "Epoch 87/100\n",
      "340/340 [==============================] - 3s 8ms/step - loss: 13.7891 - mae: 167347.8281 - val_loss: 16.0761 - val_mae: 200289.9844\n",
      "Epoch 88/100\n",
      "340/340 [==============================] - 3s 8ms/step - loss: 13.8209 - mae: 168024.0000 - val_loss: 16.3832 - val_mae: 193512.2656\n",
      "Epoch 89/100\n",
      "340/340 [==============================] - 3s 8ms/step - loss: 13.9724 - mae: 170148.2031 - val_loss: 16.8250 - val_mae: 196568.6250\n",
      "Epoch 90/100\n",
      "340/340 [==============================] - 3s 8ms/step - loss: 13.9264 - mae: 168541.6875 - val_loss: 16.9917 - val_mae: 199401.1562\n",
      "Epoch 91/100\n",
      "340/340 [==============================] - 3s 8ms/step - loss: 13.7556 - mae: 166376.5469 - val_loss: 15.9947 - val_mae: 193124.5625\n",
      "Epoch 92/100\n",
      "340/340 [==============================] - 3s 8ms/step - loss: 13.6678 - mae: 166862.5781 - val_loss: 16.8034 - val_mae: 208703.7812\n",
      "Epoch 93/100\n",
      "340/340 [==============================] - 3s 8ms/step - loss: 13.7046 - mae: 167038.9844 - val_loss: 16.7929 - val_mae: 208198.2969\n",
      "Epoch 94/100\n",
      "340/340 [==============================] - 3s 8ms/step - loss: 13.7148 - mae: 166350.5625 - val_loss: 16.1042 - val_mae: 200832.2656\n",
      "Epoch 95/100\n",
      "340/340 [==============================] - 3s 7ms/step - loss: 13.7379 - mae: 166807.0000 - val_loss: 16.3818 - val_mae: 195959.9531\n",
      "Epoch 96/100\n",
      "340/340 [==============================] - 3s 8ms/step - loss: 13.6599 - mae: 165825.5469 - val_loss: 18.0494 - val_mae: 206780.7812\n",
      "Epoch 97/100\n",
      "340/340 [==============================] - 3s 8ms/step - loss: 13.6543 - mae: 165179.1875 - val_loss: 16.0434 - val_mae: 205416.4219\n",
      "Epoch 98/100\n",
      "340/340 [==============================] - 3s 8ms/step - loss: 13.4997 - mae: 164733.1406 - val_loss: 16.3394 - val_mae: 195972.0156\n",
      "Epoch 99/100\n",
      "340/340 [==============================] - 3s 8ms/step - loss: 13.4668 - mae: 163126.7500 - val_loss: 17.6726 - val_mae: 202413.7031\n",
      "Epoch 100/100\n",
      "340/340 [==============================] - 3s 8ms/step - loss: 13.5525 - mae: 164880.0312 - val_loss: 16.5905 - val_mae: 207254.2500\n"
     ]
    }
   ],
   "source": [
    "history_large = model_large.fit(train_x, train_y,\n",
    "                    validation_data=(valid_x, valid_y),\n",
    "                    epochs=100, verbose=1, batch_size=32)"
   ]
  },
  {
   "cell_type": "code",
   "execution_count": 44,
   "metadata": {
    "colab": {
     "base_uri": "https://localhost:8080/",
     "height": 666
    },
    "executionInfo": {
     "elapsed": 1753,
     "status": "ok",
     "timestamp": 1615854506854,
     "user": {
      "displayName": "LUCAS MARQUES",
      "photoUrl": "https://lh3.googleusercontent.com/a-/AOh14Gh00T7DfV6a1bJ5srABNyobGkUK0lvOe0L_ogf3=s64",
      "userId": "04634687850896258389"
     },
     "user_tz": 180
    },
    "id": "OuM39xXUcTx9",
    "outputId": "a743d738-52b7-44e3-da79-287fc99fe61d"
   },
   "outputs": [
    {
     "data": {
      "image/png": "[encoded data removed]",
      "text/plain": [
       "<Figure size 2600x1000 with 2 Axes>"
      ]
     },
     "metadata": {},
     "output_type": "display_data"
    }
   ],
   "source": [
    "title_large = 'Métricas do modelo complexo'\n",
    "plotHistory(history_large, title_large)"
   ]
  },
  {
   "cell_type": "markdown",
   "metadata": {
    "id": "1BpZxC0L2Zmm"
   },
   "source": [
    "Mesmo utilizando todas essas técnicas para melhorar a nossa rede neural, não podemos concluir que esse é o melhor modelo de todos para esse problema.\n",
    "\n",
    "Tivemos sim um ganho considerável ao aumentar a nossa rede neural, mas será que esse é o máximo que podemos alcançar? Para descobrir isso, teremos que ficar criando várias rede neurais manualmente até definir qual a melhor? Bem, no próximo tópico iremos discutir mais sobre essas perguntas."
   ]
  },
  {
   "cell_type": "code",
   "execution_count": 57,
   "metadata": {
    "colab": {
     "base_uri": "https://localhost:8080/"
    },
    "executionInfo": {
     "elapsed": 251739,
     "status": "ok",
     "timestamp": 1615854902367,
     "user": {
      "displayName": "LUCAS MARQUES",
      "photoUrl": "https://lh3.googleusercontent.com/a-/AOh14Gh00T7DfV6a1bJ5srABNyobGkUK0lvOe0L_ogf3=s64",
      "userId": "04634687850896258389"
     },
     "user_tz": 180
    },
    "id": "wPJ3qt28wdOK",
    "outputId": "2659d622-9038-4daa-e8e0-fc1bd313fe72"
   },
   "outputs": [
    {
     "name": "stdout",
     "output_type": "stream",
     "text": [
      "Epoch 1/100\n",
      "340/340 [==============================] - 4s 8ms/step - loss: 99.5935 - mae: 1087895.0444 - val_loss: 87.5878 - val_mae: 1021361.6875\n",
      "Epoch 2/100\n",
      "340/340 [==============================] - 2s 7ms/step - loss: 93.5981 - mae: 1046513.1076 - val_loss: 79.7817 - val_mae: 972077.0625\n",
      "Epoch 3/100\n",
      "340/340 [==============================] - 2s 7ms/step - loss: 80.1967 - mae: 944721.0942 - val_loss: 69.0147 - val_mae: 880960.1250\n",
      "Epoch 4/100\n",
      "340/340 [==============================] - 2s 7ms/step - loss: 63.7470 - mae: 840701.7854 - val_loss: 52.3361 - val_mae: 746587.0000\n",
      "Epoch 5/100\n",
      "340/340 [==============================] - 2s 7ms/step - loss: 48.7209 - mae: 690607.4377 - val_loss: 40.4095 - val_mae: 606531.6250\n",
      "Epoch 6/100\n",
      "340/340 [==============================] - 2s 7ms/step - loss: 37.8718 - mae: 571474.7100 - val_loss: 29.4615 - val_mae: 477608.1562\n",
      "Epoch 7/100\n",
      "340/340 [==============================] - 3s 7ms/step - loss: 30.6112 - mae: 471301.2469 - val_loss: 23.7421 - val_mae: 382439.5000\n",
      "Epoch 8/100\n",
      "340/340 [==============================] - 2s 7ms/step - loss: 25.8438 - mae: 387004.0215 - val_loss: 22.7153 - val_mae: 362685.4688\n",
      "Epoch 9/100\n",
      "340/340 [==============================] - 3s 7ms/step - loss: 23.0573 - mae: 341821.8327 - val_loss: 21.2429 - val_mae: 342776.2500\n",
      "Epoch 10/100\n",
      "340/340 [==============================] - 2s 7ms/step - loss: 21.9229 - mae: 313861.4030 - val_loss: 18.8240 - val_mae: 279785.5000\n",
      "Epoch 11/100\n",
      "340/340 [==============================] - 2s 7ms/step - loss: 22.0422 - mae: 283501.9580 - val_loss: 19.2930 - val_mae: 283891.2812\n",
      "Epoch 12/100\n",
      "340/340 [==============================] - 2s 7ms/step - loss: 21.1861 - mae: 290516.3863 - val_loss: 17.5486 - val_mae: 247868.5000\n",
      "Epoch 13/100\n",
      "340/340 [==============================] - 2s 7ms/step - loss: 20.5285 - mae: 272848.0581 - val_loss: 17.4472 - val_mae: 237119.5000\n",
      "Epoch 14/100\n",
      "340/340 [==============================] - 3s 7ms/step - loss: 20.6284 - mae: 266016.2427 - val_loss: 16.4422 - val_mae: 219245.9062\n",
      "Epoch 15/100\n",
      "340/340 [==============================] - 2s 7ms/step - loss: 19.2141 - mae: 253347.3405 - val_loss: 16.2619 - val_mae: 203425.5938\n",
      "Epoch 16/100\n",
      "340/340 [==============================] - 2s 7ms/step - loss: 19.0040 - mae: 249926.7928 - val_loss: 16.9343 - val_mae: 221499.2656\n",
      "Epoch 17/100\n",
      "340/340 [==============================] - 2s 7ms/step - loss: 18.6535 - mae: 233458.7005 - val_loss: 18.6882 - val_mae: 237199.1719\n",
      "Epoch 18/100\n",
      "340/340 [==============================] - 2s 7ms/step - loss: 18.4579 - mae: 226577.1037 - val_loss: 19.1450 - val_mae: 233348.7656\n",
      "Epoch 19/100\n",
      "340/340 [==============================] - 2s 7ms/step - loss: 18.3056 - mae: 229031.7511 - val_loss: 16.8014 - val_mae: 212946.4844\n",
      "Epoch 20/100\n",
      "340/340 [==============================] - 2s 7ms/step - loss: 17.9273 - mae: 217113.2083 - val_loss: 17.6854 - val_mae: 214775.4375\n",
      "Epoch 21/100\n",
      "340/340 [==============================] - 3s 7ms/step - loss: 17.9792 - mae: 222510.6686 - val_loss: 17.9337 - val_mae: 222656.9844\n",
      "Epoch 22/100\n",
      "340/340 [==============================] - 2s 7ms/step - loss: 17.0324 - mae: 212105.8838 - val_loss: 17.1185 - val_mae: 209300.8594\n",
      "Epoch 23/100\n",
      "340/340 [==============================] - 2s 7ms/step - loss: 17.0002 - mae: 210437.4830 - val_loss: 17.4626 - val_mae: 220037.0000\n",
      "Epoch 24/100\n",
      "340/340 [==============================] - 2s 7ms/step - loss: 17.7465 - mae: 219521.0381 - val_loss: 16.4658 - val_mae: 215465.3594\n",
      "Epoch 25/100\n",
      "340/340 [==============================] - 3s 7ms/step - loss: 16.9501 - mae: 212392.8275 - val_loss: 16.3680 - val_mae: 204688.0469\n",
      "Epoch 26/100\n",
      "340/340 [==============================] - 2s 7ms/step - loss: 17.1096 - mae: 210683.2656 - val_loss: 16.2609 - val_mae: 209991.5469\n",
      "Epoch 27/100\n",
      "340/340 [==============================] - 2s 7ms/step - loss: 16.8903 - mae: 205819.2560 - val_loss: 17.1320 - val_mae: 216167.7031\n",
      "Epoch 28/100\n",
      "340/340 [==============================] - 3s 8ms/step - loss: 16.9907 - mae: 204076.5362 - val_loss: 15.8203 - val_mae: 200631.0781\n",
      "Epoch 29/100\n",
      "340/340 [==============================] - 3s 7ms/step - loss: 17.2621 - mae: 211768.2842 - val_loss: 16.4961 - val_mae: 209160.3281\n",
      "Epoch 30/100\n",
      "340/340 [==============================] - 2s 7ms/step - loss: 16.7602 - mae: 209024.7373 - val_loss: 16.4601 - val_mae: 208723.5156\n",
      "Epoch 31/100\n",
      "340/340 [==============================] - 2s 7ms/step - loss: 16.7903 - mae: 204568.1718 - val_loss: 16.3813 - val_mae: 200264.5312\n",
      "Epoch 32/100\n",
      "340/340 [==============================] - 2s 7ms/step - loss: 16.8598 - mae: 203369.1944 - val_loss: 17.2090 - val_mae: 226813.8594\n",
      "Epoch 33/100\n",
      "340/340 [==============================] - 3s 7ms/step - loss: 16.6810 - mae: 205502.4714 - val_loss: 16.6867 - val_mae: 208894.0469\n",
      "Epoch 34/100\n",
      "340/340 [==============================] - 2s 7ms/step - loss: 16.5696 - mae: 209024.4506 - val_loss: 16.6965 - val_mae: 207883.2188\n",
      "Epoch 35/100\n",
      "340/340 [==============================] - 2s 7ms/step - loss: 16.7408 - mae: 208949.8611 - val_loss: 16.0209 - val_mae: 203279.6875\n",
      "Epoch 36/100\n",
      "340/340 [==============================] - 2s 7ms/step - loss: 16.7153 - mae: 207489.1084 - val_loss: 16.7753 - val_mae: 205738.5469\n",
      "Epoch 37/100\n",
      "340/340 [==============================] - 3s 7ms/step - loss: 16.4777 - mae: 203590.1522 - val_loss: 17.1134 - val_mae: 207927.7344\n",
      "Epoch 38/100\n",
      "340/340 [==============================] - 2s 7ms/step - loss: 16.2848 - mae: 198840.6398 - val_loss: 16.6764 - val_mae: 213561.3750\n",
      "Epoch 39/100\n",
      "340/340 [==============================] - 2s 7ms/step - loss: 16.8229 - mae: 201530.7648 - val_loss: 17.5897 - val_mae: 218277.0781\n",
      "Epoch 40/100\n",
      "340/340 [==============================] - 2s 7ms/step - loss: 16.7529 - mae: 211179.2439 - val_loss: 16.4422 - val_mae: 199504.1719\n",
      "Epoch 41/100\n",
      "340/340 [==============================] - 2s 7ms/step - loss: 16.4348 - mae: 202944.9841 - val_loss: 16.4437 - val_mae: 206699.3906\n",
      "Epoch 42/100\n",
      "340/340 [==============================] - 2s 7ms/step - loss: 16.2167 - mae: 196570.4335 - val_loss: 15.9811 - val_mae: 203369.1406\n",
      "Epoch 43/100\n",
      "340/340 [==============================] - 2s 7ms/step - loss: 16.0232 - mae: 195965.5973 - val_loss: 15.9392 - val_mae: 200883.3594\n",
      "Epoch 44/100\n",
      "340/340 [==============================] - 2s 7ms/step - loss: 15.9500 - mae: 200935.9577 - val_loss: 15.6727 - val_mae: 195785.4688\n",
      "Epoch 45/100\n",
      "340/340 [==============================] - 2s 7ms/step - loss: 16.3546 - mae: 206110.2812 - val_loss: 15.8456 - val_mae: 204458.2188\n",
      "Epoch 46/100\n",
      "340/340 [==============================] - 2s 7ms/step - loss: 15.5688 - mae: 199984.5267 - val_loss: 16.0189 - val_mae: 204519.0469\n",
      "Epoch 47/100\n",
      "340/340 [==============================] - 2s 7ms/step - loss: 15.9448 - mae: 200721.2590 - val_loss: 16.5376 - val_mae: 203480.4844\n",
      "Epoch 48/100\n",
      "340/340 [==============================] - 2s 7ms/step - loss: 15.8402 - mae: 199466.6708 - val_loss: 16.1196 - val_mae: 199737.1094\n",
      "Epoch 49/100\n",
      "340/340 [==============================] - 3s 7ms/step - loss: 16.1062 - mae: 203491.4652 - val_loss: 16.2719 - val_mae: 205005.2500\n",
      "Epoch 50/100\n",
      "340/340 [==============================] - 2s 7ms/step - loss: 16.4168 - mae: 201913.1662 - val_loss: 16.4389 - val_mae: 204826.5312\n",
      "Epoch 51/100\n",
      "340/340 [==============================] - 3s 7ms/step - loss: 15.7327 - mae: 199235.1327 - val_loss: 16.3010 - val_mae: 200443.8750\n",
      "Epoch 52/100\n",
      "340/340 [==============================] - 2s 7ms/step - loss: 15.6351 - mae: 189500.4112 - val_loss: 15.1876 - val_mae: 196100.0625\n",
      "Epoch 53/100\n",
      "340/340 [==============================] - 2s 7ms/step - loss: 15.7749 - mae: 194380.7019 - val_loss: 15.9678 - val_mae: 201722.2969\n",
      "Epoch 54/100\n",
      "340/340 [==============================] - 2s 7ms/step - loss: 15.8865 - mae: 202361.2848 - val_loss: 15.5747 - val_mae: 197491.9688\n",
      "Epoch 55/100\n",
      "340/340 [==============================] - 2s 7ms/step - loss: 15.7594 - mae: 195317.8163 - val_loss: 16.4284 - val_mae: 209965.6406\n",
      "Epoch 56/100\n",
      "340/340 [==============================] - 3s 8ms/step - loss: 15.6112 - mae: 196445.7253 - val_loss: 16.4651 - val_mae: 201412.8125\n",
      "Epoch 57/100\n",
      "340/340 [==============================] - 3s 7ms/step - loss: 15.5725 - mae: 196686.0253 - val_loss: 15.5666 - val_mae: 197850.0938\n",
      "Epoch 58/100\n",
      "340/340 [==============================] - 2s 7ms/step - loss: 15.5680 - mae: 198135.5251 - val_loss: 15.7941 - val_mae: 195431.8438\n",
      "Epoch 59/100\n",
      "340/340 [==============================] - 2s 7ms/step - loss: 15.3571 - mae: 194877.1066 - val_loss: 15.3162 - val_mae: 191106.9062\n",
      "Epoch 60/100\n",
      "340/340 [==============================] - 2s 7ms/step - loss: 15.2936 - mae: 194518.5527 - val_loss: 16.6575 - val_mae: 203531.8594\n",
      "Epoch 61/100\n",
      "340/340 [==============================] - 2s 7ms/step - loss: 15.0602 - mae: 192756.3763 - val_loss: 15.6336 - val_mae: 197778.4375\n",
      "Epoch 62/100\n",
      "340/340 [==============================] - 3s 7ms/step - loss: 15.3667 - mae: 194146.5402 - val_loss: 15.6769 - val_mae: 197142.5625\n",
      "Epoch 63/100\n",
      "340/340 [==============================] - 2s 7ms/step - loss: 14.9287 - mae: 186248.2449 - val_loss: 16.0194 - val_mae: 212526.4844\n",
      "Epoch 64/100\n",
      "340/340 [==============================] - 2s 7ms/step - loss: 15.0708 - mae: 185125.9080 - val_loss: 15.8272 - val_mae: 207978.7344\n",
      "Epoch 65/100\n",
      "340/340 [==============================] - 2s 7ms/step - loss: 15.1866 - mae: 190792.2636 - val_loss: 15.5254 - val_mae: 198153.7031\n",
      "Epoch 66/100\n",
      "340/340 [==============================] - 3s 7ms/step - loss: 15.1542 - mae: 190877.6430 - val_loss: 15.5873 - val_mae: 194620.6250\n",
      "Epoch 67/100\n",
      "340/340 [==============================] - 2s 7ms/step - loss: 15.1135 - mae: 189097.6532 - val_loss: 15.6032 - val_mae: 198968.6562\n",
      "Epoch 68/100\n",
      "340/340 [==============================] - 3s 7ms/step - loss: 15.1911 - mae: 188845.0052 - val_loss: 16.5375 - val_mae: 201731.8594\n",
      "Epoch 69/100\n",
      "340/340 [==============================] - 3s 7ms/step - loss: 15.0659 - mae: 190456.5008 - val_loss: 15.6353 - val_mae: 194149.5938\n",
      "Epoch 70/100\n",
      "340/340 [==============================] - 3s 7ms/step - loss: 15.2425 - mae: 191980.1090 - val_loss: 15.6982 - val_mae: 195423.3438\n",
      "Epoch 71/100\n",
      "340/340 [==============================] - 3s 7ms/step - loss: 15.1162 - mae: 193964.3591 - val_loss: 16.1199 - val_mae: 204713.2969\n",
      "Epoch 72/100\n",
      "340/340 [==============================] - 3s 8ms/step - loss: 15.2442 - mae: 190261.7852 - val_loss: 14.9972 - val_mae: 191265.1719\n",
      "Epoch 73/100\n",
      "340/340 [==============================] - 3s 7ms/step - loss: 14.6524 - mae: 180425.2733 - val_loss: 15.5981 - val_mae: 194434.1250\n",
      "Epoch 74/100\n",
      "340/340 [==============================] - 3s 7ms/step - loss: 14.7254 - mae: 185755.4733 - val_loss: 15.1779 - val_mae: 197161.2188\n",
      "Epoch 75/100\n",
      "340/340 [==============================] - 3s 8ms/step - loss: 15.0463 - mae: 189996.9060 - val_loss: 15.4965 - val_mae: 196192.7031\n",
      "Epoch 76/100\n",
      "340/340 [==============================] - 2s 7ms/step - loss: 14.7059 - mae: 184018.7538 - val_loss: 15.9194 - val_mae: 196824.3125\n",
      "Epoch 77/100\n",
      "340/340 [==============================] - 3s 7ms/step - loss: 14.6685 - mae: 182355.5999 - val_loss: 15.3998 - val_mae: 192742.9062\n",
      "Epoch 78/100\n",
      "340/340 [==============================] - 3s 7ms/step - loss: 14.5797 - mae: 184229.2336 - val_loss: 15.6484 - val_mae: 194828.7344\n",
      "Epoch 79/100\n",
      "340/340 [==============================] - 2s 7ms/step - loss: 14.7821 - mae: 184905.6523 - val_loss: 15.7028 - val_mae: 201711.1875\n",
      "Epoch 80/100\n",
      "340/340 [==============================] - 3s 7ms/step - loss: 14.7824 - mae: 184469.2321 - val_loss: 15.3229 - val_mae: 197383.5156\n",
      "Epoch 81/100\n",
      "340/340 [==============================] - 3s 7ms/step - loss: 14.4996 - mae: 184685.8432 - val_loss: 15.2679 - val_mae: 197540.5000\n",
      "Epoch 82/100\n",
      "340/340 [==============================] - 2s 7ms/step - loss: 14.6813 - mae: 185776.5861 - val_loss: 15.8792 - val_mae: 200327.4688\n",
      "Epoch 83/100\n",
      "340/340 [==============================] - 2s 7ms/step - loss: 14.9738 - mae: 183882.5243 - val_loss: 15.9863 - val_mae: 206924.4531\n",
      "Epoch 84/100\n",
      "340/340 [==============================] - 2s 7ms/step - loss: 14.9530 - mae: 186252.7050 - val_loss: 16.1373 - val_mae: 199378.5625\n",
      "Epoch 85/100\n",
      "340/340 [==============================] - 3s 7ms/step - loss: 14.3879 - mae: 180794.0581 - val_loss: 15.5650 - val_mae: 197470.9531\n",
      "Epoch 86/100\n",
      "340/340 [==============================] - 3s 8ms/step - loss: 14.5276 - mae: 184457.0086 - val_loss: 14.8791 - val_mae: 188154.7031\n",
      "Epoch 87/100\n",
      "340/340 [==============================] - 2s 7ms/step - loss: 14.6158 - mae: 188294.4852 - val_loss: 15.4386 - val_mae: 204157.1719\n",
      "Epoch 88/100\n",
      "340/340 [==============================] - 2s 7ms/step - loss: 14.5965 - mae: 187692.0913 - val_loss: 16.2686 - val_mae: 197618.6875\n",
      "Epoch 89/100\n",
      "340/340 [==============================] - 2s 7ms/step - loss: 14.2990 - mae: 177388.6567 - val_loss: 15.3864 - val_mae: 197726.1719\n",
      "Epoch 90/100\n",
      "340/340 [==============================] - 3s 7ms/step - loss: 14.5809 - mae: 183692.1178 - val_loss: 15.8377 - val_mae: 196886.2500\n",
      "Epoch 91/100\n",
      "340/340 [==============================] - 2s 7ms/step - loss: 14.1040 - mae: 179404.6750 - val_loss: 15.9915 - val_mae: 196924.3125\n",
      "Epoch 92/100\n",
      "340/340 [==============================] - 2s 7ms/step - loss: 14.3061 - mae: 178846.3861 - val_loss: 15.4679 - val_mae: 194125.2969\n",
      "Epoch 93/100\n",
      "340/340 [==============================] - 3s 7ms/step - loss: 14.6015 - mae: 187967.1767 - val_loss: 15.4030 - val_mae: 200304.1406\n",
      "Epoch 94/100\n",
      "340/340 [==============================] - 3s 8ms/step - loss: 14.1548 - mae: 182195.9194 - val_loss: 14.9623 - val_mae: 192497.2188\n",
      "Epoch 95/100\n",
      "340/340 [==============================] - 3s 8ms/step - loss: 14.0886 - mae: 177408.1749 - val_loss: 15.0730 - val_mae: 192914.1250\n",
      "Epoch 96/100\n",
      "340/340 [==============================] - 3s 8ms/step - loss: 13.8604 - mae: 171863.7655 - val_loss: 15.3746 - val_mae: 195425.8125\n",
      "Epoch 97/100\n",
      "340/340 [==============================] - 3s 8ms/step - loss: 14.0244 - mae: 179600.4023 - val_loss: 16.0214 - val_mae: 194243.8281\n",
      "Epoch 98/100\n",
      "340/340 [==============================] - 3s 7ms/step - loss: 14.8881 - mae: 192345.4905 - val_loss: 16.0726 - val_mae: 198152.7969\n",
      "Epoch 99/100\n",
      "340/340 [==============================] - 3s 8ms/step - loss: 13.9290 - mae: 177371.9370 - val_loss: 15.4117 - val_mae: 194092.2188\n",
      "Epoch 100/100\n",
      "340/340 [==============================] - 2s 7ms/step - loss: 14.4171 - mae: 186225.5586 - val_loss: 15.5299 - val_mae: 197101.7031\n"
     ]
    }
   ],
   "source": [
    "history_tuned = model_tuned.fit(train_x, train_y, epochs = 100, validation_data = (valid_x, valid_y),\n",
    "          batch_size=32, verbose=1)"
   ]
  },
  {
   "cell_type": "code",
   "execution_count": 58,
   "metadata": {
    "colab": {
     "base_uri": "https://localhost:8080/",
     "height": 412
    },
    "executionInfo": {
     "elapsed": 1491,
     "status": "ok",
     "timestamp": 1615856575302,
     "user": {
      "displayName": "LUCAS MARQUES",
      "photoUrl": "https://lh3.googleusercontent.com/a-/AOh14Gh00T7DfV6a1bJ5srABNyobGkUK0lvOe0L_ogf3=s64",
      "userId": "04634687850896258389"
     },
     "user_tz": 180
    },
    "id": "DtQYSmtowwSP",
    "outputId": "4d06e433-32ec-4946-c213-ea644ee5e546"
   },
   "outputs": [
    {
     "data": {
      "image/png": "[encoded data removed]",
      "text/plain": [
       "<Figure size 1872x720 with 2 Axes>"
      ]
     },
     "metadata": {
      "tags": []
     },
     "output_type": "display_data"
    }
   ],
   "source": [
    "title_tuned = 'Métricas do modelo tunado'\n",
    "plotHistory(history_tuned, title_tuned)"
   ]
  },
  {
   "cell_type": "markdown",
   "metadata": {
    "id": "v16gEBG9wr5y"
   },
   "source": [
    "## Analisando os resultados"
   ]
  },
  {
   "cell_type": "code",
   "execution_count": 59,
   "metadata": {
    "colab": {
     "base_uri": "https://localhost:8080/"
    },
    "executionInfo": {
     "elapsed": 535,
     "status": "ok",
     "timestamp": 1615856689681,
     "user": {
      "displayName": "LUCAS MARQUES",
      "photoUrl": "https://lh3.googleusercontent.com/a-/AOh14Gh00T7DfV6a1bJ5srABNyobGkUK0lvOe0L_ogf3=s64",
      "userId": "04634687850896258389"
     },
     "user_tz": 180
    },
    "id": "fWVFLQKUwqdr",
    "outputId": "653028af-5d41-4aed-e25c-192bebbbc23c"
   },
   "outputs": [
    {
     "name": "stdout",
     "output_type": "stream",
     "text": [
      "First Tiny Model:\n",
      "Mean Absolute Percentage Error = 100.000 \n",
      "Mean Absolute Error = 1011479.188\n"
     ]
    }
   ],
   "source": [
    "print(\"First Tiny Model:\")\n",
    "mape, mae = model_first.evaluate(x=test_x, y=test_y, batch_size=32, verbose=0)\n",
    "print('Mean Absolute Percentage Error = {:.3f} \\nMean Absolute Error = {:.3f}'.format(mape, mae))"
   ]
  },
  {
   "cell_type": "code",
   "execution_count": 60,
   "metadata": {
    "colab": {
     "base_uri": "https://localhost:8080/"
    },
    "executionInfo": {
     "elapsed": 483,
     "status": "ok",
     "timestamp": 1615856690532,
     "user": {
      "displayName": "LUCAS MARQUES",
      "photoUrl": "https://lh3.googleusercontent.com/a-/AOh14Gh00T7DfV6a1bJ5srABNyobGkUK0lvOe0L_ogf3=s64",
      "userId": "04634687850896258389"
     },
     "user_tz": 180
    },
    "id": "w8iQddqW7gx2",
    "outputId": "2b404bc7-bf45-46c1-a05d-d77531fad500"
   },
   "outputs": [
    {
     "name": "stdout",
     "output_type": "stream",
     "text": [
      "Large Model:\n",
      "Mean Absolute Percentage Error = 16.642 \n",
      "Mean Absolute Error = 176527.297\n"
     ]
    }
   ],
   "source": [
    "print(\"Large Model:\")\n",
    "mape, mae = model_large.evaluate(x=test_x, y=test_y, batch_size=32, verbose=0)\n",
    "print('Mean Absolute Percentage Error = {:.3f} \\nMean Absolute Error = {:.3f}'.format(mape, mae))"
   ]
  },
  {
   "cell_type": "code",
   "execution_count": 61,
   "metadata": {
    "colab": {
     "base_uri": "https://localhost:8080/"
    },
    "executionInfo": {
     "elapsed": 835,
     "status": "ok",
     "timestamp": 1615856692421,
     "user": {
      "displayName": "LUCAS MARQUES",
      "photoUrl": "https://lh3.googleusercontent.com/a-/AOh14Gh00T7DfV6a1bJ5srABNyobGkUK0lvOe0L_ogf3=s64",
      "userId": "04634687850896258389"
     },
     "user_tz": 180
    },
    "id": "jWjRottFonrN",
    "outputId": "d06bc8e3-58a2-4de4-f6a0-97474b744ff8"
   },
   "outputs": [
    {
     "name": "stdout",
     "output_type": "stream",
     "text": [
      "Tuned Model:\n",
      "Mean Absolute Percentage Error = 15.520 \n",
      "Mean Absolute Error = 165066.469\n"
     ]
    }
   ],
   "source": [
    "print(\"Tuned Model:\")\n",
    "mape, mae = model_tuned.evaluate(x=test_x, y=test_y, batch_size=32, verbose=0)\n",
    "print('Mean Absolute Percentage Error = {:.3f} \\nMean Absolute Error = {:.3f}'.format(mape, mae))"
   ]
  },
  {
   "cell_type": "code",
   "execution_count": 76,
   "metadata": {
    "colab": {
     "base_uri": "https://localhost:8080/",
     "height": 732
    },
    "executionInfo": {
     "elapsed": 1488,
     "status": "ok",
     "timestamp": 1615858132449,
     "user": {
      "displayName": "LUCAS MARQUES",
      "photoUrl": "https://lh3.googleusercontent.com/a-/AOh14Gh00T7DfV6a1bJ5srABNyobGkUK0lvOe0L_ogf3=s64",
      "userId": "04634687850896258389"
     },
     "user_tz": 180
    },
    "id": "-YBsMwoqovGr",
    "outputId": "3ce8f62f-7e0a-4387-badb-602370f70b18"
   },
   "outputs": [
    {
     "data": {
      "image/png": "[encoded data removed]",
      "text/plain": [
       "<Figure size 1872x864 with 1 Axes>"
      ]
     },
     "metadata": {
      "tags": []
     },
     "output_type": "display_data"
    }
   ],
   "source": [
    "predictions_tiny = model_first.predict(test_x)\n",
    "predictions_large = model_large.predict(test_x)\n",
    "predictions_tuned = model_tuned.predict(test_x)\n",
    "\n",
    "x_values = list(range(len(test_y[:50])))\n",
    "\n",
    "plt.figure(figsize=(26,12))\n",
    "plt.scatter(x_values, predictions_tiny[:50], label=\"Tiny\")\n",
    "plt.scatter(x_values, predictions_large[:50], marker=\"D\",label=\"Complex\")\n",
    "plt.scatter(x_values, predictions_tuned[:50], marker=\"*\",label=\"Tuned\")\n",
    "plt.scatter(x_values, test_y[:50], marker=\"X\",label=\"True Values\")\n",
    "plt.legend(loc=\"best\")\n",
    "plt.title(\"Comparando os modelos\", fontsize=16)\n",
    "plt.xlabel(\"Índice da casa\")\n",
    "plt.ylabel(\"Valor da Casa (U$)\")\n",
    "plt.savefig(\"/content/gdrive/MyDrive/Engenharia Elétrica/Deep Learning/Comparando_modelos\")\n",
    "plt.show()"
   ]
  }
 ],
 "metadata": {
  "accelerator": "GPU",
  "colab": {
   "authorship_tag": "ABX9TyPJssBgLxR5f81AaZnZZ7S4",
   "collapsed_sections": [],
   "name": "HousePricePrediction.ipynb",
   "provenance": []
  },
  "kernelspec": {
   "display_name": "Python 3 (ipykernel)",
   "language": "python",
   "name": "python3"
  },
  "language_info": {
   "codemirror_mode": {
    "name": "ipython",
    "version": 3
   },
   "file_extension": ".py",
   "mimetype": "text/x-python",
   "name": "python",
   "nbconvert_exporter": "python",
   "pygments_lexer": "ipython3",
   "version": "3.9.12"
  }
 },
 "nbformat": 4,
 "nbformat_minor": 1
}
